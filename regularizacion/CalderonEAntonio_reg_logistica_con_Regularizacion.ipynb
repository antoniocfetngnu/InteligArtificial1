{
  "cells": [
    {
      "cell_type": "markdown",
      "metadata": {
        "id": "view-in-github",
        "colab_type": "text"
      },
      "source": [
        "<a href=\"https://colab.research.google.com/github/antoniocfetngnu/InteligArtificial1/blob/main/regularizacion/CalderonEAntonio_reg_logistica_con_Regularizacion.ipynb\" target=\"_parent\"><img src=\"https://colab.research.google.com/assets/colab-badge.svg\" alt=\"Open In Colab\"/></a>"
      ]
    },
    {
      "cell_type": "markdown",
      "metadata": {
        "id": "9L0KhPHmJVNa"
      },
      "source": [
        "# 1. Análisis del Dataset\n",
        "\n",
        "https://www.kaggle.com/datasets/jsphyg/weather-dataset-rattle-package\n",
        "\n",
        "\n",
        "\n",
        "Antes de iniciar con los modelos. Realizamos un análisis del DataSet que usaremos en el ejercicio, a continuación, se presenta la información disponible en la fuente:"
      ]
    },
    {
      "cell_type": "markdown",
      "source": [
        "##CONTENIDO\n",
        "*Este conjunto de datos contiene aproximadamente 10 años de observaciones meteorológicas diarias de muchas ubicaciones en toda Australia.*\n",
        "\n",
        "*\"RainTomorrow\" es la variable objetivo a predecir. Significa: ¿llovió el próximo día, Sí o No? Esta columna es \"Sí\" si la lluvia para ese día fue de 1 mm o más.*"
      ],
      "metadata": {
        "id": "NDRzNpeq083N"
      }
    },
    {
      "cell_type": "markdown",
      "source": [
        "\n",
        "\n",
        "Algunas columnas relevantes en el conjunto de datos:\n",
        "\n",
        "    Date: la fecha de la observación.\n",
        "    Location: el lugar (ciudad) de la observación\n",
        "    MinTemp: mínima temperatura alcanzada\n",
        "    MaxTemp: máxima temperatura alcanzada\n",
        "    RainFall: Cantidad de lluvia en mm en el dia de observación\n",
        "    Evaporation: Cantidad de agua que se evapora\n",
        "    Sunshine: Cantidad de timpo de luz solar en el día\n",
        "    WindGustDir:Dirección de mayor ráfaga del viento en el día (solo si existío una ráfaga suficientemente fuerte)\n",
        "    WindGustSpeed: Velocidad de la ráfaga de viento\n",
        "    WindGustDir: Dirección de ráfaga de viento\n",
        "    Humidity9am: humedad a las 9 de la mañana\n",
        "    Pressure3pm: presión a las 3 de la tarde\n",
        "    Cloud: nubosidad\n",
        "    Temp: Temperatura\n",
        "    RainToday: Si llovió hoy\n",
        "    RainTomorrow: Si llovió mañana(salida)\n",
        "\n"
      ],
      "metadata": {
        "id": "PaBBcwGM1Zve"
      }
    },
    {
      "cell_type": "markdown",
      "source": [
        "##Importación de Librerías\n",
        "Una vez familiarizados con el contenido del Dataset, proseguiremos a limpiar y acomodar la información antes de realizar la regresión logística. Primero importamos todas las librerías necesarias."
      ],
      "metadata": {
        "id": "9zcxodtH45p7"
      }
    },
    {
      "cell_type": "code",
      "execution_count": 26,
      "metadata": {
        "id": "Eg6cIE74JVNd"
      },
      "outputs": [],
      "source": [
        "# se utiliza para el manejo de rutas y directorios.\n",
        "import os\n",
        "import pandas as pd\n",
        "import numpy as np\n",
        "from sklearn.preprocessing import StandardScaler\n",
        "from sklearn.model_selection import train_test_split\n",
        "from sklearn.metrics import accuracy_score\n",
        "from matplotlib import pyplot\n",
        "\n",
        "# le dice a matplotlib que incruste gráficos en el cuaderno\n",
        "%matplotlib inline"
      ]
    },
    {
      "cell_type": "markdown",
      "source": [
        "Importamos el dataset **weatherAUS**, y comprobamos que se importó correctamente"
      ],
      "metadata": {
        "id": "mvekSJIc8cMt"
      }
    },
    {
      "cell_type": "code",
      "source": [
        "pd.set_option('display.max_columns', None)\n",
        "df = pd.read_csv('weatherAUS.csv')\n",
        "print(df.head())"
      ],
      "metadata": {
        "id": "NWh-PbkC66LR",
        "colab": {
          "base_uri": "https://localhost:8080/"
        },
        "outputId": "76e74165-3c30-4509-836b-cc7fb3c1544e"
      },
      "execution_count": 27,
      "outputs": [
        {
          "output_type": "stream",
          "name": "stdout",
          "text": [
            "         Date Location  MinTemp  MaxTemp  Rainfall  Evaporation  Sunshine  \\\n",
            "0  2008-12-01   Albury     13.4     22.9       0.6          NaN       NaN   \n",
            "1  2008-12-02   Albury      7.4     25.1       0.0          NaN       NaN   \n",
            "2  2008-12-03   Albury     12.9     25.7       0.0          NaN       NaN   \n",
            "3  2008-12-04   Albury      9.2     28.0       0.0          NaN       NaN   \n",
            "4  2008-12-05   Albury     17.5     32.3       1.0          NaN       NaN   \n",
            "\n",
            "  WindGustDir  WindGustSpeed WindDir9am WindDir3pm  WindSpeed9am  \\\n",
            "0           W           44.0          W        WNW          20.0   \n",
            "1         WNW           44.0        NNW        WSW           4.0   \n",
            "2         WSW           46.0          W        WSW          19.0   \n",
            "3          NE           24.0         SE          E          11.0   \n",
            "4           W           41.0        ENE         NW           7.0   \n",
            "\n",
            "   WindSpeed3pm  Humidity9am  Humidity3pm  Pressure9am  Pressure3pm  Cloud9am  \\\n",
            "0          24.0         71.0         22.0       1007.7       1007.1       8.0   \n",
            "1          22.0         44.0         25.0       1010.6       1007.8       NaN   \n",
            "2          26.0         38.0         30.0       1007.6       1008.7       NaN   \n",
            "3           9.0         45.0         16.0       1017.6       1012.8       NaN   \n",
            "4          20.0         82.0         33.0       1010.8       1006.0       7.0   \n",
            "\n",
            "   Cloud3pm  Temp9am  Temp3pm RainToday RainTomorrow  \n",
            "0       NaN     16.9     21.8        No           No  \n",
            "1       NaN     17.2     24.3        No           No  \n",
            "2       2.0     21.0     23.2        No           No  \n",
            "3       NaN     18.1     26.5        No           No  \n",
            "4       8.0     17.8     29.7        No           No  \n"
          ]
        }
      ]
    },
    {
      "cell_type": "markdown",
      "metadata": {
        "id": "t52vBnb_JVNe"
      },
      "source": [
        "#Preparación de los Datos\n",
        "Analizando los datos, podemos observar que varias columnas tienen gran cantidad de nulos (nan, NA) por tanto para tener un modelo exitosos se debe decidir la forma de tratarlos."
      ]
    },
    {
      "cell_type": "code",
      "execution_count": 28,
      "metadata": {
        "colab": {
          "base_uri": "https://localhost:8080/"
        },
        "id": "WVzUelTXJVNe",
        "outputId": "f0fa4466-928c-4b1a-da28-919d01b012eb"
      },
      "outputs": [
        {
          "output_type": "stream",
          "name": "stdout",
          "text": [
            "Número de valores NaN en la columna 'WindGustSpeed': 10263\n",
            "Número de valores NaN en la columna 'WindGustDir': 10326\n",
            "Número de valores NaN en la columna 'WindSpeed9am': 1767\n",
            "Número de valores NaN en la columna 'WindSpeed3pm': 3062\n",
            "------------------------------------------------------------\n",
            "Número de valores NaN en la columna 'WindGustDir': 10326\n",
            "Número de valores NaN en la columna 'WindDir3pm': 4228\n",
            "Número de valores NaN en la columna 'WindDir9am': 10566\n",
            "------------------------------------------------------------\n",
            "Número de valores NaN en la columna 'Pressure9am': 15065\n",
            "Número de valores NaN en la columna 'Pressure3pm': 15028\n",
            "------------------------------------------------------------\n",
            "Número de valores NaN en la columna 'Cloud9am': 55888\n",
            "Número de valores NaN en la columna 'Cloud3pm': 59358\n",
            "------------------------------------------------------------\n",
            "Número de valores NaN en la columna 'Humidity9am': 2654\n",
            "Número de valores NaN en la columna 'Humidity3pm': 4507\n",
            "Número de valores NaN en la columna 'Temp9am': 1767\n",
            "Número de valores NaN en la columna 'Temp3pm': 3609\n",
            "------------------------------------------------------------\n",
            "Número de valores NaN en la columna 'RainToday': 3261\n",
            "Número de valores NaN en la columna 'RainTomorrow': 3267\n"
          ]
        }
      ],
      "source": [
        "# Contar el número de valores NaN\n",
        "num_nan_wind_gust_speed = df['WindGustSpeed'].isna().sum()\n",
        "num_nan_wind_gust_dir = df['WindGustDir'].isna().sum()\n",
        "num_nan_wind_gust_speed9 = df['WindSpeed9am'].isna().sum()\n",
        "num_nan_wind_gust_speed3 = df['WindSpeed3pm'].isna().sum()\n",
        "\n",
        "\n",
        "num_nan_windGustDir = df['WindGustDir'].isna().sum()\n",
        "num_nan_windDir3pm = df['WindDir3pm'].isna().sum()\n",
        "num_nan_windDir9am = df['WindDir9am'].isna().sum()\n",
        "\n",
        "num_nan_pressure9am = df['Pressure9am'].isna().sum()\n",
        "num_nan_pressure3pm = df['Pressure3pm'].isna().sum()\n",
        "\n",
        "num_nan_cloud9am = df['Cloud9am'].isna().sum()\n",
        "num_nan_cloud3pm = df['Cloud3pm'].isna().sum()\n",
        "\n",
        "num_nan_humidity9am = df['Humidity9am'].isna().sum()\n",
        "num_nan_humidity3pm = df['Humidity3pm'].isna().sum()\n",
        "\n",
        "num_nan_temp9am = df['Temp9am'].isna().sum()\n",
        "num_nan_temp3pm = df['Temp3pm'].isna().sum()\n",
        "\n",
        "num_nan_rainToday = df['RainToday'].isna().sum()\n",
        "num_nan_rainTomorrow = df['RainTomorrow'].isna().sum()\n",
        "\n",
        "#----------------------------\n",
        "print(\"Número de valores NaN en la columna 'WindGustSpeed':\", num_nan_wind_gust_speed)\n",
        "print(\"Número de valores NaN en la columna 'WindGustDir':\", num_nan_wind_gust_dir)\n",
        "print(\"Número de valores NaN en la columna 'WindSpeed9am':\", num_nan_wind_gust_speed9)\n",
        "print(\"Número de valores NaN en la columna 'WindSpeed3pm':\", num_nan_wind_gust_speed3)\n",
        "print('--'*30)\n",
        "print(\"Número de valores NaN en la columna 'WindGustDir':\", num_nan_windGustDir)\n",
        "print(\"Número de valores NaN en la columna 'WindDir3pm':\", num_nan_windDir3pm)\n",
        "print(\"Número de valores NaN en la columna 'WindDir9am':\", num_nan_windDir9am)\n",
        "print('--'*30)\n",
        "print(\"Número de valores NaN en la columna 'Pressure9am':\", num_nan_pressure9am)\n",
        "print(\"Número de valores NaN en la columna 'Pressure3pm':\", num_nan_pressure3pm)\n",
        "print('--'*30)\n",
        "print(\"Número de valores NaN en la columna 'Cloud9am':\", num_nan_cloud9am)\n",
        "print(\"Número de valores NaN en la columna 'Cloud3pm':\", num_nan_cloud3pm)\n",
        "print('--'*30)\n",
        "print(\"Número de valores NaN en la columna 'Humidity9am':\", num_nan_humidity9am)\n",
        "print(\"Número de valores NaN en la columna 'Humidity3pm':\", num_nan_humidity3pm)\n",
        "print(\"Número de valores NaN en la columna 'Temp9am':\", num_nan_temp9am)\n",
        "print(\"Número de valores NaN en la columna 'Temp3pm':\", num_nan_temp3pm)\n",
        "print('--'*30)\n",
        "print(\"Número de valores NaN en la columna 'RainToday':\", num_nan_rainToday)\n",
        "print(\"Número de valores NaN en la columna 'RainTomorrow':\", num_nan_rainTomorrow)"
      ]
    },
    {
      "cell_type": "markdown",
      "source": [
        "Como se puede observar, tenemos muchas columnas con valores NaN, a continuación se hace el análisis y tratado de los datos:"
      ],
      "metadata": {
        "id": "CkThtFDQ-Nm-"
      }
    },
    {
      "cell_type": "markdown",
      "source": [
        "###Llenado de valores NaN con las medias\n",
        "\n",
        "Los valores nulos en las columnas se llenan con las **medias** porque la **media** es una medida central que representa el **valor típico** de los datos en esas columnas. Al llenar los espacios vacíos con la media, estamos reemplazando los valores faltantes con un **valor que es representativo** del conjunto de datos en su conjunto, lo que ayuda a preservar la estructura y la distribución de los datos originales. Esto nos permite mantener la integridad de los datos y utilizar la información disponible de manera eficiente para análisis posteriores o modelos de predicción.\n",
        "\n",
        "Hay que aclarar que esto se realiza a las columnas cuyo análisis nos entregue que se pueda realizar esta adaptación, en otras columnas no se puede realizar esto.\n",
        "Por tanto:"
      ],
      "metadata": {
        "id": "e9rhkgIY-wE7"
      }
    },
    {
      "cell_type": "code",
      "source": [
        "# Llenar los valores nulos en las columnas \"MinTemp\" y \"MaxTemp\" con las medias, tambien se hizo para pressure9am..3pm\n",
        "mean_tempMin = df[\"MinTemp\"].mean()\n",
        "df[\"MinTemp\"] = df[\"MinTemp\"].fillna(mean_tempMin)\n",
        "mean_tempMax = df[\"MaxTemp\"].mean()\n",
        "df[\"MaxTemp\"] = df[\"MaxTemp\"].fillna(mean_tempMax)\n",
        "\n",
        "mean_pressure9am = df[\"Pressure9am\"].mean()\n",
        "df[\"Pressure9am\"] = df[\"Pressure9am\"].fillna(mean_pressure9am)\n",
        "mean_pressure3pm = df[\"Pressure3pm\"].mean()\n",
        "df[\"Pressure3pm\"] = df[\"Pressure3pm\"].fillna(mean_pressure3pm)\n",
        "\n",
        "mean_cloud9am = df[\"Cloud9am\"].mean()\n",
        "df[\"Cloud9am\"] = df[\"Cloud9am\"].fillna(mean_cloud9am)\n",
        "mean_could3pm = df[\"Cloud3pm\"].mean()\n",
        "df[\"Cloud3pm\"] = df[\"Cloud3pm\"].fillna(mean_could3pm)\n",
        "\n",
        "mean_hum9am = df[\"Humidity9am\"].mean()\n",
        "df[\"Humidity9am\"] = df[\"Humidity9am\"].fillna(mean_hum9am)\n",
        "mean_hum3pm = df[\"Humidity3pm\"].mean()\n",
        "df[\"Humidity3pm\"] = df[\"Humidity3pm\"].fillna(mean_hum3pm)\n",
        "\n",
        "mean_temp9am = df[\"Temp9am\"].mean()\n",
        "df[\"Temp9am\"] = df[\"Temp9am\"].fillna(mean_temp9am)\n",
        "mean_temp3pm = df[\"Temp3pm\"].mean()\n",
        "df[\"Temp3pm\"] = df[\"Temp3pm\"].fillna(mean_temp3pm)"
      ],
      "metadata": {
        "id": "EFgK547V_dpD"
      },
      "execution_count": 29,
      "outputs": []
    },
    {
      "cell_type": "markdown",
      "source": [
        "### Llenado de valores con NaN con *0*\n",
        "Una vez llenados con la media a las columnas que se puede aplicar esta técnica, toca **llenar con 0 en lugar de la media a otras columnas** que después de un análisis, no parece correcto aplicar la media debido a la variedad de datos que no se representan con la media. Entonces:"
      ],
      "metadata": {
        "id": "iKwKPXql_jiZ"
      }
    },
    {
      "cell_type": "code",
      "source": [
        "#Rainfall, Evaporation y Sunshine\n",
        "df['Rainfall'] = df[\"Rainfall\"].fillna(0)\n",
        "df['Evaporation'] = df[\"Evaporation\"].fillna(0)\n",
        "df['Sunshine'] = df[\"Sunshine\"].fillna(0)"
      ],
      "metadata": {
        "id": "acV2pmv8_2Yp"
      },
      "execution_count": 30,
      "outputs": []
    },
    {
      "cell_type": "markdown",
      "source": [
        "Para nuestro ejercicio, tenemos columnas que a pesar de representar un dato binario, lo hacen mediante Strings, por tanto debemos adaptarlos a un valor numérico con el fin de poder realizar la regresión logística, por tanto:"
      ],
      "metadata": {
        "id": "WzPMBlSl__uk"
      }
    },
    {
      "cell_type": "code",
      "source": [
        "#mapeamos a 0 y 1 RainToday y RainTomorrow\n",
        "df['RainToday'] = df['RainToday'].map({'Yes': 1, 'No': 0})\n",
        "df['RainTomorrow'] = df['RainTomorrow'].map({'Yes': 1, 'No': 0})"
      ],
      "metadata": {
        "id": "Qyd1U9m8AOZp"
      },
      "execution_count": 31,
      "outputs": []
    },
    {
      "cell_type": "markdown",
      "source": [
        "###Eliminación de Tuplas\n",
        "En algunos pasos, luego de analizar los datos, se llega a la conclusión que no es correcto sacar la media, tampoco llenar los valores con 0 (afectaría negativamente asumiendo 0), por tanto se procede a la eliminación de la tupla entera conteniendo los valores NaN de las columnas aun no tratadas:"
      ],
      "metadata": {
        "id": "gNhvlhaVCBGC"
      }
    },
    {
      "cell_type": "code",
      "source": [
        "#Eliminacion de los valores nulos en WindGustDir, WindGustSpeed, WindSpeed9am, WindSpeed9am, WindSpeed3pm, WindDir3pm, WindDir9am\n",
        "df = df.dropna(subset=['WindGustDir'])\n",
        "df = df.dropna(subset=['WindGustSpeed'])\n",
        "df = df.dropna(subset=['WindSpeed9am'])\n",
        "df = df.dropna(subset=['WindSpeed3pm'])\n",
        "df = df.dropna(subset=['WindDir3pm'])\n",
        "df = df.dropna(subset=['WindDir9am'])\n",
        "df = df.dropna(subset=['RainToday'])\n",
        "df = df.dropna(subset=['RainTomorrow'])"
      ],
      "metadata": {
        "id": "GqyLo1d5CBVr"
      },
      "execution_count": 32,
      "outputs": []
    },
    {
      "cell_type": "markdown",
      "source": [
        "Ahora comprobamos como quedaron las columnas luego de la adaptación anterior:"
      ],
      "metadata": {
        "id": "A8QB_QSpCell"
      }
    },
    {
      "cell_type": "code",
      "source": [
        "#Contar el número de valores NaN\n",
        "num_nan_wind_gust_speed = df['WindGustSpeed'].isna().sum()\n",
        "num_nan_wind_gust_dir = df['WindGustDir'].isna().sum()\n",
        "num_nan_wind_gust_speed9 = df['WindSpeed9am'].isna().sum()\n",
        "num_nan_wind_gust_speed3 = df['WindSpeed3pm'].isna().sum()\n",
        "\n",
        "\n",
        "num_nan_windGustDir = df['WindGustDir'].isna().sum()\n",
        "num_nan_windDir3pm = df['WindDir3pm'].isna().sum()\n",
        "num_nan_windDir9am = df['WindDir9am'].isna().sum()\n",
        "\n",
        "num_nan_pressure9am = df['Pressure9am'].isna().sum()\n",
        "num_nan_pressure3pm = df['Pressure3pm'].isna().sum()\n",
        "\n",
        "num_nan_cloud9am = df['Cloud9am'].isna().sum()\n",
        "num_nan_cloud3pm = df['Cloud3pm'].isna().sum()\n",
        "\n",
        "num_nan_humidity9am = df['Humidity9am'].isna().sum()\n",
        "num_nan_humidity3pm = df['Humidity3pm'].isna().sum()\n",
        "\n",
        "num_nan_temp9am = df['Temp9am'].isna().sum()\n",
        "num_nan_temp3pm = df['Temp3pm'].isna().sum()\n",
        "\n",
        "num_nan_rainToday = df['RainToday'].isna().sum()\n",
        "num_nan_rainTomorrow = df['RainTomorrow'].isna().sum()\n",
        "\n",
        "#----------------------------\n",
        "print(\"Número de valores NaN en la columna 'WindGustSpeed':\", num_nan_wind_gust_speed)\n",
        "print(\"Número de valores NaN en la columna 'WindGustDir':\", num_nan_wind_gust_dir)\n",
        "print(\"Número de valores NaN en la columna 'WindSpeed9am':\", num_nan_wind_gust_speed9)\n",
        "print(\"Número de valores NaN en la columna 'WindSpeed3pm':\", num_nan_wind_gust_speed3)\n",
        "print('--'*30)\n",
        "print(\"Número de valores NaN en la columna 'WindGustDir':\", num_nan_windGustDir)\n",
        "print(\"Número de valores NaN en la columna 'WindDir3pm':\", num_nan_windDir3pm)\n",
        "print(\"Número de valores NaN en la columna 'WindDir9am':\", num_nan_windDir9am)\n",
        "print('--'*30)\n",
        "print(\"Número de valores NaN en la columna 'Pressure9am':\", num_nan_pressure9am)\n",
        "print(\"Número de valores NaN en la columna 'Pressure3pm':\", num_nan_pressure3pm)\n",
        "print('--'*30)\n",
        "print(\"Número de valores NaN en la columna 'Cloud9am':\", num_nan_cloud9am)\n",
        "print(\"Número de valores NaN en la columna 'Cloud3pm':\", num_nan_cloud3pm)\n",
        "print('--'*30)\n",
        "print(\"Número de valores NaN en la columna 'Humidity9am':\", num_nan_humidity9am)\n",
        "print(\"Número de valores NaN en la columna 'Humidity3pm':\", num_nan_humidity3pm)\n",
        "print(\"Número de valores NaN en la columna 'Temp9am':\", num_nan_temp9am)\n",
        "print(\"Número de valores NaN en la columna 'Temp3pm':\", num_nan_temp3pm)\n",
        "print('--'*30)\n",
        "print(\"Número de valores NaN en la columna 'RainToday':\", num_nan_rainToday)\n",
        "print(\"Número de valores NaN en la columna 'RainTomorrow':\", num_nan_rainTomorrow)"
      ],
      "metadata": {
        "colab": {
          "base_uri": "https://localhost:8080/"
        },
        "id": "l_LnaGXdDqi1",
        "outputId": "89624f97-7bb6-429c-f306-551eea9859ce"
      },
      "execution_count": 33,
      "outputs": [
        {
          "output_type": "stream",
          "name": "stdout",
          "text": [
            "Número de valores NaN en la columna 'WindGustSpeed': 0\n",
            "Número de valores NaN en la columna 'WindGustDir': 0\n",
            "Número de valores NaN en la columna 'WindSpeed9am': 0\n",
            "Número de valores NaN en la columna 'WindSpeed3pm': 0\n",
            "------------------------------------------------------------\n",
            "Número de valores NaN en la columna 'WindGustDir': 0\n",
            "Número de valores NaN en la columna 'WindDir3pm': 0\n",
            "Número de valores NaN en la columna 'WindDir9am': 0\n",
            "------------------------------------------------------------\n",
            "Número de valores NaN en la columna 'Pressure9am': 0\n",
            "Número de valores NaN en la columna 'Pressure3pm': 0\n",
            "------------------------------------------------------------\n",
            "Número de valores NaN en la columna 'Cloud9am': 0\n",
            "Número de valores NaN en la columna 'Cloud3pm': 0\n",
            "------------------------------------------------------------\n",
            "Número de valores NaN en la columna 'Humidity9am': 0\n",
            "Número de valores NaN en la columna 'Humidity3pm': 0\n",
            "Número de valores NaN en la columna 'Temp9am': 0\n",
            "Número de valores NaN en la columna 'Temp3pm': 0\n",
            "------------------------------------------------------------\n",
            "Número de valores NaN en la columna 'RainToday': 0\n",
            "Número de valores NaN en la columna 'RainTomorrow': 0\n"
          ]
        }
      ]
    },
    {
      "cell_type": "markdown",
      "source": [
        "## Tratado y conversión de variables cíclicas\n",
        "De la misma forma, al igual que en el anterior ejercicio, hay que volver en cíclicas las variables que así se necesiten, recordando que esto se aplica a variables donde en un valor elevado específico vuelven a su valor inicial (ciclicas), por ejemplo los meses: siendo Enero 1 y Diciembre 12, luego de Dicembre, viene nuevamente 1 (ciclica) y debemos encontrar una forma de representar la cercanía entre ambos valores.\n",
        "![image.png](data:image/png;base64,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)"
      ],
      "metadata": {
        "id": "0TvFOoXKAbVP"
      }
    },
    {
      "cell_type": "markdown",
      "source": [
        "Ya que en la predicción de lluvia, es importante las estaciones, aplicaremos la variable cíclica a los meses del año (extrayendo de la columna Date), de la misma forma, en las direcciones del viento (Norte, Sur, Sureste) debemos volverlo cíclicas. Entonces:"
      ],
      "metadata": {
        "id": "185HNxVTBcWd"
      }
    },
    {
      "cell_type": "code",
      "source": [
        "# Convertir las direcciones del viento en grados\n",
        "direccion_grados = {\n",
        "    'N': 0,\n",
        "    'NNE': 22.5,\n",
        "    'NE': 45,\n",
        "    'ENE': 67.5,\n",
        "    'E': 90,\n",
        "    'ESE': 112.5,\n",
        "    'SE': 135,\n",
        "    'SSE': 157.5,\n",
        "    'S': 180,\n",
        "    'SSW': 202.5,\n",
        "    'SW': 225,\n",
        "    'WSW': 247.5,\n",
        "    'W': 270,\n",
        "    'WNW': 292.5,\n",
        "    'NW': 315,\n",
        "    'NNW': 337.5\n",
        "}\n",
        "\n",
        "# Convertir la columna de direcciones del viento en grados\n",
        "df['WindGustDir'] = df['WindGustDir'].map(direccion_grados)\n",
        "df['WindDir9am'] = df['WindDir9am'].map(direccion_grados)\n",
        "df['WindDir3pm'] = df['WindDir3pm'].map(direccion_grados)"
      ],
      "metadata": {
        "id": "vzg8C3V-BwM2"
      },
      "execution_count": 34,
      "outputs": []
    },
    {
      "cell_type": "markdown",
      "source": [
        "## One Hot Encoding (antes de proseguir con V. Ciclicas)\n",
        "Antes de proseguir con la adaptación a cíclicas las variables de dirección de viento y mese, nos encontramos con que unas columnas cuentan con una característica de texto categórica, que no se puede adaptar ordinalmente por tanto, toca aplicar el **one-hot encoding**"
      ],
      "metadata": {
        "id": "afHwxsXeEqD6"
      }
    },
    {
      "cell_type": "code",
      "source": [
        "ocurrencias = df['Location'].value_counts()\n",
        "# Aplicar one-hot encoding a la columna \"Location\"\n",
        "one_hot_encoded = pd.get_dummies(df['Location'])\n",
        "# Convertir a enteros (1 y 0)\n",
        "one_hot_encoded = one_hot_encoded.astype(int)\n",
        "# Concatenar el DataFrame original con el DataFrame one-hot encoded\n",
        "df_encoded = pd.concat([df, one_hot_encoded], axis=1)\n",
        "df_encoded.drop('Location', axis=1, inplace=True)"
      ],
      "metadata": {
        "id": "9j7yCdvbE7ls"
      },
      "execution_count": 35,
      "outputs": []
    },
    {
      "cell_type": "markdown",
      "source": [
        "Continuación de tratado de **variables cíclica**s"
      ],
      "metadata": {
        "id": "K_TJsWcDFlzx"
      }
    },
    {
      "cell_type": "code",
      "source": [
        "#CONVERTIR A DATETIME LA COLUMNA Date\n",
        "df_encoded['Date'] = pd.to_datetime(df['Date'])\n",
        "\n",
        "# Extraer el mes de la fecha y crear una nueva columna \"month\"\n",
        "df_encoded['Month'] = df_encoded['Date'].dt.month"
      ],
      "metadata": {
        "id": "5zGIQ2xKGOlx"
      },
      "execution_count": 36,
      "outputs": []
    },
    {
      "cell_type": "code",
      "source": [
        "#TRATAMIENTO DE LAS VARIABLES CICLICAS\n",
        "# Obtener el mes de la columna 'Month'\n",
        "meses = df_encoded['Month']\n",
        "\n",
        "# Calcular el ángulo para el seno y el coseno\n",
        "alpha = (meses - 1) * 2 * np.pi / 12\n",
        "\n",
        "# Calcular las representaciones cíclicas de los meses\n",
        "meses_ciclicos = pd.DataFrame()\n",
        "meses_ciclicos['original']= df_encoded['Month']\n",
        "meses_ciclicos['mes_seno'] = np.sin(alpha)\n",
        "meses_ciclicos['mes_coseno'] = np.cos(alpha)\n",
        "# Verificar las representaciones cíclicas\n",
        "print(\"Representaciones cíclicas de los meses:\")\n",
        "print(meses_ciclicos.head(10))"
      ],
      "metadata": {
        "colab": {
          "base_uri": "https://localhost:8080/"
        },
        "id": "_R2Ig1m7Fonx",
        "outputId": "a67eddca-3336-4349-a34f-38cbe7efb712"
      },
      "execution_count": 37,
      "outputs": [
        {
          "output_type": "stream",
          "name": "stdout",
          "text": [
            "Representaciones cíclicas de los meses:\n",
            "   original  mes_seno  mes_coseno\n",
            "0        12      -0.5    0.866025\n",
            "1        12      -0.5    0.866025\n",
            "2        12      -0.5    0.866025\n",
            "3        12      -0.5    0.866025\n",
            "4        12      -0.5    0.866025\n",
            "5        12      -0.5    0.866025\n",
            "6        12      -0.5    0.866025\n",
            "7        12      -0.5    0.866025\n",
            "8        12      -0.5    0.866025\n",
            "9        12      -0.5    0.866025\n"
          ]
        }
      ]
    },
    {
      "cell_type": "markdown",
      "source": [
        "Una vez comprobada la correcta adaptción de los meses a cíclico, debemos concatenarlo a un nuevo dataframe que incluya estos datos. Entonces:"
      ],
      "metadata": {
        "id": "hJcWYwRNGobw"
      }
    },
    {
      "cell_type": "code",
      "source": [
        "meses_ciclicos.drop('original', axis=1, inplace=True)\n",
        "\n",
        "\n",
        "# Concatenar las representaciones cíclicas con el DataFrame original\n",
        "df_ciclico= pd.concat([df_encoded, meses_ciclicos], axis=1)"
      ],
      "metadata": {
        "id": "BL2csXQrGyGD"
      },
      "execution_count": 38,
      "outputs": []
    },
    {
      "cell_type": "markdown",
      "source": [
        "Ahora, debemos realizar el mismo procedimiento para las direcciones del viento:"
      ],
      "metadata": {
        "id": "gWKEgxlxIJJF"
      }
    },
    {
      "cell_type": "code",
      "source": [
        "# Obtener la dirección del viento del DataFrame\n",
        "windGustDir = df_ciclico['WindGustDir']\n",
        "windDir9am = df_ciclico['WindDir9am']\n",
        "windDir3pm = df_ciclico['WindDir3pm']\n",
        "\n",
        "\n",
        "# Convertir las direcciones de viento de grados a radianes\n",
        "windGustDirRad = windGustDir * np.pi / 180\n",
        "windDirRad9am = windDir9am * np.pi / 180\n",
        "windDirRad3pm = windDir3pm * np.pi / 180\n",
        "\n",
        "# Calcular el seno y el coseno de los ángulos\n",
        "sen_windGustDir = np.sin(windGustDirRad)\n",
        "cos_windGustDir = np.cos(windGustDirRad)\n",
        "\n",
        "sen_windDirRad9am = np.sin(windDirRad9am)\n",
        "cos_windDirRad9am = np.cos(windDirRad9am)\n",
        "\n",
        "sen_windDirRad3pm = np.sin(windDirRad3pm)\n",
        "cos_windDirRad3pm = np.cos(windDirRad3pm)\n",
        "\n",
        "# Agregar las representaciones cíclicas al DataFrame original\n",
        "df_ciclico['WindGustDir_Sen'] = sen_windGustDir\n",
        "df_ciclico['WindGustDir_Cos'] = cos_windGustDir\n",
        "\n",
        "df_ciclico['WindDir9am_Sen'] = sen_windDirRad9am\n",
        "df_ciclico['WindDir9am_Cos'] = cos_windDirRad9am\n",
        "\n",
        "df_ciclico['WindDir3pm_Sen'] = sen_windDirRad3pm\n",
        "df_ciclico['WindDir3pm_Cos'] = cos_windDirRad3pm"
      ],
      "metadata": {
        "id": "MKq_q7KUIT59"
      },
      "execution_count": 39,
      "outputs": []
    },
    {
      "cell_type": "markdown",
      "source": [
        "Comprobamos como va quedando el dataframe con la aplicación de variables ciclicas:"
      ],
      "metadata": {
        "id": "1OeIq8uqIXtu"
      }
    },
    {
      "cell_type": "code",
      "source": [
        "print(df_ciclico.head())"
      ],
      "metadata": {
        "colab": {
          "base_uri": "https://localhost:8080/"
        },
        "id": "ToJYyoPgIeAW",
        "outputId": "a9f0e9f7-ebeb-4bc0-afc7-1ae4c98d6257"
      },
      "execution_count": 40,
      "outputs": [
        {
          "output_type": "stream",
          "name": "stdout",
          "text": [
            "        Date  MinTemp  MaxTemp  Rainfall  Evaporation  Sunshine  WindGustDir  \\\n",
            "0 2008-12-01     13.4     22.9       0.6          0.0       0.0        270.0   \n",
            "1 2008-12-02      7.4     25.1       0.0          0.0       0.0        292.5   \n",
            "2 2008-12-03     12.9     25.7       0.0          0.0       0.0        247.5   \n",
            "3 2008-12-04      9.2     28.0       0.0          0.0       0.0         45.0   \n",
            "4 2008-12-05     17.5     32.3       1.0          0.0       0.0        270.0   \n",
            "\n",
            "   WindGustSpeed  WindDir9am  WindDir3pm  WindSpeed9am  WindSpeed3pm  \\\n",
            "0           44.0       270.0       292.5          20.0          24.0   \n",
            "1           44.0       337.5       247.5           4.0          22.0   \n",
            "2           46.0       270.0       247.5          19.0          26.0   \n",
            "3           24.0       135.0        90.0          11.0           9.0   \n",
            "4           41.0        67.5       315.0           7.0          20.0   \n",
            "\n",
            "   Humidity9am  Humidity3pm  Pressure9am  Pressure3pm  Cloud9am  Cloud3pm  \\\n",
            "0         71.0         22.0       1007.7       1007.1  8.000000   4.50993   \n",
            "1         44.0         25.0       1010.6       1007.8  4.447461   4.50993   \n",
            "2         38.0         30.0       1007.6       1008.7  4.447461   2.00000   \n",
            "3         45.0         16.0       1017.6       1012.8  4.447461   4.50993   \n",
            "4         82.0         33.0       1010.8       1006.0  7.000000   8.00000   \n",
            "\n",
            "   Temp9am  Temp3pm  RainToday  RainTomorrow  Adelaide  Albury  AliceSprings  \\\n",
            "0     16.9     21.8        0.0           0.0         0       1             0   \n",
            "1     17.2     24.3        0.0           0.0         0       1             0   \n",
            "2     21.0     23.2        0.0           0.0         0       1             0   \n",
            "3     18.1     26.5        0.0           0.0         0       1             0   \n",
            "4     17.8     29.7        0.0           0.0         0       1             0   \n",
            "\n",
            "   BadgerysCreek  Ballarat  Bendigo  Brisbane  Cairns  Canberra  Cobar  \\\n",
            "0              0         0        0         0       0         0      0   \n",
            "1              0         0        0         0       0         0      0   \n",
            "2              0         0        0         0       0         0      0   \n",
            "3              0         0        0         0       0         0      0   \n",
            "4              0         0        0         0       0         0      0   \n",
            "\n",
            "   CoffsHarbour  Dartmoor  Darwin  GoldCoast  Hobart  Katherine  Launceston  \\\n",
            "0             0         0       0          0       0          0           0   \n",
            "1             0         0       0          0       0          0           0   \n",
            "2             0         0       0          0       0          0           0   \n",
            "3             0         0       0          0       0          0           0   \n",
            "4             0         0       0          0       0          0           0   \n",
            "\n",
            "   Melbourne  MelbourneAirport  Mildura  Moree  MountGambier  MountGinini  \\\n",
            "0          0                 0        0      0             0            0   \n",
            "1          0                 0        0      0             0            0   \n",
            "2          0                 0        0      0             0            0   \n",
            "3          0                 0        0      0             0            0   \n",
            "4          0                 0        0      0             0            0   \n",
            "\n",
            "   Nhil  NorahHead  NorfolkIsland  Nuriootpa  PearceRAAF  Penrith  Perth  \\\n",
            "0     0          0              0          0           0        0      0   \n",
            "1     0          0              0          0           0        0      0   \n",
            "2     0          0              0          0           0        0      0   \n",
            "3     0          0              0          0           0        0      0   \n",
            "4     0          0              0          0           0        0      0   \n",
            "\n",
            "   PerthAirport  Portland  Richmond  Sale  SalmonGums  Sydney  SydneyAirport  \\\n",
            "0             0         0         0     0           0       0              0   \n",
            "1             0         0         0     0           0       0              0   \n",
            "2             0         0         0     0           0       0              0   \n",
            "3             0         0         0     0           0       0              0   \n",
            "4             0         0         0     0           0       0              0   \n",
            "\n",
            "   Townsville  Tuggeranong  Uluru  WaggaWagga  Walpole  Watsonia  Williamtown  \\\n",
            "0           0            0      0           0        0         0            0   \n",
            "1           0            0      0           0        0         0            0   \n",
            "2           0            0      0           0        0         0            0   \n",
            "3           0            0      0           0        0         0            0   \n",
            "4           0            0      0           0        0         0            0   \n",
            "\n",
            "   Witchcliffe  Wollongong  Woomera  Month  mes_seno  mes_coseno  \\\n",
            "0            0           0        0     12      -0.5    0.866025   \n",
            "1            0           0        0     12      -0.5    0.866025   \n",
            "2            0           0        0     12      -0.5    0.866025   \n",
            "3            0           0        0     12      -0.5    0.866025   \n",
            "4            0           0        0     12      -0.5    0.866025   \n",
            "\n",
            "   WindGustDir_Sen  WindGustDir_Cos  WindDir9am_Sen  WindDir9am_Cos  \\\n",
            "0        -1.000000    -1.836970e-16       -1.000000   -1.836970e-16   \n",
            "1        -0.923880     3.826834e-01       -0.382683    9.238795e-01   \n",
            "2        -0.923880    -3.826834e-01       -1.000000   -1.836970e-16   \n",
            "3         0.707107     7.071068e-01        0.707107   -7.071068e-01   \n",
            "4        -1.000000    -1.836970e-16        0.923880    3.826834e-01   \n",
            "\n",
            "   WindDir3pm_Sen  WindDir3pm_Cos  \n",
            "0       -0.923880    3.826834e-01  \n",
            "1       -0.923880   -3.826834e-01  \n",
            "2       -0.923880   -3.826834e-01  \n",
            "3        1.000000    6.123234e-17  \n",
            "4       -0.707107    7.071068e-01  \n"
          ]
        }
      ]
    },
    {
      "cell_type": "markdown",
      "source": [
        "Ahora debemos eliminar las columnas originales, ya que tenemos ahora el equivalente cíclico, Entonces:"
      ],
      "metadata": {
        "id": "CyRtaogsIqX3"
      }
    },
    {
      "cell_type": "code",
      "source": [
        "df_ciclico.drop('Date', axis=1, inplace=True)\n",
        "df_ciclico.drop('Month', axis=1, inplace=True)\n",
        "df_ciclico.drop('WindGustDir',axis=1, inplace=True)\n",
        "df_ciclico.drop('WindDir9am',axis=1, inplace=True)\n",
        "df_ciclico.drop('WindDir3pm',axis=1, inplace=True)\n",
        "print(df_ciclico.head())"
      ],
      "metadata": {
        "colab": {
          "base_uri": "https://localhost:8080/"
        },
        "id": "RmVyLqLrIuRe",
        "outputId": "a4201266-7ff6-438e-a3ee-e2a927b9c19d"
      },
      "execution_count": 41,
      "outputs": [
        {
          "output_type": "stream",
          "name": "stdout",
          "text": [
            "   MinTemp  MaxTemp  Rainfall  Evaporation  Sunshine  WindGustSpeed  \\\n",
            "0     13.4     22.9       0.6          0.0       0.0           44.0   \n",
            "1      7.4     25.1       0.0          0.0       0.0           44.0   \n",
            "2     12.9     25.7       0.0          0.0       0.0           46.0   \n",
            "3      9.2     28.0       0.0          0.0       0.0           24.0   \n",
            "4     17.5     32.3       1.0          0.0       0.0           41.0   \n",
            "\n",
            "   WindSpeed9am  WindSpeed3pm  Humidity9am  Humidity3pm  Pressure9am  \\\n",
            "0          20.0          24.0         71.0         22.0       1007.7   \n",
            "1           4.0          22.0         44.0         25.0       1010.6   \n",
            "2          19.0          26.0         38.0         30.0       1007.6   \n",
            "3          11.0           9.0         45.0         16.0       1017.6   \n",
            "4           7.0          20.0         82.0         33.0       1010.8   \n",
            "\n",
            "   Pressure3pm  Cloud9am  Cloud3pm  Temp9am  Temp3pm  RainToday  RainTomorrow  \\\n",
            "0       1007.1  8.000000   4.50993     16.9     21.8        0.0           0.0   \n",
            "1       1007.8  4.447461   4.50993     17.2     24.3        0.0           0.0   \n",
            "2       1008.7  4.447461   2.00000     21.0     23.2        0.0           0.0   \n",
            "3       1012.8  4.447461   4.50993     18.1     26.5        0.0           0.0   \n",
            "4       1006.0  7.000000   8.00000     17.8     29.7        0.0           0.0   \n",
            "\n",
            "   Adelaide  Albury  AliceSprings  BadgerysCreek  Ballarat  Bendigo  Brisbane  \\\n",
            "0         0       1             0              0         0        0         0   \n",
            "1         0       1             0              0         0        0         0   \n",
            "2         0       1             0              0         0        0         0   \n",
            "3         0       1             0              0         0        0         0   \n",
            "4         0       1             0              0         0        0         0   \n",
            "\n",
            "   Cairns  Canberra  Cobar  CoffsHarbour  Dartmoor  Darwin  GoldCoast  Hobart  \\\n",
            "0       0         0      0             0         0       0          0       0   \n",
            "1       0         0      0             0         0       0          0       0   \n",
            "2       0         0      0             0         0       0          0       0   \n",
            "3       0         0      0             0         0       0          0       0   \n",
            "4       0         0      0             0         0       0          0       0   \n",
            "\n",
            "   Katherine  Launceston  Melbourne  MelbourneAirport  Mildura  Moree  \\\n",
            "0          0           0          0                 0        0      0   \n",
            "1          0           0          0                 0        0      0   \n",
            "2          0           0          0                 0        0      0   \n",
            "3          0           0          0                 0        0      0   \n",
            "4          0           0          0                 0        0      0   \n",
            "\n",
            "   MountGambier  MountGinini  Nhil  NorahHead  NorfolkIsland  Nuriootpa  \\\n",
            "0             0            0     0          0              0          0   \n",
            "1             0            0     0          0              0          0   \n",
            "2             0            0     0          0              0          0   \n",
            "3             0            0     0          0              0          0   \n",
            "4             0            0     0          0              0          0   \n",
            "\n",
            "   PearceRAAF  Penrith  Perth  PerthAirport  Portland  Richmond  Sale  \\\n",
            "0           0        0      0             0         0         0     0   \n",
            "1           0        0      0             0         0         0     0   \n",
            "2           0        0      0             0         0         0     0   \n",
            "3           0        0      0             0         0         0     0   \n",
            "4           0        0      0             0         0         0     0   \n",
            "\n",
            "   SalmonGums  Sydney  SydneyAirport  Townsville  Tuggeranong  Uluru  \\\n",
            "0           0       0              0           0            0      0   \n",
            "1           0       0              0           0            0      0   \n",
            "2           0       0              0           0            0      0   \n",
            "3           0       0              0           0            0      0   \n",
            "4           0       0              0           0            0      0   \n",
            "\n",
            "   WaggaWagga  Walpole  Watsonia  Williamtown  Witchcliffe  Wollongong  \\\n",
            "0           0        0         0            0            0           0   \n",
            "1           0        0         0            0            0           0   \n",
            "2           0        0         0            0            0           0   \n",
            "3           0        0         0            0            0           0   \n",
            "4           0        0         0            0            0           0   \n",
            "\n",
            "   Woomera  mes_seno  mes_coseno  WindGustDir_Sen  WindGustDir_Cos  \\\n",
            "0        0      -0.5    0.866025        -1.000000    -1.836970e-16   \n",
            "1        0      -0.5    0.866025        -0.923880     3.826834e-01   \n",
            "2        0      -0.5    0.866025        -0.923880    -3.826834e-01   \n",
            "3        0      -0.5    0.866025         0.707107     7.071068e-01   \n",
            "4        0      -0.5    0.866025        -1.000000    -1.836970e-16   \n",
            "\n",
            "   WindDir9am_Sen  WindDir9am_Cos  WindDir3pm_Sen  WindDir3pm_Cos  \n",
            "0       -1.000000   -1.836970e-16       -0.923880    3.826834e-01  \n",
            "1       -0.382683    9.238795e-01       -0.923880   -3.826834e-01  \n",
            "2       -1.000000   -1.836970e-16       -0.923880   -3.826834e-01  \n",
            "3        0.707107   -7.071068e-01        1.000000    6.123234e-17  \n",
            "4        0.923880    3.826834e-01       -0.707107    7.071068e-01  \n"
          ]
        }
      ]
    },
    {
      "cell_type": "code",
      "source": [
        "print(df_ciclico.describe())"
      ],
      "metadata": {
        "colab": {
          "base_uri": "https://localhost:8080/"
        },
        "id": "1OjTZjpjKBEv",
        "outputId": "42bbb1c7-d164-49ad-b6dc-d30a92f5178a"
      },
      "execution_count": 42,
      "outputs": [
        {
          "output_type": "stream",
          "name": "stdout",
          "text": [
            "             MinTemp        MaxTemp       Rainfall    Evaporation  \\\n",
            "count  123710.000000  123710.000000  123710.000000  123710.000000   \n",
            "mean       12.413917      23.474808       2.375661       3.312966   \n",
            "std         6.366792       7.205898       8.528039       4.258824   \n",
            "min        -8.500000      -4.800000       0.000000       0.000000   \n",
            "25%         7.800000      18.100000       0.000000       0.000000   \n",
            "50%        12.200000      23.000000       0.000000       2.000000   \n",
            "75%        17.000000      28.600000       0.800000       5.600000   \n",
            "max        33.900000      48.100000     367.600000      86.200000   \n",
            "\n",
            "            Sunshine  WindGustSpeed   WindSpeed9am   WindSpeed3pm  \\\n",
            "count  123710.000000  123710.000000  123710.000000  123710.000000   \n",
            "mean        4.185621      40.685280      15.011689      19.174578   \n",
            "std         4.746062      13.388636       8.307285       8.571039   \n",
            "min         0.000000       7.000000       2.000000       2.000000   \n",
            "25%         0.000000      31.000000       9.000000      13.000000   \n",
            "50%         1.000000      39.000000      13.000000      19.000000   \n",
            "75%         9.000000      48.000000      20.000000      24.000000   \n",
            "max        14.500000     135.000000      87.000000      87.000000   \n",
            "\n",
            "         Humidity9am    Humidity3pm    Pressure9am    Pressure3pm  \\\n",
            "count  123710.000000  123710.000000  123710.000000  123710.000000   \n",
            "mean       67.664315      50.856904    1017.416706    1015.029505   \n",
            "std        18.975503      20.839568       6.765690       6.703817   \n",
            "min         0.000000       0.000000     980.500000     977.100000   \n",
            "25%        56.000000      36.000000    1013.200000    1010.700000   \n",
            "50%        68.880831      51.539116    1017.649940    1015.255889   \n",
            "75%        81.000000      65.000000    1021.700000    1019.300000   \n",
            "max       100.000000     100.000000    1041.000000    1039.600000   \n",
            "\n",
            "            Cloud9am       Cloud3pm        Temp9am        Temp3pm  \\\n",
            "count  123710.000000  123710.000000  123710.000000  123710.000000   \n",
            "mean        4.422374       4.498630      17.268860      21.895705   \n",
            "std         2.280965       2.124822       6.477882       7.005865   \n",
            "min         0.000000       0.000000      -7.200000      -5.400000   \n",
            "25%         3.000000       4.000000      12.500000      16.800000   \n",
            "50%         4.447461       4.509930      16.990631      21.500000   \n",
            "75%         6.000000       6.000000      21.900000      26.700000   \n",
            "max         9.000000       9.000000      40.200000      46.700000   \n",
            "\n",
            "           RainToday   RainTomorrow       Adelaide         Albury  \\\n",
            "count  123710.000000  123710.000000  123710.000000  123710.000000   \n",
            "mean        0.224363       0.221421       0.022197       0.019764   \n",
            "std         0.417164       0.415205       0.147325       0.139189   \n",
            "min         0.000000       0.000000       0.000000       0.000000   \n",
            "25%         0.000000       0.000000       0.000000       0.000000   \n",
            "50%         0.000000       0.000000       0.000000       0.000000   \n",
            "75%         0.000000       0.000000       0.000000       0.000000   \n",
            "max         1.000000       1.000000       1.000000       1.000000   \n",
            "\n",
            "        AliceSprings  BadgerysCreek       Ballarat        Bendigo  \\\n",
            "count  123710.000000  123710.000000  123710.000000  123710.000000   \n",
            "mean        0.022213       0.019869       0.023402       0.022027   \n",
            "std         0.147377       0.139551       0.151176       0.146773   \n",
            "min         0.000000       0.000000       0.000000       0.000000   \n",
            "25%         0.000000       0.000000       0.000000       0.000000   \n",
            "50%         0.000000       0.000000       0.000000       0.000000   \n",
            "75%         0.000000       0.000000       0.000000       0.000000   \n",
            "max         1.000000       1.000000       1.000000       1.000000   \n",
            "\n",
            "            Brisbane         Cairns       Canberra          Cobar  \\\n",
            "count  123710.000000  123710.000000  123710.000000  123710.000000   \n",
            "mean        0.024485       0.023442       0.022326       0.023644   \n",
            "std         0.154549       0.151303       0.147743       0.151938   \n",
            "min         0.000000       0.000000       0.000000       0.000000   \n",
            "25%         0.000000       0.000000       0.000000       0.000000   \n",
            "50%         0.000000       0.000000       0.000000       0.000000   \n",
            "75%         0.000000       0.000000       0.000000       0.000000   \n",
            "max         1.000000       1.000000       1.000000       1.000000   \n",
            "\n",
            "        CoffsHarbour       Dartmoor         Darwin      GoldCoast  \\\n",
            "count  123710.000000  123710.000000  123710.000000  123710.000000   \n",
            "mean        0.020758       0.019546       0.025212       0.022892   \n",
            "std         0.142574       0.138433       0.156770       0.149561   \n",
            "min         0.000000       0.000000       0.000000       0.000000   \n",
            "25%         0.000000       0.000000       0.000000       0.000000   \n",
            "50%         0.000000       0.000000       0.000000       0.000000   \n",
            "75%         0.000000       0.000000       0.000000       0.000000   \n",
            "max         1.000000       1.000000       1.000000       1.000000   \n",
            "\n",
            "              Hobart      Katherine     Launceston      Melbourne  \\\n",
            "count  123710.000000  123710.000000  123710.000000  123710.000000   \n",
            "mean        0.025107       0.011907       0.020233       0.018107   \n",
            "std         0.156451       0.108468       0.140796       0.133338   \n",
            "min         0.000000       0.000000       0.000000       0.000000   \n",
            "25%         0.000000       0.000000       0.000000       0.000000   \n",
            "50%         0.000000       0.000000       0.000000       0.000000   \n",
            "75%         0.000000       0.000000       0.000000       0.000000   \n",
            "max         1.000000       1.000000       1.000000       1.000000   \n",
            "\n",
            "       MelbourneAirport        Mildura          Moree   MountGambier  \\\n",
            "count     123710.000000  123710.000000  123710.000000  123710.000000   \n",
            "mean           0.023790       0.023466       0.021300       0.023426   \n",
            "std            0.152393       0.151379       0.144382       0.151252   \n",
            "min            0.000000       0.000000       0.000000       0.000000   \n",
            "25%            0.000000       0.000000       0.000000       0.000000   \n",
            "50%            0.000000       0.000000       0.000000       0.000000   \n",
            "75%            0.000000       0.000000       0.000000       0.000000   \n",
            "max            1.000000       1.000000       1.000000       1.000000   \n",
            "\n",
            "         MountGinini           Nhil      NorahHead  NorfolkIsland  \\\n",
            "count  123710.000000  123710.000000  123710.000000  123710.000000   \n",
            "mean        0.020403       0.012271       0.022553       0.023183   \n",
            "std         0.141373       0.110092       0.148473       0.150486   \n",
            "min         0.000000       0.000000       0.000000       0.000000   \n",
            "25%         0.000000       0.000000       0.000000       0.000000   \n",
            "50%         0.000000       0.000000       0.000000       0.000000   \n",
            "75%         0.000000       0.000000       0.000000       0.000000   \n",
            "max         1.000000       1.000000       1.000000       1.000000   \n",
            "\n",
            "           Nuriootpa     PearceRAAF        Penrith          Perth  \\\n",
            "count  123710.000000  123710.000000  123710.000000  123710.000000   \n",
            "mean        0.022731       0.019958       0.019125       0.024646   \n",
            "std         0.149044       0.139856       0.136966       0.155045   \n",
            "min         0.000000       0.000000       0.000000       0.000000   \n",
            "25%         0.000000       0.000000       0.000000       0.000000   \n",
            "50%         0.000000       0.000000       0.000000       0.000000   \n",
            "75%         0.000000       0.000000       0.000000       0.000000   \n",
            "max         1.000000       1.000000       1.000000       1.000000   \n",
            "\n",
            "        PerthAirport       Portland       Richmond           Sale  \\\n",
            "count  123710.000000  123710.000000  123710.000000  123710.000000   \n",
            "mean        0.023636       0.023361       0.016757       0.022399   \n",
            "std         0.151913       0.151048       0.128360       0.147978   \n",
            "min         0.000000       0.000000       0.000000       0.000000   \n",
            "25%         0.000000       0.000000       0.000000       0.000000   \n",
            "50%         0.000000       0.000000       0.000000       0.000000   \n",
            "75%         0.000000       0.000000       0.000000       0.000000   \n",
            "max         1.000000       1.000000       1.000000       1.000000   \n",
            "\n",
            "          SalmonGums         Sydney  SydneyAirport     Townsville  \\\n",
            "count  123710.000000  123710.000000  123710.000000  123710.000000   \n",
            "mean        0.023159       0.018471       0.023773       0.023313   \n",
            "std         0.150409       0.134646       0.152343       0.150895   \n",
            "min         0.000000       0.000000       0.000000       0.000000   \n",
            "25%         0.000000       0.000000       0.000000       0.000000   \n",
            "50%         0.000000       0.000000       0.000000       0.000000   \n",
            "75%         0.000000       0.000000       0.000000       0.000000   \n",
            "max         1.000000       1.000000       1.000000       1.000000   \n",
            "\n",
            "         Tuggeranong          Uluru     WaggaWagga        Walpole  \\\n",
            "count  123710.000000  123710.000000  123710.000000  123710.000000   \n",
            "mean        0.018770       0.011689       0.022642       0.020257   \n",
            "std         0.135711       0.107481       0.148759       0.140879   \n",
            "min         0.000000       0.000000       0.000000       0.000000   \n",
            "25%         0.000000       0.000000       0.000000       0.000000   \n",
            "50%         0.000000       0.000000       0.000000       0.000000   \n",
            "75%         0.000000       0.000000       0.000000       0.000000   \n",
            "max         1.000000       1.000000       1.000000       1.000000   \n",
            "\n",
            "            Watsonia    Williamtown    Witchcliffe     Wollongong  \\\n",
            "count  123710.000000  123710.000000  123710.000000  123710.000000   \n",
            "mean        0.022189       0.017808       0.021445       0.022771   \n",
            "std         0.147298       0.132253       0.144864       0.149173   \n",
            "min         0.000000       0.000000       0.000000       0.000000   \n",
            "25%         0.000000       0.000000       0.000000       0.000000   \n",
            "50%         0.000000       0.000000       0.000000       0.000000   \n",
            "75%         0.000000       0.000000       0.000000       0.000000   \n",
            "max         1.000000       1.000000       1.000000       1.000000   \n",
            "\n",
            "             Woomera       mes_seno    mes_coseno  WindGustDir_Sen  \\\n",
            "count  123710.000000  123710.000000  1.237100e+05    123710.000000   \n",
            "mean        0.023579       0.002542  1.183949e-02        -0.017063   \n",
            "std         0.151735       0.708768  7.053436e-01         0.713025   \n",
            "min         0.000000      -1.000000 -1.000000e+00        -1.000000   \n",
            "25%         0.000000      -0.866025 -5.000000e-01        -0.707107   \n",
            "50%         0.000000       0.000000  6.123234e-17         0.000000   \n",
            "75%         0.000000       0.866025  5.000000e-01         0.707107   \n",
            "max         1.000000       1.000000  1.000000e+00         1.000000   \n",
            "\n",
            "       WindGustDir_Cos  WindDir9am_Sen  WindDir9am_Cos  WindDir3pm_Sen  \\\n",
            "count     1.237100e+05    1.237100e+05    1.237100e+05   123710.000000   \n",
            "mean     -5.489020e-02    2.806475e-02    7.937506e-03       -0.021840   \n",
            "std       6.987838e-01    6.925107e-01    7.208234e-01        0.711223   \n",
            "min      -1.000000e+00   -1.000000e+00   -1.000000e+00       -1.000000   \n",
            "25%      -7.071068e-01   -7.071068e-01   -7.071068e-01       -0.707107   \n",
            "50%      -1.836970e-16    1.224647e-16    6.123234e-17        0.000000   \n",
            "75%       7.071068e-01    7.071068e-01    7.071068e-01        0.707107   \n",
            "max       1.000000e+00    1.000000e+00    1.000000e+00        1.000000   \n",
            "\n",
            "       WindDir3pm_Cos  \n",
            "count    1.237100e+05  \n",
            "mean    -4.917957e-02  \n",
            "std      7.009098e-01  \n",
            "min     -1.000000e+00  \n",
            "25%     -7.071068e-01  \n",
            "50%     -1.836970e-16  \n",
            "75%      7.071068e-01  \n",
            "max      1.000000e+00  \n"
          ]
        }
      ]
    },
    {
      "cell_type": "markdown",
      "source": [
        "Una vez con todos los datos acomodados, procedemos a realizar finalmente los pasos para realizar la regresión logística."
      ],
      "metadata": {
        "id": "rnOaDu2dJycR"
      }
    },
    {
      "cell_type": "markdown",
      "source": [
        "###Separación de datos de entrenamiento y prueba\n",
        "Primero se separa en X_train, X_test, Y_train y Y_Test los datos con una semilla aleatoria, tomando 80% de los datos para entrenamiento y 20% para prueba.\n",
        "Además se realiza la estandarización(normalización) de los datos. (solo se normaliza las características X)"
      ],
      "metadata": {
        "id": "jPfudAuvD6Li"
      }
    },
    {
      "cell_type": "code",
      "source": [
        "X = df_ciclico.drop(columns=['RainTomorrow'])\n",
        "Y = df_ciclico['RainTomorrow']\n",
        "X_train, X_test, Y_train, Y_test = train_test_split(X, Y, test_size=0.2, random_state=42)\n",
        "# Normalizar características solo en los conjuntos de entrenamiento y prueba\n",
        "scaler = StandardScaler()\n",
        "X_train_scaled = scaler.fit_transform(X_train)\n",
        "X_test_scaled = scaler.transform(X_test)"
      ],
      "metadata": {
        "id": "UVMjoW6LD4jo"
      },
      "execution_count": 43,
      "outputs": []
    },
    {
      "cell_type": "markdown",
      "source": [
        "Luego definimos la funcion de sigmoide y probamos si realmente valores de 0 se vuelven 0.5\n",
        "\n",
        "\n"
      ],
      "metadata": {
        "id": "wk1zPkmvKucH"
      }
    },
    {
      "cell_type": "code",
      "execution_count": 44,
      "metadata": {
        "id": "pk9dV23xJVNh",
        "colab": {
          "base_uri": "https://localhost:8080/"
        },
        "outputId": "aa237d4e-73e7-4227-c25a-8abde8b6e6f4"
      },
      "outputs": [
        {
          "output_type": "stream",
          "name": "stdout",
          "text": [
            "g( [0, 0.5, 1] ) =  [0.5        0.62245933 0.73105858]\n"
          ]
        }
      ],
      "source": [
        "def sigmoid(z):\n",
        "    # Calcula la sigmoide de una entrada z\n",
        "    # convierte la intrada a un arreglo numpy\n",
        "    z = np.array(z)\n",
        "\n",
        "    g = np.zeros(z.shape)\n",
        "\n",
        "    g = 1 / (1 + np.exp(-z))\n",
        "\n",
        "    return g\n",
        "\n",
        "# Prueba la implementacion de la funcion sigmoid\n",
        "z = [0, 0.5, 1]\n",
        "g = sigmoid(z)\n",
        "\n",
        "print('g(', z, ') = ', g)"
      ]
    },
    {
      "cell_type": "markdown",
      "source": [
        "Ahora, debemos aumentar el bias a la X de entrenamiento."
      ],
      "metadata": {
        "id": "fRLI510ZEmFd"
      }
    },
    {
      "cell_type": "code",
      "source": [
        "# Configurar la matriz adecuadamente y agregar una columna de unos que corresponde al término de intercepción.\n",
        "m_train, n_train = X_train_scaled.shape\n",
        "# Agregar el término de intercepción a X_train_scaled\n",
        "X_train_scaled_with_intercept = np.concatenate([np.ones((m_train, 1)), X_train_scaled], axis=1)"
      ],
      "metadata": {
        "id": "HWF5C5Jt8wNb"
      },
      "execution_count": 45,
      "outputs": []
    },
    {
      "cell_type": "markdown",
      "metadata": {
        "id": "tDl3_8hvJVNi"
      },
      "source": [
        "<a id=\"section2\"></a>\n",
        "#### 1.2.2 Función de Costo y Gradiente\n",
        "\n",
        "Declaramos la funcíon de costo y del Descenso por el Gradiente."
      ]
    },
    {
      "cell_type": "code",
      "source": [
        "def calcularCosto(theta, X, y):\n",
        "    # Inicializar algunos valores utiles\n",
        "    m = y.size  # numero de ejemplos de entrenamiento\n",
        "\n",
        "    J = 0\n",
        "    h = sigmoid(X.dot(theta.T))\n",
        "    J = (1 / m) * np.sum(-y.dot(np.log(h)) - (1 - y).dot(np.log(1 - h)))\n",
        "\n",
        "    return J\n",
        "def descensoGradiente(theta, X, y, alpha, num_iters):\n",
        "    # Inicializa algunos valores\n",
        "    m = y.shape[0] # numero de ejemplos de entrenamiento\n",
        "\n",
        "    # realiza una copia de theta, el cual será acutalizada por el descenso por el gradiente\n",
        "    theta = theta.copy()\n",
        "    J_history = []\n",
        "\n",
        "    for i in range(num_iters):\n",
        "        h = sigmoid(X.dot(theta.T))\n",
        "        theta = theta - (alpha / m) * (h - y).dot(X)\n",
        "\n",
        "        J_history.append(calcularCosto(theta, X, y))\n",
        "        if i % 1000 == 0:\n",
        "            print(f\"Iteración {i}: Costo = {J_history[-1]}\")\n",
        "    return theta, J_history"
      ],
      "metadata": {
        "id": "DyzOoYwKFk7C"
      },
      "execution_count": 46,
      "outputs": []
    },
    {
      "cell_type": "markdown",
      "source": [
        "###Funcion de Costo y Gradiente aplicando Regularizacion"
      ],
      "metadata": {
        "id": "RLc0B8YTamWy"
      }
    },
    {
      "cell_type": "code",
      "source": [
        "def calcularCostoReg(theta, X, y, lambda_reg):\n",
        "    # Inicializar algunos valores útiles\n",
        "    m = y.size  # numero de ejemplos de entrenamiento\n",
        "\n",
        "    J = 0\n",
        "    h = sigmoid(X.dot(theta.T))\n",
        "    J = (1 / m) * np.sum(-y.dot(np.log(h)) - (1 - y).dot(np.log(1 - h)))\n",
        "\n",
        "    # Calcular el término de regularización (sin incluir el término de sesgo)\n",
        "    regularization_term = (lambda_reg / (2 * m)) * np.sum(np.square(theta[1:]))\n",
        "\n",
        "    # Agregar el término de regularización al costo\n",
        "    J += regularization_term\n",
        "\n",
        "    return J\n",
        "\n",
        "def descensoGradienteReg(theta, X, y, alpha, num_iters, lambda_reg):\n",
        "    # Inicializa algunos valores\n",
        "    m = y.shape[0] # numero de ejemplos de entrenamiento\n",
        "    n = X.shape[1] # numero de características\n",
        "\n",
        "    # realiza una copia de theta, el cual será actualizada por el descenso por el gradiente\n",
        "    theta = theta.copy()\n",
        "    J_history = []\n",
        "\n",
        "    for i in range(num_iters):\n",
        "        h = sigmoid(X.dot(theta.T))\n",
        "\n",
        "        # Calcular el gradiente con regularización Ridge\n",
        "        grad_reg = (1 / m) * X.T.dot(h - y) + (lambda_reg / m) * theta\n",
        "        grad_reg[0] -= (lambda_reg / m) * theta[0]  # No regularizar el término de intercepción\n",
        "\n",
        "        # Actualizar theta con el gradiente regularizado\n",
        "        theta -= alpha * grad_reg\n",
        "\n",
        "        # Calcular el costo con regularización y guardarlo en el historial\n",
        "        J_history.append(calcularCostoReg(theta, X, y, lambda_reg))\n",
        "\n",
        "        if i % 1000 == 0:\n",
        "            print(f\"Iteración {i}: Costo = {J_history[-1]}\")\n",
        "\n",
        "    return theta, J_history\n"
      ],
      "metadata": {
        "id": "hFCLwJynapNo"
      },
      "execution_count": 54,
      "outputs": []
    },
    {
      "cell_type": "markdown",
      "source": [
        "Aplicamos las funciones con nuestra X de entrenamiento, Y de entrenamiento, thethas y parametro alpha y numero de iteraciones. Entonces:\n",
        "\n",
        "###Calculo de thithas sin regularizacion"
      ],
      "metadata": {
        "id": "IvTUxxX5GT6e"
      }
    },
    {
      "cell_type": "code",
      "execution_count": 23,
      "metadata": {
        "scrolled": true,
        "colab": {
          "base_uri": "https://localhost:8080/",
          "height": 918
        },
        "id": "rBUlehg6JVNi",
        "outputId": "0cfc6179-8dc2-489c-edd3-c1690150e52d"
      },
      "outputs": [
        {
          "output_type": "stream",
          "name": "stdout",
          "text": [
            "Iteración 0: Costo = 0.6911947509861984\n",
            "Iteración 1000: Costo = 0.3864326442936333\n",
            "Iteración 2000: Costo = 0.360144537562099\n",
            "Iteración 3000: Costo = 0.35212447941309166\n",
            "Iteración 4000: Costo = 0.3486454123417939\n",
            "Iteración 5000: Costo = 0.34683683979851776\n",
            "Iteración 6000: Costo = 0.34577721833915037\n",
            "Iteración 7000: Costo = 0.3450969720467753\n",
            "Theta calculado por el descenso por el gradiente: [-1.87751450e+00  1.99200079e-01 -5.59254613e-02  7.84007803e-02\n",
            "  4.66849338e-02 -2.74434557e-01  6.73634289e-01 -7.87029104e-02\n",
            " -1.89978711e-01  1.66927037e-01  1.05704018e+00  1.27220281e-02\n",
            " -3.91569986e-01  6.77832868e-02  3.35326970e-01  1.46407011e-01\n",
            " -1.03854904e-01  1.65639527e-01  1.00280579e-01  1.75112112e-02\n",
            "  1.51310172e-02  1.32836415e-02 -8.46826130e-02 -1.15697967e-02\n",
            "  8.36516546e-02  1.25104906e-02  6.48585036e-05  7.02744312e-03\n",
            "  1.03765703e-02  4.91772212e-02 -4.42096948e-02 -5.25613498e-02\n",
            " -3.23053313e-02 -9.55022396e-02 -6.10862429e-02  1.63854554e-02\n",
            " -1.42206757e-02  2.33677826e-02  2.05835924e-03  3.12615846e-02\n",
            " -1.21547360e-01 -2.22777548e-02 -8.30474974e-02 -4.06650560e-02\n",
            "  2.91773267e-02  5.47166076e-02  4.23603968e-02  1.09056343e-01\n",
            "  8.97588101e-02  1.62819738e-02 -2.49554113e-03 -4.82193164e-02\n",
            "  4.39615634e-02  4.81420755e-02  2.34988431e-02 -1.06168745e-01\n",
            "  1.64950163e-02 -8.92399527e-03  4.45828367e-02  5.28115519e-03\n",
            "  2.70085695e-04  1.01518757e-02  6.48287249e-02 -1.39283053e-01\n",
            " -3.81856401e-02 -9.81793178e-03 -1.60587734e-01 -5.00365689e-04\n",
            " -3.27724199e-02  2.60935357e-02  1.27093966e-01  7.23472401e-03\n",
            "  1.58215374e-01]\n"
          ]
        },
        {
          "output_type": "display_data",
          "data": {
            "text/plain": [
              "<Figure size 640x480 with 1 Axes>"
            ],
            "image/png": "[encoded data removed]"
          },
          "metadata": {}
        }
      ],
      "source": [
        "# Elegir algún valor para alpha (probar varias alternativas)\n",
        "alpha = 0.008   #0.001\n",
        "num_iters = 8000   #40000\n",
        "\n",
        "# Inicializa theta con ceros\n",
        "theta = np.zeros(X_train_scaled_with_intercept.shape[1])\n",
        "\n",
        "#Ejecucion del descenso por el gradiente\n",
        "theta, J_history = descensoGradiente(theta, X_train_scaled_with_intercept, Y_train, alpha, num_iters)\n",
        "#Grafica la convergencia del costo\n",
        "pyplot.plot(np.arange(len(J_history)), J_history, lw=2)\n",
        "pyplot.xlabel('Número de iteraciones')\n",
        "pyplot.ylabel('Costo J')\n",
        "print('Theta calculado por el descenso por el gradiente: {:s}'.format(str(theta)))"
      ]
    },
    {
      "cell_type": "markdown",
      "source": [
        "###Calculo de thithas con regularizacion"
      ],
      "metadata": {
        "id": "KBpAQS4VgkFi"
      }
    },
    {
      "cell_type": "code",
      "source": [
        "# Elegir algún valor para alpha (probar varias alternativas)\n",
        "alpha = 0.008   #0.001\n",
        "num_iters = 8000   #40000\n",
        "lambda_reg=3000\n",
        "# Inicializa theta con ceros\n",
        "thetaR = np.zeros(X_train_scaled_with_intercept.shape[1])\n",
        "\n",
        "#Ejecucion del descenso por el gradiente\n",
        "thetaR, J_historyR = descensoGradienteReg(thetaR, X_train_scaled_with_intercept, Y_train, alpha, num_iters,lambda_reg)\n",
        "#Grafica la convergencia del costo\n",
        "pyplot.plot(np.arange(len(J_historyR)), J_historyR, lw=2)\n",
        "pyplot.xlabel('Número de iteraciones')\n",
        "pyplot.ylabel('Costo J')\n",
        "print('Theta calculado por el descenso por el gradiente: {:s}'.format(str(thetaR)))"
      ],
      "metadata": {
        "colab": {
          "base_uri": "https://localhost:8080/",
          "height": 918
        },
        "id": "shFxpoXjgmjG",
        "outputId": "8f9e842e-19ec-4b6e-ed57-8b4f6ece80d6"
      },
      "execution_count": 55,
      "outputs": [
        {
          "output_type": "stream",
          "name": "stdout",
          "text": [
            "Iteración 0: Costo = 0.6911949132453385\n",
            "Iteración 1000: Costo = 0.39700703818044497\n",
            "Iteración 2000: Costo = 0.376780336564304\n",
            "Iteración 3000: Costo = 0.37252086577612875\n",
            "Iteración 4000: Costo = 0.37134992461418537\n",
            "Iteración 5000: Costo = 0.37098703966939456\n",
            "Iteración 6000: Costo = 0.3708661907619815\n",
            "Iteración 7000: Costo = 0.37082359824255295\n",
            "Theta calculado por el descenso por el gradiente: [-1.74003069e+00  1.64392774e-01 -7.19770085e-02  9.18290216e-02\n",
            "  2.05611285e-02 -2.07590947e-01  4.31284189e-01 -2.10619269e-02\n",
            " -8.36263088e-02  1.81512801e-01  7.25375027e-01 -9.74477171e-02\n",
            " -2.69166980e-01  1.11681641e-01  2.99134573e-01  9.33669312e-02\n",
            " -1.21966776e-01  1.72706455e-01  6.94614207e-02  4.59836604e-03\n",
            " -1.50034190e-03  9.54861745e-03 -6.51471661e-02 -1.49062425e-02\n",
            "  6.72929864e-02  2.82426847e-02 -1.17304131e-02 -3.16214564e-03\n",
            "  2.02111563e-02  4.25593464e-02 -1.87940568e-02 -2.37549382e-02\n",
            " -2.68846301e-02 -5.57157759e-02 -4.63509270e-02  5.68576985e-03\n",
            " -1.67798379e-02 -7.37407681e-04 -7.53702378e-03  1.85703585e-02\n",
            " -6.89041357e-02 -2.14920273e-02 -4.01014599e-02 -1.52909377e-02\n",
            "  1.33025764e-02  2.62701730e-02  3.27103665e-02  7.27306862e-02\n",
            "  5.37288237e-02  1.39472855e-02 -1.00790396e-04 -4.14312887e-02\n",
            "  2.02387783e-02  4.13022579e-02  2.34820087e-02 -6.74224374e-02\n",
            "  4.04387575e-03 -1.69935458e-02  2.04211966e-02  1.86417802e-02\n",
            "  5.04900434e-04  7.70224933e-03  5.39608484e-02 -8.48307638e-02\n",
            " -3.89357282e-02 -1.20729000e-03 -1.02116303e-01 -9.02661902e-03\n",
            "  4.29006002e-03  1.75329341e-02  1.14580609e-01  2.76413656e-03\n",
            "  1.13864962e-01]\n"
          ]
        },
        {
          "output_type": "display_data",
          "data": {
            "text/plain": [
              "<Figure size 640x480 with 1 Axes>"
            ],
            "image/png": "[encoded data removed]"
          },
          "metadata": {}
        }
      ]
    },
    {
      "cell_type": "markdown",
      "source": [
        "Una vez obtenidas las thithas, ahora debemos calcular las Y predichas mediante el sigmoide"
      ],
      "metadata": {
        "id": "REV-7GjcJuP-"
      }
    },
    {
      "cell_type": "markdown",
      "source": [
        "####Predicciones sin regularizacion"
      ],
      "metadata": {
        "id": "s7Ec6eT5kecf"
      }
    },
    {
      "cell_type": "code",
      "source": [
        "m, n = X_test_scaled.shape\n",
        "#aumentamos el bias a la X de prueba\n",
        "X_test_scaled_with_intercept = np.concatenate([np.ones((m, 1)), X_test_scaled], axis=1)\n",
        "# Calcular las predicciones utilizando la función sigmoide y los parámetros theta\n",
        "predictions = sigmoid(np.dot(X_test_scaled_with_intercept, theta))"
      ],
      "metadata": {
        "id": "bmuAo3FLJyVs"
      },
      "execution_count": 57,
      "outputs": []
    },
    {
      "cell_type": "markdown",
      "source": [
        "####Predicciones con regularizacion"
      ],
      "metadata": {
        "id": "AP2IlHYlkkB9"
      }
    },
    {
      "cell_type": "code",
      "source": [
        "predictionsR = sigmoid(np.dot(X_test_scaled_with_intercept, thetaR))"
      ],
      "metadata": {
        "id": "rn3NCOCnkjhc"
      },
      "execution_count": 58,
      "outputs": []
    },
    {
      "cell_type": "markdown",
      "source": [
        "Imprimimos las predicciones y tenemos:"
      ],
      "metadata": {
        "id": "wM5Cl8VqKEFZ"
      }
    },
    {
      "cell_type": "code",
      "source": [
        "# Imprimir las predicciones\n",
        "print(\"-\"*20)\n",
        "print(\"Predicciones\")\n",
        "print(predictions)\n",
        "print(\"Predicciones con regularizacion\")\n",
        "print(predictionsR)"
      ],
      "metadata": {
        "colab": {
          "base_uri": "https://localhost:8080/"
        },
        "id": "ItmtjEAQJ9Gu",
        "outputId": "aa4f5601-6346-474b-a685-3e4c3a779df8"
      },
      "execution_count": 60,
      "outputs": [
        {
          "output_type": "stream",
          "name": "stdout",
          "text": [
            "--------------------\n",
            "Predicciones\n",
            "[0.48351608 0.16482272 0.37755131 ... 0.04949582 0.03727043 0.03823483]\n",
            "Predicciones con regularizacion\n",
            "[0.46985804 0.20245237 0.29368296 ... 0.05964472 0.06873821 0.04816334]\n"
          ]
        }
      ]
    },
    {
      "cell_type": "markdown",
      "source": [
        "Como podemos observar, las predicciones van en un rango de 0 a 1 continuo, por tanto, como ya está aplicada el sigmoide, debemos elegir un umbral para volverlo 0 y 1 para poder comparar con las Y de prueba. Entonces:"
      ],
      "metadata": {
        "id": "uRaFWMdDKH-k"
      }
    },
    {
      "cell_type": "code",
      "source": [
        "umbral = 0.5\n",
        "etiquetas_binarias = (predictions >= umbral).astype(int)\n",
        "etiquetas_binariasR = (predictionsR >= umbral).astype(int)\n",
        "print(\"sin regularizar\")\n",
        "print(etiquetas_binarias)\n",
        "print(\"regularizando\")\n",
        "print(etiquetas_binariasR)"
      ],
      "metadata": {
        "colab": {
          "base_uri": "https://localhost:8080/"
        },
        "id": "KDVYB88PKVwY",
        "outputId": "530f5a89-dfc2-442d-8f88-b45a0f2c37ed"
      },
      "execution_count": 61,
      "outputs": [
        {
          "output_type": "stream",
          "name": "stdout",
          "text": [
            "sin regularizar\n",
            "[0 0 0 ... 0 0 0]\n",
            "regularizando\n",
            "[0 0 0 ... 0 0 0]\n"
          ]
        }
      ]
    },
    {
      "cell_type": "markdown",
      "source": [
        "Finalmente vemos el porcentaje de precisión del modelo, comparando las Y predichas y las Y de prueba."
      ],
      "metadata": {
        "id": "ak3CxQPUKbBL"
      }
    },
    {
      "cell_type": "code",
      "source": [
        "precision = accuracy_score(Y_test, etiquetas_binarias)\n",
        "print(\"Precisión del modelo sin regularizar:\", precision)\n",
        "precisionR = accuracy_score(Y_test, etiquetas_binariasR)\n",
        "print(\"Precisión del modelo regularizando:\", precisionR)"
      ],
      "metadata": {
        "colab": {
          "base_uri": "https://localhost:8080/"
        },
        "id": "yjZTykpvKjlF",
        "outputId": "23020e8c-ed23-4af0-c8b8-50bc3712238d"
      },
      "execution_count": 62,
      "outputs": [
        {
          "output_type": "stream",
          "name": "stdout",
          "text": [
            "Precisión del modelo sin regularizar: 0.8499312909223183\n",
            "Precisión del modelo regularizando: 0.8461320830975669\n"
          ]
        }
      ]
    },
    {
      "cell_type": "markdown",
      "source": [
        "Con esto se concluye el ejercicio, obteniendo un modelo con un 85% de precisión en ambos casos, pero si somos mas minuciosos podemos ver que es un poco menos preciso despues de aplicar la regularizacion."
      ],
      "metadata": {
        "id": "mtnlbJt_KqiS"
      }
    }
  ],
  "metadata": {
    "kernelspec": {
      "display_name": "Python 3",
      "language": "python",
      "name": "python3"
    },
    "language_info": {
      "codemirror_mode": {
        "name": "ipython",
        "version": 3
      },
      "file_extension": ".py",
      "mimetype": "text/x-python",
      "name": "python",
      "nbconvert_exporter": "python",
      "pygments_lexer": "ipython3",
      "version": "3.8.5"
    },
    "colab": {
      "provenance": [],
      "include_colab_link": true
    }
  },
  "nbformat": 4,
  "nbformat_minor": 0
}