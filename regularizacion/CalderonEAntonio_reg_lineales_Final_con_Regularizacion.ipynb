{
  "nbformat": 4,
  "nbformat_minor": 0,
  "metadata": {
    "colab": {
      "provenance": [],
      "authorship_tag": "ABX9TyOKnzDN6FGPcjKedhTvDRkz",
      "include_colab_link": true
    },
    "kernelspec": {
      "name": "python3",
      "display_name": "Python 3"
    },
    "language_info": {
      "name": "python"
    }
  },
  "cells": [
    {
      "cell_type": "markdown",
      "metadata": {
        "id": "view-in-github",
        "colab_type": "text"
      },
      "source": [
        "<a href=\"https://colab.research.google.com/github/antoniocfetngnu/InteligArtificial1/blob/main/regularizacion/CalderonEAntonio_reg_lineales_Final_con_Regularizacion.ipynb\" target=\"_parent\"><img src=\"https://colab.research.google.com/assets/colab-badge.svg\" alt=\"Open In Colab\"/></a>"
      ]
    },
    {
      "cell_type": "markdown",
      "source": [
        "#1. Análisis del DataSet\n",
        "\n",
        "https://www.kaggle.com/datasets/neuromusic/avocado-prices\n",
        "\n",
        "Antes de iniciar con los modelos. Realizamos un análisis del DataSet que usaremos en el ejercicio, a continuación, se presenta la información disponible en la fuente:"
      ],
      "metadata": {
        "id": "2uDYPoh_VlXf"
      }
    },
    {
      "cell_type": "markdown",
      "source": [
        "##CONTENIDO\n",
        "*La siguiente tabla representa los datos del escaneo minorista semanal de 2018 para el volumen minorista nacional (unidades) y el precio. Los datos de escaneo minorista provienen directamente de las cajas registradoras de los minoristas y se basan en las ventas minoristas reales de aguacates Hass. A partir de 2013, la siguiente tabla refleja un conjunto de datos minoristas ampliado y de múltiples puntos de venta. Los informes de múltiples medios incluyen una agregación de los siguientes canales: comestibles, masas, clubes, drogas, dólares y militares. El precio promedio (de aguacates) en la tabla refleja un costo por unidad (por aguacate), incluso cuando se venden varias unidades (aguacates) en bolsas. Los códigos de búsqueda de productos (PLU) en la tabla son solo para aguacates Hass. Otras variedades de aguacates (por ejemplo, de piel verde) no se incluyen en esta tabla.*"
      ],
      "metadata": {
        "id": "IAnxxok4ZjXZ"
      }
    },
    {
      "cell_type": "markdown",
      "source": [
        "Algunas columnas relevantes en el conjunto de datos:\n",
        "\n",
        "*   **Date**: la fecha de la observación.\n",
        "*   **AveragePrice**: el precio medio de un solo aguacate\n",
        "*   **type**: convencional u orgánico\n",
        "*   **year** - el año\n",
        "*   **region**: la ciudad o región de la observación.\n",
        "*   **Total Volume**: número total de aguacates vendidos\n",
        "*   **4046** - Número total de aguacates con PLU 4046 vendidos\n",
        "*   **4225** - Número total de aguacates con PLU 4225 vendidos\n",
        "*   **4770** - Número total de aguacates con PLU 4770 vendidos\n",
        "\n"
      ],
      "metadata": {
        "id": "5LupI-UBaRav"
      }
    },
    {
      "cell_type": "markdown",
      "source": [
        "##Importación de Librerías\n"
      ],
      "metadata": {
        "id": "6DY0UhQAV6EV"
      }
    },
    {
      "cell_type": "markdown",
      "source": [
        "Una vez familiarizados con el contenido del Dataset, proseguiremos a **limpiar y acomodar la información** antes de realizar las regresiones. Primero importamos todas las librerías necesarias."
      ],
      "metadata": {
        "id": "8N1m2XFUUYkV"
      }
    },
    {
      "cell_type": "code",
      "execution_count": 289,
      "metadata": {
        "id": "30r5HVWDT2D9"
      },
      "outputs": [],
      "source": [
        "# utilizado para manejos de directorios y rutas\n",
        "import os\n",
        "#utilizado para importar y ordenar los datos del DATASET\n",
        "import pandas as pd\n",
        "# Computacion vectorial y cientifica para python\n",
        "import numpy as np\n",
        "\n",
        "# Librerias para graficación (trazado de gráficos)\n",
        "from matplotlib import pyplot\n",
        "from mpl_toolkits.mplot3d import Axes3D  # Necesario para graficar superficies 3D\n",
        "from sklearn.model_selection import train_test_split\n",
        "# llama a matplotlib a embeber graficas dentro de los cuadernillos\n",
        "%matplotlib inline"
      ]
    },
    {
      "cell_type": "markdown",
      "source": [
        "Importamos al programa el DataSet **avocado.csv** y verificamos si se importó\n",
        "correctamente."
      ],
      "metadata": {
        "id": "NoUGomzPVY94"
      }
    },
    {
      "cell_type": "code",
      "source": [
        "df = pd.read_csv('avocado.csv')\n",
        "print(df.sample(n=200).head(200))"
      ],
      "metadata": {
        "colab": {
          "base_uri": "https://localhost:8080/"
        },
        "id": "uE4hju2IVRCP",
        "outputId": "2f8fefd1-2fe1-41ca-cdaa-f323efadd3c6"
      },
      "execution_count": 290,
      "outputs": [
        {
          "output_type": "stream",
          "name": "stdout",
          "text": [
            "       Unnamed: 0        Date  AveragePrice  Total Volume       4046  \\\n",
            "5776            1  2017-12-24          1.18      71004.42   39116.52   \n",
            "1644           32  2015-05-17          1.23     243265.56  168886.63   \n",
            "11456          42  2015-03-08          1.53       4954.18     498.38   \n",
            "8504            2  2018-03-11          1.36     874780.27  104341.22   \n",
            "3873           25  2016-07-03          0.93     272150.68  137102.40   \n",
            "...           ...         ...           ...           ...        ...   \n",
            "11903          21  2015-07-26          1.84       7977.11    2951.21   \n",
            "3467           35  2016-04-24          0.93     661913.55  132550.99   \n",
            "12473          20  2016-08-07          1.47       8981.41     667.31   \n",
            "7456           38  2017-04-09          1.36     119196.56   48580.74   \n",
            "9420           34  2015-05-03          1.81       3647.70      63.02   \n",
            "\n",
            "            4225      4770  Total Bags  Small Bags  Large Bags  XLarge Bags  \\\n",
            "5776     2348.06   4750.61    24789.23    18067.46     6638.51        83.26   \n",
            "1644    19797.32    173.63    54407.98    38066.02    16341.96         0.00   \n",
            "11456    2462.31    536.83     1456.66     1109.39      347.27         0.00   \n",
            "8504   484252.62   4933.91   281252.52   278834.00     2348.52        70.00   \n",
            "3873    48698.98   1134.71    85214.59    37396.58    41823.01      5995.00   \n",
            "...          ...       ...         ...         ...         ...          ...   \n",
            "11903    3851.35      0.00     1174.55      960.00      214.55         0.00   \n",
            "3467   225788.65  11418.75   292155.16    89444.44   200703.78      2006.94   \n",
            "12473    4129.75      0.00     4184.35      501.81     3682.54         0.00   \n",
            "7456    25212.69   1465.76    43937.37    36384.09     7553.28         0.00   \n",
            "9420      168.13      0.00     3416.55     3416.55        0.00         0.00   \n",
            "\n",
            "               type  year               region  \n",
            "5776   conventional  2017                Boise  \n",
            "1644   conventional  2015              Orlando  \n",
            "11456       organic  2015        SouthCarolina  \n",
            "8504   conventional  2018  BaltimoreWashington  \n",
            "3873   conventional  2016         Jacksonville  \n",
            "...             ...   ...                  ...  \n",
            "11903       organic  2015     WestTexNewMexico  \n",
            "3467   conventional  2016               Denver  \n",
            "12473       organic  2016             Columbus  \n",
            "7456   conventional  2017           Pittsburgh  \n",
            "9420        organic  2015     BuffaloRochester  \n",
            "\n",
            "[200 rows x 14 columns]\n"
          ]
        }
      ]
    },
    {
      "cell_type": "markdown",
      "source": [
        "Analizando el DataSet, vemos que tenemos una **CARACTERÍSTICA CÍCLICA (Columna: Date)** además de una columna **year** que indica el mismo año que ya se encuentra en **Date**.\n",
        "Por tanto, la solución para aprovechar mejor el comportamiento cíclico aplicamos **senos** y **cosenos** a **Date** pero solamente a meses (valor más relevante para tener una variable que indique temporada) y aprovechar la columna **year** para conservar el valor del año. Entonces aplicamos:\n",
        "\n",
        "http://blog.davidkaleko.com/feature-engineering-cyclical-features.html\n",
        "\n",
        "![image.png](data:image/png;base64,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)"
      ],
      "metadata": {
        "id": "6vYa0m61WDd8"
      }
    },
    {
      "cell_type": "code",
      "source": [
        "#Nos aseguramos que la columna Date este en el formato correcto DateTime\n",
        "#Aplicamos la fórmula para volver a Date en 2 nuevos columnas pero\n",
        "#como características cíclicas.\n",
        "df['Date'] = pd.to_datetime(df['Date'])\n",
        "df['month_sin'] = np.sin(2 * np.pi * df['Date'].dt.month / 12)\n",
        "df['month_cos'] = np.cos(2 * np.pi * df['Date'].dt.month / 12)\n",
        "\n",
        "# Eliminanos la columna original de fecha ya usaremos las nuevas columas\n",
        "df.drop('Date', axis=1, inplace=True)\n",
        "\n",
        "print(df.head(100))"
      ],
      "metadata": {
        "colab": {
          "base_uri": "https://localhost:8080/"
        },
        "id": "T9kudgmOYA3s",
        "outputId": "cefe8e8a-d9ad-4174-b225-c4e29e7dc329"
      },
      "execution_count": 291,
      "outputs": [
        {
          "output_type": "stream",
          "name": "stdout",
          "text": [
            "    Unnamed: 0  AveragePrice  Total Volume       4046       4225    4770  \\\n",
            "0            0          1.33      64236.62    1036.74   54454.85   48.16   \n",
            "1            1          1.35      54876.98     674.28   44638.81   58.33   \n",
            "2            2          0.93     118220.22     794.70  109149.67  130.50   \n",
            "3            3          1.08      78992.15    1132.00   71976.41   72.58   \n",
            "4            4          1.28      51039.60     941.48   43838.39   75.78   \n",
            "..         ...           ...           ...        ...        ...     ...   \n",
            "95          43          0.99     512532.44  441544.00   21183.70  347.78   \n",
            "96          44          1.10     431308.56  369316.29   18324.76  237.47   \n",
            "97          45          1.06     427391.28  364446.77   17420.41  638.18   \n",
            "98          46          1.03     433883.91  377256.38   17162.50  524.85   \n",
            "99          47          0.96     636771.37  553198.56   31583.38  294.94   \n",
            "\n",
            "    Total Bags  Small Bags  Large Bags  XLarge Bags          type  year  \\\n",
            "0      8696.87     8603.62       93.25         0.00  conventional  2015   \n",
            "1      9505.56     9408.07       97.49         0.00  conventional  2015   \n",
            "2      8145.35     8042.21      103.14         0.00  conventional  2015   \n",
            "3      5811.16     5677.40      133.76         0.00  conventional  2015   \n",
            "4      6183.95     5986.26      197.69         0.00  conventional  2015   \n",
            "..         ...         ...         ...          ...           ...   ...   \n",
            "95    49456.96    32180.90    17273.38         2.68  conventional  2015   \n",
            "96    43430.04    33423.74    10006.30         0.00  conventional  2015   \n",
            "97    44885.92    26727.66    18158.26         0.00  conventional  2015   \n",
            "98    38940.18    18044.41    20895.77         0.00  conventional  2015   \n",
            "99    51694.49    10553.73    41140.76         0.00  conventional  2015   \n",
            "\n",
            "     region     month_sin     month_cos  \n",
            "0    Albany -2.449294e-16  1.000000e+00  \n",
            "1    Albany -2.449294e-16  1.000000e+00  \n",
            "2    Albany -2.449294e-16  1.000000e+00  \n",
            "3    Albany -2.449294e-16  1.000000e+00  \n",
            "4    Albany -5.000000e-01  8.660254e-01  \n",
            "..      ...           ...           ...  \n",
            "95  Atlanta  1.000000e+00  6.123234e-17  \n",
            "96  Atlanta  8.660254e-01  5.000000e-01  \n",
            "97  Atlanta  8.660254e-01  5.000000e-01  \n",
            "98  Atlanta  8.660254e-01  5.000000e-01  \n",
            "99  Atlanta  8.660254e-01  5.000000e-01  \n",
            "\n",
            "[100 rows x 15 columns]\n"
          ]
        }
      ]
    },
    {
      "cell_type": "markdown",
      "source": [
        "Siguiendo con el análisis, vemos que tenemos una característica categórica llamada **region** con valores **no numericos**. Analizando el DataSet observamos que los precios varían dependiendo de la región, por tanto debemos llevarlo a un equivalente numérico."
      ],
      "metadata": {
        "id": "ynETvis6Y7qd"
      }
    },
    {
      "cell_type": "code",
      "source": [
        "# Obtenemos los valores únicos de la columna 'region'\n",
        "regiones_unicas = df['region'].unique()\n",
        "\n",
        "# Mostrar la lista de valores únicos\n",
        "print(regiones_unicas)\n",
        "\n",
        "# Mostrar la cantidad de regiones únicas\n",
        "print(len(regiones_unicas))"
      ],
      "metadata": {
        "colab": {
          "base_uri": "https://localhost:8080/"
        },
        "id": "UCxqRzMsb2eX",
        "outputId": "2debd307-4d10-472e-82a0-d8a3edba6cdf"
      },
      "execution_count": 292,
      "outputs": [
        {
          "output_type": "stream",
          "name": "stdout",
          "text": [
            "['Albany' 'Atlanta' 'BaltimoreWashington' 'Boise' 'Boston'\n",
            " 'BuffaloRochester' 'California' 'Charlotte' 'Chicago' 'CincinnatiDayton'\n",
            " 'Columbus' 'DallasFtWorth' 'Denver' 'Detroit' 'GrandRapids' 'GreatLakes'\n",
            " 'HarrisburgScranton' 'HartfordSpringfield' 'Houston' 'Indianapolis'\n",
            " 'Jacksonville' 'LasVegas' 'LosAngeles' 'Louisville' 'MiamiFtLauderdale'\n",
            " 'Midsouth' 'Nashville' 'NewOrleansMobile' 'NewYork' 'Northeast'\n",
            " 'NorthernNewEngland' 'Orlando' 'Philadelphia' 'PhoenixTucson'\n",
            " 'Pittsburgh' 'Plains' 'Portland' 'RaleighGreensboro' 'RichmondNorfolk'\n",
            " 'Roanoke' 'Sacramento' 'SanDiego' 'SanFrancisco' 'Seattle'\n",
            " 'SouthCarolina' 'SouthCentral' 'Southeast' 'Spokane' 'StLouis' 'Syracuse'\n",
            " 'Tampa' 'TotalUS' 'West' 'WestTexNewMexico']\n",
            "54\n"
          ]
        }
      ]
    },
    {
      "cell_type": "markdown",
      "source": [
        "Observamos que tenemos 54 regiones (categorías) en total, sin embargo para este ejercicio se decidió generalizar las regiones de EE.UU. en regiones más generales y extensas (para minimizar el número de categorías).\n",
        "\n",
        "Luego de tener regiones más generales, se les asigna un valor numérico ordinal. Entonces:"
      ],
      "metadata": {
        "id": "AhQ1ujqVcJe4"
      }
    },
    {
      "cell_type": "code",
      "source": [
        "# Mapear las regiones a las categorías generalizadas\n",
        "region_map = {\n",
        "    'Albany': 'Northeast',\n",
        "    'Atlanta': 'Southeast',\n",
        "    'BaltimoreWashington': 'Northeast',\n",
        "    'Boise': 'West',\n",
        "    'Boston': 'Northeast',\n",
        "    'BuffaloRochester': 'Northeast',\n",
        "    'California': 'West',\n",
        "    'Charlotte': 'Southeast',\n",
        "    'Chicago': 'Midwest',\n",
        "    'CincinnatiDayton': 'Midwest',\n",
        "    'Columbus': 'Midwest',\n",
        "    'DallasFtWorth': 'SouthCentral',\n",
        "    'Denver': 'West',\n",
        "    'Detroit': 'Midwest',\n",
        "    'GrandRapids': 'Midwest',\n",
        "    'GreatLakes': 'Midwest',\n",
        "    'HarrisburgScranton': 'Northeast',\n",
        "    'HartfordSpringfield': 'Northeast',\n",
        "    'Houston': 'SouthCentral',\n",
        "    'Indianapolis': 'Midwest',\n",
        "    'Jacksonville': 'Southeast',\n",
        "    'LasVegas': 'West',\n",
        "    'LosAngeles': 'West',\n",
        "    'Louisville': 'Midwest',\n",
        "    'MiamiFtLauderdale': 'Southeast',\n",
        "    'Midsouth': 'SouthCentral',\n",
        "    'Nashville': 'SouthCentral',\n",
        "    'NewOrleansMobile': 'SouthCentral',\n",
        "    'NewYork': 'Northeast',\n",
        "    'Northeast': 'Northeast',\n",
        "    'NorthernNewEngland': 'Northeast',\n",
        "    'Orlando': 'Southeast',\n",
        "    'Philadelphia': 'Northeast',\n",
        "    'PhoenixTucson': 'West',\n",
        "    'Pittsburgh': 'Northeast',\n",
        "    'Plains': 'Midwest',\n",
        "    'Portland': 'West',\n",
        "    'RaleighGreensboro': 'Southeast',\n",
        "    'RichmondNorfolk': 'Southeast',\n",
        "    'Roanoke': 'Southeast',\n",
        "    'Sacramento': 'West',\n",
        "    'SanDiego': 'West',\n",
        "    'SanFrancisco': 'West',\n",
        "    'Seattle': 'West',\n",
        "    'SouthCarolina': 'Southeast',\n",
        "    'SouthCentral': 'SouthCentral',\n",
        "    'Southeast': 'Southeast',\n",
        "    'Spokane': 'West',\n",
        "    'StLouis': 'Midwest',\n",
        "    'Syracuse': 'Northeast',\n",
        "    'Tampa': 'Southeast',\n",
        "    'TotalUS': 'TotalUS',\n",
        "    'West': 'West',\n",
        "    'WestTexNewMexico': 'West'\n",
        "}\n",
        "\n",
        "# Aplicar el mapeo a la columna 'region'\n",
        "df['region'] = df['region'].map(region_map)\n",
        "#A Las categorías se les asignará un valor ordinal siendo TotalUS el valor\n",
        "#ordinal más elevado.\n",
        "region_ordinal_map = {\n",
        "    'Northeast': 1,\n",
        "    'Midwest': 2,\n",
        "    'SouthCentral': 3,\n",
        "    'Southeast': 4,\n",
        "    'West': 5,\n",
        "    'TotalUS': 6\n",
        "}\n",
        "\n",
        "# Aplicar el mapeo a la columna 'region'\n",
        "df['region_ordinal'] = df['region'].map(region_ordinal_map)\n",
        "\n",
        "print(df.sample(n=20).head(20))\n"
      ],
      "metadata": {
        "colab": {
          "base_uri": "https://localhost:8080/"
        },
        "id": "jeAGK5CScg1h",
        "outputId": "8f819015-84c8-4820-8348-4255d9f0e938"
      },
      "execution_count": 293,
      "outputs": [
        {
          "output_type": "stream",
          "name": "stdout",
          "text": [
            "       Unnamed: 0  AveragePrice  Total Volume        4046        4225  \\\n",
            "7615           38          1.45     268332.13    75202.56    95458.05   \n",
            "1677           13          1.25     368779.77    14983.22   255352.91   \n",
            "7513           42          1.29    1602700.69   758548.15   426749.60   \n",
            "5182           34          0.71    6953488.71  3400699.04  1559296.24   \n",
            "337            25          1.12    6718011.83  3581149.88  2120303.06   \n",
            "14833          39          1.26      16943.34     1252.51     6359.96   \n",
            "15048          42          2.05       2414.64        0.00      286.14   \n",
            "7265            6          1.20     349206.00   212316.00    27720.00   \n",
            "11805          27          1.66     638192.89   202071.06   304368.47   \n",
            "11699          25          1.84       1014.02        1.24       64.68   \n",
            "13683          34          1.30      19517.25    10862.94     3558.85   \n",
            "5284           32          0.85     111993.65    24776.24    22868.96   \n",
            "14992          39          2.00      16320.74       80.78     1392.51   \n",
            "6110           17          1.72     212627.84     4651.19    73801.87   \n",
            "2836           28          1.38     111394.50     7531.24    83771.34   \n",
            "17419          28          2.07       6480.98      475.83     2787.16   \n",
            "11644          22          1.91       3005.89     2170.18       19.66   \n",
            "11264           6          1.68       8438.39     1537.41     6399.23   \n",
            "3168           48          0.88    6246380.73  1230068.19  2457751.77   \n",
            "15958          51          1.19     112953.28    18961.66    33123.81   \n",
            "\n",
            "            4770  Total Bags  Small Bags  Large Bags  XLarge Bags  \\\n",
            "7615     6114.48    91557.04    90352.20     1204.84         0.00   \n",
            "1677      497.49    97946.15    82669.93    15276.22         0.00   \n",
            "7513     6594.42   410808.52   399428.36     4019.84      7360.32   \n",
            "5182   398632.20  1594861.23  1215673.04   368204.58     10983.61   \n",
            "337    254187.47   762371.42   731692.08    27317.19      3362.15   \n",
            "14833       0.00     9330.87      636.10     8694.77         0.00   \n",
            "15048       0.00     2128.50      636.67     1491.83         0.00   \n",
            "7265      907.00   108263.00    63245.00    45015.00         3.00   \n",
            "11805    6264.36   125489.00    76906.18    48582.82         0.00   \n",
            "11699       0.00      948.10      948.10        0.00         0.00   \n",
            "13683       0.00     5095.46     1555.11     3540.35         0.00   \n",
            "5284     3401.00    60947.45    60819.71       32.08        95.66   \n",
            "14992       0.00    14847.45    14307.53      539.92         0.00   \n",
            "6110      817.07   133357.71    28780.49   104144.22       433.00   \n",
            "2836       81.25    20010.67    18368.49      282.18      1360.00   \n",
            "17419       0.00     3217.99     3217.99        0.00         0.00   \n",
            "11644       0.00      816.05      816.05        0.00         0.00   \n",
            "11264       0.00      501.75      430.10       71.65         0.00   \n",
            "3168   272665.17  2285895.60  2122673.09   147881.99     15340.52   \n",
            "15958       3.12    60864.69    57800.85     3063.84         0.00   \n",
            "\n",
            "               type  year        region     month_sin     month_cos  \\\n",
            "7615   conventional  2017     Southeast  8.660254e-01 -5.000000e-01   \n",
            "1677   conventional  2015     Northeast -1.000000e+00 -1.836970e-16   \n",
            "7513   conventional  2017       Midwest  1.000000e+00  6.123234e-17   \n",
            "5182   conventional  2016  SouthCentral  5.000000e-01 -8.660254e-01   \n",
            "337    conventional  2015          West -5.000000e-01 -8.660254e-01   \n",
            "14833       organic  2017     Southeast  8.660254e-01 -5.000000e-01   \n",
            "15048       organic  2017     Northeast  1.000000e+00  6.123234e-17   \n",
            "7265   conventional  2017     Southeast -5.000000e-01  8.660254e-01   \n",
            "11805       organic  2015       TotalUS  1.224647e-16 -1.000000e+00   \n",
            "11699       organic  2015     Northeast -5.000000e-01 -8.660254e-01   \n",
            "13683       organic  2016          West  5.000000e-01 -8.660254e-01   \n",
            "5284   conventional  2016          West  5.000000e-01 -8.660254e-01   \n",
            "14992       organic  2017     Northeast  8.660254e-01 -5.000000e-01   \n",
            "6110   conventional  2017       Midwest -1.000000e+00 -1.836970e-16   \n",
            "2836   conventional  2016     Northeast  1.224647e-16 -1.000000e+00   \n",
            "17419       organic  2017     Southeast  1.224647e-16 -1.000000e+00   \n",
            "11644       organic  2015       Midwest -5.000000e-01 -8.660254e-01   \n",
            "11264       organic  2015          West -5.000000e-01  8.660254e-01   \n",
            "3168   conventional  2016          West  5.000000e-01  8.660254e-01   \n",
            "15958       organic  2017          West  5.000000e-01  8.660254e-01   \n",
            "\n",
            "       region_ordinal  \n",
            "7615                4  \n",
            "1677                1  \n",
            "7513                2  \n",
            "5182                3  \n",
            "337                 5  \n",
            "14833               4  \n",
            "15048               1  \n",
            "7265                4  \n",
            "11805               6  \n",
            "11699               1  \n",
            "13683               5  \n",
            "5284                5  \n",
            "14992               1  \n",
            "6110                2  \n",
            "2836                1  \n",
            "17419               4  \n",
            "11644               2  \n",
            "11264               5  \n",
            "3168                5  \n",
            "15958               5  \n"
          ]
        }
      ]
    },
    {
      "cell_type": "markdown",
      "source": [
        "Ahora, terminada la conversión de datos de Region, realizaremos un análisis de correlación de variables."
      ],
      "metadata": {
        "id": "Wm8Gd--MituI"
      }
    },
    {
      "cell_type": "code",
      "source": [
        "correlation_matrix = df.corr()\n",
        "\n",
        "# Imprime la matriz de correlación\n",
        "print(correlation_matrix)"
      ],
      "metadata": {
        "colab": {
          "base_uri": "https://localhost:8080/"
        },
        "id": "SO1AzTO8i9oM",
        "outputId": "167a98cd-e437-4d7c-b41e-43325f731210"
      },
      "execution_count": 294,
      "outputs": [
        {
          "output_type": "stream",
          "name": "stdout",
          "text": [
            "                Unnamed: 0  AveragePrice  Total Volume      4046      4225  \\\n",
            "Unnamed: 0        1.000000     -0.133008      0.014035  0.017628  0.019829   \n",
            "AveragePrice     -0.133008      1.000000     -0.192752 -0.208317 -0.172928   \n",
            "Total Volume      0.014035     -0.192752      1.000000  0.977863  0.974181   \n",
            "4046              0.017628     -0.208317      0.977863  1.000000  0.926110   \n",
            "4225              0.019829     -0.172928      0.974181  0.926110  1.000000   \n",
            "4770              0.041752     -0.179446      0.872202  0.833389  0.887855   \n",
            "Total Bags       -0.002219     -0.177088      0.963047  0.920057  0.905787   \n",
            "Small Bags        0.000347     -0.174730      0.967238  0.925280  0.916031   \n",
            "Large Bags       -0.009196     -0.172940      0.880640  0.838645  0.810015   \n",
            "XLarge Bags      -0.011546     -0.117592      0.747157  0.699377  0.688809   \n",
            "year             -0.171667      0.093197      0.017193  0.003353 -0.009559   \n",
            "month_sin         0.583604     -0.221891      0.022639  0.023467  0.017606   \n",
            "month_cos        -0.233322     -0.046430     -0.010624 -0.017117 -0.005514   \n",
            "region_ordinal   -0.000340     -0.120347      0.198504  0.230628  0.150471   \n",
            "\n",
            "                    4770  Total Bags  Small Bags  Large Bags  XLarge Bags  \\\n",
            "Unnamed: 0      0.041752   -0.002219    0.000347   -0.009196    -0.011546   \n",
            "AveragePrice   -0.179446   -0.177088   -0.174730   -0.172940    -0.117592   \n",
            "Total Volume    0.872202    0.963047    0.967238    0.880640     0.747157   \n",
            "4046            0.833389    0.920057    0.925280    0.838645     0.699377   \n",
            "4225            0.887855    0.905787    0.916031    0.810015     0.688809   \n",
            "4770            1.000000    0.792314    0.802733    0.698471     0.679861   \n",
            "Total Bags      0.792314    1.000000    0.994335    0.943009     0.804233   \n",
            "Small Bags      0.802733    0.994335    1.000000    0.902589     0.806845   \n",
            "Large Bags      0.698471    0.943009    0.902589    1.000000     0.710858   \n",
            "XLarge Bags     0.679861    0.804233    0.806845    0.710858     1.000000   \n",
            "year           -0.036531    0.071552    0.063915    0.087891     0.081033   \n",
            "month_sin       0.030597    0.024347    0.023766    0.025674     0.000821   \n",
            "month_cos      -0.023353   -0.005972   -0.009517    0.008887    -0.054059   \n",
            "region_ordinal  0.154356    0.198760    0.191557    0.208099     0.131168   \n",
            "\n",
            "                    year  month_sin  month_cos  region_ordinal  \n",
            "Unnamed: 0     -0.171667   0.583604  -0.233322       -0.000340  \n",
            "AveragePrice    0.093197  -0.221891  -0.046430       -0.120347  \n",
            "Total Volume    0.017193   0.022639  -0.010624        0.198504  \n",
            "4046            0.003353   0.023467  -0.017117        0.230628  \n",
            "4225           -0.009559   0.017606  -0.005514        0.150471  \n",
            "4770           -0.036531   0.030597  -0.023353        0.154356  \n",
            "Total Bags      0.071552   0.024347  -0.005972        0.198760  \n",
            "Small Bags      0.063915   0.023766  -0.009517        0.191557  \n",
            "Large Bags      0.087891   0.025674   0.008887        0.208099  \n",
            "XLarge Bags     0.081033   0.000821  -0.054059        0.131168  \n",
            "year            1.000000   0.154503   0.104430       -0.000038  \n",
            "month_sin       0.154503   1.000000   0.032386        0.000015  \n",
            "month_cos       0.104430   0.032386   1.000000        0.000101  \n",
            "region_ordinal -0.000038   0.000015   0.000101        1.000000  \n"
          ]
        },
        {
          "output_type": "stream",
          "name": "stderr",
          "text": [
            "<ipython-input-294-0d3fc10aa1f1>:1: FutureWarning: The default value of numeric_only in DataFrame.corr is deprecated. In a future version, it will default to False. Select only valid columns or specify the value of numeric_only to silence this warning.\n",
            "  correlation_matrix = df.corr()\n"
          ]
        }
      ]
    },
    {
      "cell_type": "markdown",
      "source": [
        "De acuerdo a los resultado, podemos observar que tenemos gran grado de correlacion (80%-94%) entre el tamaño de las Bolsas, y esto es **correcto** ya que la columna **Total Bags** es la suma de **Small Bags **, **Large Bags** y **XLarge Bags**. Por tanto para no caer en redundancia y problemas en nuestros modelos, utilizaremos solamente la columna **Total Bags** y eliminaremos las otras 3 columnas (ya que no es un dato muy relevante en el precio (label Y).\n",
        "\n",
        "Además, de la misma forma, **Total Volume** tiene un grado de correlacion elevado (97%) con los PLU de los aguacates, y es de la misma forma **correcto**, ya que en la información del DataSet nos indica que Total Volume es la cantidad total de paltas vendidas, y los **PLU 4046 ,4225 y 4770** son el total de paltas vendidas de esa clasificación (tipo de palta), sin embargo en este caso eliminaremos la columna **Total Volume** ya que puede ser **relevante el tipo de palta **para predecir el precio.\n",
        "\n",
        "Entonces eliminando las columnas que ya no necesitamos, obtendremos:"
      ],
      "metadata": {
        "id": "W0-eozc-jNCc"
      }
    },
    {
      "cell_type": "code",
      "source": [
        "df.drop('Unnamed: 0', axis=1, inplace=True) #numeración de datos\n",
        "df.drop('Total Volume', axis=1, inplace=True)\n",
        "df.drop('Small Bags', axis=1, inplace=True)\n",
        "df.drop('Large Bags', axis=1, inplace=True)\n",
        "df.drop('XLarge Bags', axis=1, inplace=True)\n",
        "print(df.head())"
      ],
      "metadata": {
        "colab": {
          "base_uri": "https://localhost:8080/"
        },
        "id": "7LHUyNPTcgBQ",
        "outputId": "73bc29a1-eed5-4b1a-a32f-20cc40cacc3f"
      },
      "execution_count": 295,
      "outputs": [
        {
          "output_type": "stream",
          "name": "stdout",
          "text": [
            "   AveragePrice     4046       4225    4770  Total Bags          type  year  \\\n",
            "0          1.33  1036.74   54454.85   48.16     8696.87  conventional  2015   \n",
            "1          1.35   674.28   44638.81   58.33     9505.56  conventional  2015   \n",
            "2          0.93   794.70  109149.67  130.50     8145.35  conventional  2015   \n",
            "3          1.08  1132.00   71976.41   72.58     5811.16  conventional  2015   \n",
            "4          1.28   941.48   43838.39   75.78     6183.95  conventional  2015   \n",
            "\n",
            "      region     month_sin  month_cos  region_ordinal  \n",
            "0  Northeast -2.449294e-16   1.000000               1  \n",
            "1  Northeast -2.449294e-16   1.000000               1  \n",
            "2  Northeast -2.449294e-16   1.000000               1  \n",
            "3  Northeast -2.449294e-16   1.000000               1  \n",
            "4  Northeast -5.000000e-01   0.866025               1  \n"
          ]
        }
      ]
    },
    {
      "cell_type": "markdown",
      "source": [
        "Y para finalizar con la limpieza y ordenado de datos, vemos la característica type, que indica el tipo de aguacates en 2 categorías (conventional y organic), por tanto debemos analizar cómo afecta a nuestra Salida dicha variable para asignar un valor ordinal, tal como hicimos con región. Entonces:"
      ],
      "metadata": {
        "id": "rINWhD6WlodI"
      }
    },
    {
      "cell_type": "code",
      "source": [
        "muestraRegion = df.sample(n=1000)\n",
        "pyplot.figure(figsize=(8, 4))\n",
        "pyplot.scatter(muestraRegion['type'], muestraRegion['AveragePrice'], alpha=0.5)\n",
        "pyplot.title('tipo vs Precio de los Aguacates')\n",
        "pyplot.xlabel('Tipo')\n",
        "pyplot.ylabel('Precio')\n",
        "pyplot.grid(True)\n",
        "pyplot.show()"
      ],
      "metadata": {
        "colab": {
          "base_uri": "https://localhost:8080/",
          "height": 410
        },
        "id": "utTHYLlwmC27",
        "outputId": "96aaa634-3b0a-4592-e89b-50e4d85e72bf"
      },
      "execution_count": 296,
      "outputs": [
        {
          "output_type": "display_data",
          "data": {
            "text/plain": [
              "<Figure size 800x400 with 1 Axes>"
            ],
            "image/png": "[encoded data removed]"
          },
          "metadata": {}
        }
      ]
    },
    {
      "cell_type": "markdown",
      "source": [
        "Gracias a la gráfica podemos observar que los aguacates orgánicos son generalmente más caros que los convencionales y esto tiene sentido ya que los orgánicos se los cultiva en menor cantidad y con más cuidados para no usar químicos en su siembra.\n",
        "\n",
        "Por tanto:\n",
        "Para convertirlos en valor numérico usaremos el orden:\n",
        "0.conventional\n",
        "1.organic"
      ],
      "metadata": {
        "id": "EeWkacawmsvv"
      }
    },
    {
      "cell_type": "code",
      "source": [
        "#transformar a ordinal columna  type\n",
        "df['type'] = df['type'].map({'conventional': 0, 'organic': 1})\n",
        "print(df.head())"
      ],
      "metadata": {
        "colab": {
          "base_uri": "https://localhost:8080/"
        },
        "id": "58f3ZotInMCk",
        "outputId": "a528bf06-03a5-4853-bcad-6ef6506780d8"
      },
      "execution_count": 297,
      "outputs": [
        {
          "output_type": "stream",
          "name": "stdout",
          "text": [
            "   AveragePrice     4046       4225    4770  Total Bags  type  year  \\\n",
            "0          1.33  1036.74   54454.85   48.16     8696.87     0  2015   \n",
            "1          1.35   674.28   44638.81   58.33     9505.56     0  2015   \n",
            "2          0.93   794.70  109149.67  130.50     8145.35     0  2015   \n",
            "3          1.08  1132.00   71976.41   72.58     5811.16     0  2015   \n",
            "4          1.28   941.48   43838.39   75.78     6183.95     0  2015   \n",
            "\n",
            "      region     month_sin  month_cos  region_ordinal  \n",
            "0  Northeast -2.449294e-16   1.000000               1  \n",
            "1  Northeast -2.449294e-16   1.000000               1  \n",
            "2  Northeast -2.449294e-16   1.000000               1  \n",
            "3  Northeast -2.449294e-16   1.000000               1  \n",
            "4  Northeast -5.000000e-01   0.866025               1  \n"
          ]
        }
      ]
    },
    {
      "cell_type": "code",
      "source": [
        "#OJO, observamos que no eliminamos la columna region\n",
        "#debemos hacerlo ya que tenemos su equivalente en ordinal que calculamos anteriormente\n",
        "df.drop('region', axis=1, inplace=True)\n",
        "print(df.head())"
      ],
      "metadata": {
        "colab": {
          "base_uri": "https://localhost:8080/"
        },
        "id": "DuuQJPQXoHx2",
        "outputId": "55c6255b-e2b1-44bc-a752-8c14836c7c4d"
      },
      "execution_count": 298,
      "outputs": [
        {
          "output_type": "stream",
          "name": "stdout",
          "text": [
            "   AveragePrice     4046       4225    4770  Total Bags  type  year  \\\n",
            "0          1.33  1036.74   54454.85   48.16     8696.87     0  2015   \n",
            "1          1.35   674.28   44638.81   58.33     9505.56     0  2015   \n",
            "2          0.93   794.70  109149.67  130.50     8145.35     0  2015   \n",
            "3          1.08  1132.00   71976.41   72.58     5811.16     0  2015   \n",
            "4          1.28   941.48   43838.39   75.78     6183.95     0  2015   \n",
            "\n",
            "      month_sin  month_cos  region_ordinal  \n",
            "0 -2.449294e-16   1.000000               1  \n",
            "1 -2.449294e-16   1.000000               1  \n",
            "2 -2.449294e-16   1.000000               1  \n",
            "3 -2.449294e-16   1.000000               1  \n",
            "4 -5.000000e-01   0.866025               1  \n"
          ]
        }
      ]
    },
    {
      "cell_type": "markdown",
      "source": [
        "## Conclusión Análisis\n",
        "\n",
        "Queda concluido el análisis y organización de los datos del DataSet, los resultados finales son:\n",
        "\n",
        "\n",
        "*   Características Totales: 9\n",
        "\n"
      ],
      "metadata": {
        "id": "I83Fvy6YnsPp"
      }
    },
    {
      "cell_type": "markdown",
      "source": [
        "#2 Modelos\n",
        "Para los modelos primero separaremos los datos en entrenamiento y prueba, antes de aplicarlos.\n"
      ],
      "metadata": {
        "id": "nrXJM2x3Umjd"
      }
    },
    {
      "cell_type": "code",
      "source": [
        "print(df.head())\n"
      ],
      "metadata": {
        "colab": {
          "base_uri": "https://localhost:8080/"
        },
        "id": "b8ytSXCkpmac",
        "outputId": "9b827841-2d79-485a-b2b7-c1a51ad862b8"
      },
      "execution_count": 299,
      "outputs": [
        {
          "output_type": "stream",
          "name": "stdout",
          "text": [
            "   AveragePrice     4046       4225    4770  Total Bags  type  year  \\\n",
            "0          1.33  1036.74   54454.85   48.16     8696.87     0  2015   \n",
            "1          1.35   674.28   44638.81   58.33     9505.56     0  2015   \n",
            "2          0.93   794.70  109149.67  130.50     8145.35     0  2015   \n",
            "3          1.08  1132.00   71976.41   72.58     5811.16     0  2015   \n",
            "4          1.28   941.48   43838.39   75.78     6183.95     0  2015   \n",
            "\n",
            "      month_sin  month_cos  region_ordinal  \n",
            "0 -2.449294e-16   1.000000               1  \n",
            "1 -2.449294e-16   1.000000               1  \n",
            "2 -2.449294e-16   1.000000               1  \n",
            "3 -2.449294e-16   1.000000               1  \n",
            "4 -5.000000e-01   0.866025               1  \n"
          ]
        }
      ]
    },
    {
      "cell_type": "markdown",
      "source": [
        "Separamos las características del label (Y)"
      ],
      "metadata": {
        "id": "NnNTxSI1SkY9"
      }
    },
    {
      "cell_type": "code",
      "source": [
        "y = df['AveragePrice']\n",
        "X = df.drop(columns=['AveragePrice'])\n",
        "\n"
      ],
      "metadata": {
        "id": "g90beXsoqQZC"
      },
      "execution_count": 300,
      "outputs": []
    },
    {
      "cell_type": "code",
      "source": [
        "print(X.head(10))\n",
        "print(\"---------------\")\n",
        "print(y.head(10))"
      ],
      "metadata": {
        "colab": {
          "base_uri": "https://localhost:8080/"
        },
        "id": "K0iNo0uXqiVX",
        "outputId": "2339dced-b2c6-4da0-96e5-54d9315cbb82"
      },
      "execution_count": 301,
      "outputs": [
        {
          "output_type": "stream",
          "name": "stdout",
          "text": [
            "      4046       4225    4770  Total Bags  type  year     month_sin  \\\n",
            "0  1036.74   54454.85   48.16     8696.87     0  2015 -2.449294e-16   \n",
            "1   674.28   44638.81   58.33     9505.56     0  2015 -2.449294e-16   \n",
            "2   794.70  109149.67  130.50     8145.35     0  2015 -2.449294e-16   \n",
            "3  1132.00   71976.41   72.58     5811.16     0  2015 -2.449294e-16   \n",
            "4   941.48   43838.39   75.78     6183.95     0  2015 -5.000000e-01   \n",
            "5  1184.27   48067.99   43.61     6683.91     0  2015 -5.000000e-01   \n",
            "6  1368.92   73672.72   93.26     8318.86     0  2015 -5.000000e-01   \n",
            "7   703.75  101815.36   80.00     6829.22     0  2015 -5.000000e-01   \n",
            "8  1022.15   87315.57   85.34    11388.36     0  2015 -5.000000e-01   \n",
            "9   842.40   64757.44  113.00     8625.92     0  2015 -8.660254e-01   \n",
            "\n",
            "   month_cos  region_ordinal  \n",
            "0   1.000000               1  \n",
            "1   1.000000               1  \n",
            "2   1.000000               1  \n",
            "3   1.000000               1  \n",
            "4   0.866025               1  \n",
            "5   0.866025               1  \n",
            "6   0.866025               1  \n",
            "7   0.866025               1  \n",
            "8   0.866025               1  \n",
            "9   0.500000               1  \n",
            "---------------\n",
            "0    1.33\n",
            "1    1.35\n",
            "2    0.93\n",
            "3    1.08\n",
            "4    1.28\n",
            "5    1.26\n",
            "6    0.99\n",
            "7    0.98\n",
            "8    1.02\n",
            "9    1.07\n",
            "Name: AveragePrice, dtype: float64\n"
          ]
        }
      ]
    },
    {
      "cell_type": "code",
      "source": [
        "# Dividir los datos en conjuntos de entrenamiento y prueba\n",
        "X_train, X_test, y_train, y_test = train_test_split(X, y, test_size=0.2, random_state=42)"
      ],
      "metadata": {
        "id": "uVto7oAvrhRn"
      },
      "execution_count": 302,
      "outputs": []
    },
    {
      "cell_type": "code",
      "source": [
        "print('X_train(LENGHT):',len(X_train))\n",
        "print('y_train(LENGHT):',len(y_train))\n",
        "print('X_test(LENGHT):',len(X_test))\n",
        "print('y_test(LENGHT):',len(y_test))\n",
        "\n",
        "print('------------')\n",
        "print(X_train.head())\n",
        "print('------------')\n",
        "print(y_train.head())"
      ],
      "metadata": {
        "colab": {
          "base_uri": "https://localhost:8080/"
        },
        "id": "4HfaeQ8ZrlwS",
        "outputId": "9d94b2b7-2e0f-4c59-9c3a-19c5057e1c05"
      },
      "execution_count": 303,
      "outputs": [
        {
          "output_type": "stream",
          "name": "stdout",
          "text": [
            "X_train(LENGHT): 14599\n",
            "y_train(LENGHT): 14599\n",
            "X_test(LENGHT): 3650\n",
            "y_test(LENGHT): 3650\n",
            "------------\n",
            "            4046       4225      4770  Total Bags  type  year     month_sin  \\\n",
            "16391     147.41     871.40      0.00     4357.77     1  2017 -5.000000e-01   \n",
            "4990   155537.61  153030.46  21523.37   248519.50     0  2016  5.000000e-01   \n",
            "13653    2026.07    2529.20      0.00     1914.81     1  2016 -5.000000e-01   \n",
            "2074    78195.76   38763.75    134.25    28554.64     0  2015  8.660254e-01   \n",
            "12377     162.25   38677.24      0.00     1695.56     1  2016  1.224647e-16   \n",
            "\n",
            "       month_cos  region_ordinal  \n",
            "16391   0.866025               4  \n",
            "4990    0.866025               5  \n",
            "13653   0.866025               5  \n",
            "2074    0.500000               4  \n",
            "12377  -1.000000               2  \n",
            "------------\n",
            "16391    1.88\n",
            "4990     0.81\n",
            "13653    2.01\n",
            "2074     1.02\n",
            "12377    1.53\n",
            "Name: AveragePrice, dtype: float64\n"
          ]
        }
      ]
    },
    {
      "cell_type": "code",
      "source": [
        "print(X_test.head())\n",
        "print('------------')\n",
        "print(y_test.head())"
      ],
      "metadata": {
        "colab": {
          "base_uri": "https://localhost:8080/"
        },
        "id": "ZG0RxV-95Fj_",
        "outputId": "4ac60981-81eb-45fe-aa9f-8226a254e191"
      },
      "execution_count": 304,
      "outputs": [
        {
          "output_type": "stream",
          "name": "stdout",
          "text": [
            "            4046      4225     4770  Total Bags  type  year  month_sin  \\\n",
            "8604    79239.58  26356.05  2998.74   109735.33     0  2018   0.866025   \n",
            "2608   228324.13  72749.38   100.62    90340.30     0  2015  -0.500000   \n",
            "14581    1147.09     39.51     0.00     2720.80     1  2016   0.500000   \n",
            "4254   150786.30  27025.48   565.65    89576.35     0  2016   1.000000   \n",
            "16588     828.39      3.24     0.00     7973.65     1  2017   0.866025   \n",
            "\n",
            "          month_cos  region_ordinal  \n",
            "8604   5.000000e-01               2  \n",
            "2608   8.660254e-01               4  \n",
            "14581  8.660254e-01               4  \n",
            "4254   6.123234e-17               3  \n",
            "16588  5.000000e-01               1  \n",
            "------------\n",
            "8604     0.82\n",
            "2608     0.97\n",
            "14581    1.44\n",
            "4254     0.97\n",
            "16588    1.45\n",
            "Name: AveragePrice, dtype: float64\n"
          ]
        }
      ]
    },
    {
      "cell_type": "markdown",
      "source": [
        "##2.1 Regresion Lineal Multivariable\n",
        "\n",
        "Primero debemos normalizar nuestros datos.\n",
        "Sin embargo, debemos convertir el DataFrame de pandas en un array de NumPy sin encabezados ni índices, entonces:"
      ],
      "metadata": {
        "id": "291pxTUAsqlp"
      }
    },
    {
      "cell_type": "code",
      "source": [
        "X_tr = X_train.values"
      ],
      "metadata": {
        "id": "CIYkEcMjt406"
      },
      "execution_count": 305,
      "outputs": []
    },
    {
      "cell_type": "code",
      "source": [
        "y_tr= y_train.values"
      ],
      "metadata": {
        "id": "RZO4j7GuxpNW"
      },
      "execution_count": 306,
      "outputs": []
    },
    {
      "cell_type": "code",
      "source": [
        "m=y_tr.size\n",
        "n = X_tr.shape[0]\n",
        "print(m,n)"
      ],
      "metadata": {
        "colab": {
          "base_uri": "https://localhost:8080/"
        },
        "id": "BbvI-NscxzVc",
        "outputId": "5fdd505d-aab3-4b3d-e7a7-9ee52ecd2c6c"
      },
      "execution_count": 307,
      "outputs": [
        {
          "output_type": "stream",
          "name": "stdout",
          "text": [
            "14599 14599\n"
          ]
        }
      ]
    },
    {
      "cell_type": "code",
      "source": [
        "# imprimir algunos puntos de datos\n",
        "print('{:>8s}{:>8s}{:>10s}'.format('X[:,0]', 'X[:, 1]', 'y'))\n",
        "print('-'*26)\n",
        "for i in range(10):\n",
        "    print('{:8.0f}{:8.0f}{:10.0f}'.format(X_tr[i, 0], X_tr[i, 1], y_tr[i]))"
      ],
      "metadata": {
        "colab": {
          "base_uri": "https://localhost:8080/"
        },
        "id": "aDnpK94EyFVN",
        "outputId": "54e793bd-cf31-4a94-f43f-37f2498c8e66"
      },
      "execution_count": 308,
      "outputs": [
        {
          "output_type": "stream",
          "name": "stdout",
          "text": [
            "  X[:,0] X[:, 1]         y\n",
            "--------------------------\n",
            "     147     871         2\n",
            "  155538  153030         1\n",
            "    2026    2529         2\n",
            "   78196   38764         1\n",
            "     162   38677         2\n",
            "  126893   33866         1\n",
            "     487    1465         2\n",
            "  145444   50581         1\n",
            "    2680  129292         1\n",
            "    6195  112907         1\n"
          ]
        }
      ]
    },
    {
      "cell_type": "markdown",
      "source": [
        "Vemos que con la función anterior los valores se redondean así que para comprobación imprimimos los ahora convertidos a vectores."
      ],
      "metadata": {
        "id": "jttJpgSTTZVH"
      }
    },
    {
      "cell_type": "code",
      "source": [
        "print(X_tr[:10])"
      ],
      "metadata": {
        "colab": {
          "base_uri": "https://localhost:8080/"
        },
        "id": "hOJUn21aw1ah",
        "outputId": "7bf6a2e7-ffe9-4b78-bde2-c56c5d39fef1"
      },
      "execution_count": 309,
      "outputs": [
        {
          "output_type": "stream",
          "name": "stdout",
          "text": [
            "[[ 1.47410000e+02  8.71400000e+02  0.00000000e+00  4.35777000e+03\n",
            "   1.00000000e+00  2.01700000e+03 -5.00000000e-01  8.66025404e-01\n",
            "   4.00000000e+00]\n",
            " [ 1.55537610e+05  1.53030460e+05  2.15233700e+04  2.48519500e+05\n",
            "   0.00000000e+00  2.01600000e+03  5.00000000e-01  8.66025404e-01\n",
            "   5.00000000e+00]\n",
            " [ 2.02607000e+03  2.52920000e+03  0.00000000e+00  1.91481000e+03\n",
            "   1.00000000e+00  2.01600000e+03 -5.00000000e-01  8.66025404e-01\n",
            "   5.00000000e+00]\n",
            " [ 7.81957600e+04  3.87637500e+04  1.34250000e+02  2.85546400e+04\n",
            "   0.00000000e+00  2.01500000e+03  8.66025404e-01  5.00000000e-01\n",
            "   4.00000000e+00]\n",
            " [ 1.62250000e+02  3.86772400e+04  0.00000000e+00  1.69556000e+03\n",
            "   1.00000000e+00  2.01600000e+03  1.22464680e-16 -1.00000000e+00\n",
            "   2.00000000e+00]\n",
            " [ 1.26893080e+05  3.38659000e+04  2.80582000e+03  1.12857070e+05\n",
            "   0.00000000e+00  2.01700000e+03  5.00000000e-01 -8.66025404e-01\n",
            "   2.00000000e+00]\n",
            " [ 4.86970000e+02  1.46540000e+03  0.00000000e+00  4.52290000e+02\n",
            "   1.00000000e+00  2.01500000e+03 -1.00000000e+00 -1.83697020e-16\n",
            "   2.00000000e+00]\n",
            " [ 1.45443750e+05  5.05808300e+04  8.98100000e+01  1.00817720e+05\n",
            "   0.00000000e+00  2.01600000e+03  8.66025404e-01  5.00000000e-01\n",
            "   4.00000000e+00]\n",
            " [ 2.68000000e+03  1.29291790e+05  4.90563000e+03  5.68458000e+04\n",
            "   0.00000000e+00  2.01500000e+03 -5.00000000e-01  8.66025404e-01\n",
            "   2.00000000e+00]\n",
            " [ 6.19529000e+03  1.12907190e+05  1.33529000e+03  1.68419370e+05\n",
            "   0.00000000e+00  2.01600000e+03 -1.00000000e+00 -1.83697020e-16\n",
            "   2.00000000e+00]]\n"
          ]
        }
      ]
    },
    {
      "cell_type": "code",
      "source": [
        "print(y_tr[:10])"
      ],
      "metadata": {
        "colab": {
          "base_uri": "https://localhost:8080/"
        },
        "id": "9owtGUySzFy4",
        "outputId": "db1295eb-242b-476f-e073-1791f3a26ff7"
      },
      "execution_count": 310,
      "outputs": [
        {
          "output_type": "stream",
          "name": "stdout",
          "text": [
            "[1.88 0.81 2.01 1.02 1.53 0.93 1.67 1.05 0.88 0.96]\n"
          ]
        }
      ]
    },
    {
      "cell_type": "markdown",
      "source": [
        "Ahora, una vez acomodados y verificados los datos en arrays de Numpy, normalizamos para que todas las características se encuentren en un mismo rango de valores, usaremos la media y la desviación estandar:"
      ],
      "metadata": {
        "id": "FlPO7YEG0zbS"
      }
    },
    {
      "cell_type": "code",
      "source": [
        "def  featureNormalize(X):\n",
        "    X_norm = X.copy()\n",
        "    mu = np.zeros(X.shape[1])\n",
        "    sigma = np.zeros(X.shape[1])\n",
        "\n",
        "    mu = np.mean(X, axis = 0)\n",
        "    sigma = np.std(X, axis = 0)\n",
        "    X_norm = (X - mu) / sigma\n",
        "\n",
        "    return X_norm, mu, sigma"
      ],
      "metadata": {
        "id": "pfccYMtWtUqu"
      },
      "execution_count": 311,
      "outputs": []
    },
    {
      "cell_type": "code",
      "source": [
        "# llama featureNormalize con los datos cargados\n",
        "X_norm, mu, sigma = featureNormalize(X_tr)\n",
        "\n",
        "print(X_tr)\n",
        "print('Media calculada:', mu)\n",
        "print('Desviación estandar calculada:', sigma)\n",
        "print(X_norm)"
      ],
      "metadata": {
        "colab": {
          "base_uri": "https://localhost:8080/"
        },
        "id": "0MmMFOeVz_gM",
        "outputId": "2a2bd351-2a23-4425-81e6-3f1dd3af99c2"
      },
      "execution_count": 312,
      "outputs": [
        {
          "output_type": "stream",
          "name": "stdout",
          "text": [
            "[[ 1.47410000e+02  8.71400000e+02  0.00000000e+00 ... -5.00000000e-01\n",
            "   8.66025404e-01  4.00000000e+00]\n",
            " [ 1.55537610e+05  1.53030460e+05  2.15233700e+04 ...  5.00000000e-01\n",
            "   8.66025404e-01  5.00000000e+00]\n",
            " [ 2.02607000e+03  2.52920000e+03  0.00000000e+00 ... -5.00000000e-01\n",
            "   8.66025404e-01  5.00000000e+00]\n",
            " ...\n",
            " [ 9.92240000e+02  5.49504800e+04  7.69070000e+02 ...  5.00000000e-01\n",
            "  -8.66025404e-01  1.00000000e+00]\n",
            " [ 4.27661600e+04  1.40403760e+05  2.02831000e+03 ...  1.22464680e-16\n",
            "  -1.00000000e+00  1.00000000e+00]\n",
            " [ 5.68010000e+02  1.41033000e+03  0.00000000e+00 ...  8.66025404e-01\n",
            "   5.00000000e-01  2.00000000e+00]]\n",
            "Media calculada: [2.93423606e+05 2.94394353e+05 2.27792595e+04 2.38037614e+05\n",
            " 4.99554764e-01 2.01614878e+03 5.30890749e-02 3.11009144e-02\n",
            " 3.14870882e+00]\n",
            "Desviación estandar calculada: [1.24307532e+06 1.19552256e+06 1.07620880e+05 9.67020791e+05\n",
            " 4.99999802e-01 9.40334388e-01 7.09275944e-01 7.02240642e-01\n",
            " 1.56853945e+00]\n",
            "[[-0.23592794 -0.24551854 -0.21166208 ... -0.77979393  1.18894356\n",
            "   0.54272858]\n",
            " [-0.11092328 -0.11824444 -0.01166957 ...  0.63009458  1.18894356\n",
            "   1.18026435]\n",
            " [-0.23441664 -0.24413186 -0.21166208 ... -0.77979393  1.18894356\n",
            "   1.18026435]\n",
            " ...\n",
            " [-0.23524831 -0.20028386 -0.20451598 ...  0.63009458 -1.27751979\n",
            "  -1.36987873]\n",
            " [-0.20164301 -0.12880609 -0.19281527 ... -0.07484968 -1.4683014\n",
            "  -1.36987873]\n",
            " [-0.23558958 -0.24506775 -0.21166208 ...  1.14614959  0.66771853\n",
            "  -0.73234296]]\n"
          ]
        }
      ]
    },
    {
      "cell_type": "markdown",
      "source": [
        "Para realizar correctamente la multiplicación matricial entre caracteristicas y parametros thita, entonces debemos aumentar el elemento de sesgo (1.0) como la primera columna de las filas de la matriz X_tr"
      ],
      "metadata": {
        "id": "U3Mjwgk-T6U9"
      }
    },
    {
      "cell_type": "code",
      "source": [
        "# Añade el termino de interseccion a X\n",
        "# (Columna de unos para X0)\n",
        "X_tr = np.concatenate([np.ones((m, 1)), X_norm], axis=1)"
      ],
      "metadata": {
        "id": "wkQVd3AN09J2"
      },
      "execution_count": 313,
      "outputs": []
    },
    {
      "cell_type": "code",
      "source": [
        "print(X_tr[:10])"
      ],
      "metadata": {
        "colab": {
          "base_uri": "https://localhost:8080/"
        },
        "id": "xxsYa2L_1LPO",
        "outputId": "e822b37e-e26b-47d1-e78b-fa98e70ff64b"
      },
      "execution_count": 314,
      "outputs": [
        {
          "output_type": "stream",
          "name": "stdout",
          "text": [
            "[[ 1.         -0.23592794 -0.24551854 -0.21166208 -0.24164924  1.00089087\n",
            "   0.90523403 -0.77979393  1.18894356  0.54272858]\n",
            " [ 1.         -0.11092328 -0.11824444 -0.01166957  0.01083936 -0.99910992\n",
            "  -0.15821745  0.63009458  1.18894356  1.18026435]\n",
            " [ 1.         -0.23441664 -0.24413186 -0.21166208 -0.24417552  1.00089087\n",
            "  -0.15821745 -0.77979393  1.18894356  1.18026435]\n",
            " [ 1.         -0.17314144 -0.21382332 -0.21041465 -0.21662717 -0.99910992\n",
            "  -1.22166894  1.14614959  0.66771853  0.54272858]\n",
            " [ 1.         -0.235916   -0.21389568 -0.21166208 -0.24440225  1.00089087\n",
            "  -0.15821745 -0.07484968 -1.4683014  -0.73234296]\n",
            " [ 1.         -0.13396656 -0.21792015 -0.18559075 -0.12944969 -0.99910992\n",
            "   0.90523403  0.63009458 -1.27751979 -0.73234296]\n",
            " [ 1.         -0.23565478 -0.24502168 -0.21166208 -0.24568792  1.00089087\n",
            "  -1.22166894 -1.48473818 -0.04428812 -0.73234296]\n",
            " [ 1.         -0.11904335 -0.20393887 -0.21082758 -0.14189963 -0.99910992\n",
            "  -0.15821745  1.14614959  0.66771853  0.54272858]\n",
            " [ 1.         -0.23389058 -0.13810075 -0.16607957 -0.18737117 -0.99910992\n",
            "  -1.22166894 -0.77979393  1.18894356 -0.73234296]\n",
            " [ 1.         -0.23106268 -0.15180572 -0.19925473 -0.0719925  -0.99910992\n",
            "  -0.15821745 -1.48473818 -0.04428812 -0.73234296]]\n"
          ]
        }
      ]
    },
    {
      "cell_type": "markdown",
      "source": [
        "##Descenso por el Gradiente\n",
        "\n",
        "Ahora utilizaremos el método de resolucióñ de Descenso por el Gradiente, mediante la función de costo y el error  cuadrático medio se irán ajustando los valores de thitha para que vaya reduciendo en cada iteracion el costo.\n",
        "\n"
      ],
      "metadata": {
        "id": "rmeb21Gm1XT_"
      }
    },
    {
      "cell_type": "code",
      "source": [
        "def computeCostMulti(X_tr, y_tr, theta):\n",
        "    # Inicializa algunos valores utiles\n",
        "    m = y_tr.shape[0] # numero de ejemplos de entrenamiento\n",
        "\n",
        "    J = 0\n",
        "\n",
        "    h = np.dot(X_tr, theta)\n",
        "\n",
        "    J = (1/(2 * m)) * np.sum(np.square(np.dot(X_tr, theta) - y_tr))\n",
        "\n",
        "    return J"
      ],
      "metadata": {
        "id": "wrZokxDX1dyO"
      },
      "execution_count": 315,
      "outputs": []
    },
    {
      "cell_type": "code",
      "source": [
        "def gradientDescentMulti(X, y, theta, alpha, num_iters):\n",
        "\n",
        "    # Inicializa algunos valores\n",
        "    m = y.shape[0] # numero de ejemplos de entrenamiento\n",
        "\n",
        "    # realiza una copia de theta, el cual será acutalizada por el descenso por el gradiente\n",
        "    theta = theta.copy()\n",
        "\n",
        "    J_history = []\n",
        "\n",
        "    for i in range(num_iters):\n",
        "        theta = theta - (alpha / m) * (np.dot(X, theta) - y).dot(X)\n",
        "        J_history.append(computeCostMulti(X, y, theta))\n",
        "\n",
        "    return theta, J_history"
      ],
      "metadata": {
        "id": "cbrDEuQ015t0"
      },
      "execution_count": 316,
      "outputs": []
    },
    {
      "cell_type": "markdown",
      "source": [
        "##Descenso por el gradiente por lote aplicando REGULARIZACION RIDGE"
      ],
      "metadata": {
        "id": "CycV2b8DEvXA"
      }
    },
    {
      "cell_type": "code",
      "source": [
        "def computeCostMultiReg(X_tr, y_tr, theta, lambda_reg):\n",
        "    # Inicializa algunos valores útiles\n",
        "    m = y_tr.shape[0]  # numero de ejemplos de entrenamiento\n",
        "\n",
        "    # Calcula la hipótesis\n",
        "    h = np.dot(X_tr, theta)\n",
        "\n",
        "    # Calcula el error cuadrático medio\n",
        "    mse = (1 / (2 * m)) * np.sum(np.square(h - y_tr))\n",
        "\n",
        "    # Calcula el término de regularización\n",
        "    regularization_term = (lambda_reg / (2 * m)) * np.sum(np.square(theta[1:]))\n",
        "\n",
        "    # Calcula la función de costo regularizada\n",
        "    J = mse + regularization_term\n",
        "\n",
        "    return J\n"
      ],
      "metadata": {
        "id": "9ZwfXzRDEVmY"
      },
      "execution_count": 317,
      "outputs": []
    },
    {
      "cell_type": "code",
      "source": [
        "def gradientDescentMultiReg(X, y, theta, alpha, num_iters, lambda_reg):\n",
        "    # Inicializa algunos valores\n",
        "    m = y.shape[0]  # numero de ejemplos de entrenamiento\n",
        "\n",
        "    # realiza una copia de theta, el cual será actualizada por el descenso por el gradiente\n",
        "    theta = theta.copy()\n",
        "\n",
        "    J_history = []\n",
        "\n",
        "    for i in range(num_iters):\n",
        "        # Calcula la hipótesis\n",
        "        h = np.dot(X, theta)\n",
        "\n",
        "        # Actualiza los parámetros theta excluyendo el término de intercepción (theta_0)\n",
        "        theta[1:] = theta[1:] - (alpha / m) * ((h - y).dot(X[:, 1:]) + lambda_reg * theta[1:])\n",
        "\n",
        "        # Actualiza el término de intercepción (theta_0) sin regularización\n",
        "        theta[0] = theta[0] - (alpha / m) * np.sum(h - y)\n",
        "\n",
        "        # Calcula el costo regularizado y lo agrega al historial\n",
        "        J_history.append(computeCostMultiReg(X, y, theta, lambda_reg))\n",
        "\n",
        "    return theta, J_history"
      ],
      "metadata": {
        "id": "orV_xvcMGLrk"
      },
      "execution_count": 318,
      "outputs": []
    },
    {
      "cell_type": "markdown",
      "source": [
        "Una vez declaradas las funciones, ahora procedemos con las iteraciones."
      ],
      "metadata": {
        "id": "NRk34buF2CXy"
      }
    },
    {
      "cell_type": "markdown",
      "source": [
        "##Thithas calculadas sin Regularizacion"
      ],
      "metadata": {
        "id": "sEDaBgFZHUmg"
      }
    },
    {
      "cell_type": "code",
      "source": [
        "# Elegir algun valor para alpha (probar varias alternativas)\n",
        "alpha = 0.003 # alpha = 0.003\n",
        "num_iters = 10000\n",
        "\n",
        "# inicializa theta y ejecuta el descenso por el gradiente\n",
        "theta = np.zeros(10)\n",
        "theta, J_history = gradientDescentMulti(X_tr, y_tr, theta, alpha, num_iters)\n",
        "\n",
        "# Grafica la convergencia del costo\n",
        "pyplot.plot(np.arange(len(J_history)), J_history, lw=2)\n",
        "pyplot.xlabel('Numero de iteraciones')\n",
        "pyplot.ylabel('Costo J')\n",
        "\n",
        "# Muestra los resultados del descenso por el gradiente\n",
        "print('theta calculado por el descenso por el gradiente: {:s}'.format(str(theta)))"
      ],
      "metadata": {
        "colab": {
          "base_uri": "https://localhost:8080/",
          "height": 501
        },
        "id": "qu5-7CwL2Avt",
        "outputId": "fb5c8f2b-30a7-482f-95cb-cd1d8eea4023"
      },
      "execution_count": 319,
      "outputs": [
        {
          "output_type": "stream",
          "name": "stdout",
          "text": [
            "theta calculado por el descenso por el gradiente: [ 1.40485992e+00 -7.98228995e-02  8.59183169e-02 -2.00867493e-02\n",
            "  9.20655456e-07  2.47090022e-01  5.30037444e-02 -9.52012931e-02\n",
            " -2.34276222e-02 -3.97578905e-02]\n"
          ]
        },
        {
          "output_type": "display_data",
          "data": {
            "text/plain": [
              "<Figure size 640x480 with 1 Axes>"
            ],
            "image/png": "[encoded data removed]"
          },
          "metadata": {}
        }
      ]
    },
    {
      "cell_type": "markdown",
      "source": [
        "##Thithas calculadas con Regularizacion\n",
        "\n"
      ],
      "metadata": {
        "id": "xfYdsr3wHOnD"
      }
    },
    {
      "cell_type": "code",
      "source": [
        "# Elegir algun valor para alpha (probar varias alternativas)\n",
        "alpha = 0.003 # alpha = 0.003\n",
        "num_iters = 10000\n",
        "lambda_reg=5000\n",
        "# inicializa theta y ejecuta el descenso por el gradiente\n",
        "thetaR = np.zeros(10)\n",
        "thetaR, J_historyR = gradientDescentMultiReg(X_tr, y_tr, thetaR, alpha, num_iters,lambda_reg)\n",
        "\n",
        "# Grafica la convergencia del costo\n",
        "pyplot.plot(np.arange(len(J_historyR)), J_historyR, lw=2)\n",
        "pyplot.xlabel('Numero de iteraciones')\n",
        "pyplot.ylabel('Costo J')\n",
        "\n",
        "# Muestra los resultados del descenso por el gradiente\n",
        "print('theta calculado por el descenso por el gradiente con regularizacion: {:s}'.format(str(thetaR)))"
      ],
      "metadata": {
        "colab": {
          "base_uri": "https://localhost:8080/",
          "height": 484
        },
        "id": "wtDef-VYHBTE",
        "outputId": "4d57f76d-1aab-4873-b9fd-077c8961fbee"
      },
      "execution_count": 320,
      "outputs": [
        {
          "output_type": "stream",
          "name": "stdout",
          "text": [
            "theta calculado por el descenso por el gradiente con regularizacion: [ 1.40485992 -0.02441574  0.0092284  -0.00820378 -0.00475001  0.18131761\n",
            "  0.03607619 -0.06916772 -0.01622695 -0.03105833]\n"
          ]
        },
        {
          "output_type": "display_data",
          "data": {
            "text/plain": [
              "<Figure size 640x480 with 1 Axes>"
            ],
            "image/png": "[encoded data removed]"
          },
          "metadata": {}
        }
      ]
    },
    {
      "cell_type": "markdown",
      "source": [
        "##Predicciones\n",
        "\n",
        "\n",
        "Obtenidos los valores del vector thitha (desde thitha0 hasta thitha9)\n",
        "Ahora se hará predicciones con los valores que reservamos para testeo."
      ],
      "metadata": {
        "id": "_yW9i1gL9JSV"
      }
    },
    {
      "cell_type": "code",
      "source": [
        "X_tst = X_test.values\n",
        "y_tst= y_test.values\n"
      ],
      "metadata": {
        "id": "EJHKh4eF4ffs"
      },
      "execution_count": 321,
      "outputs": []
    },
    {
      "cell_type": "markdown",
      "source": [
        "Como nuestros valores están normalizados (el modelo) también debemos normalizar los valores de prueba, por tanto, añadimos el sesgo y luego restamos la media y dividimos entre las desviación estandar(excluyendo al sesgo)"
      ],
      "metadata": {
        "id": "o2UaNHdAaNQf"
      }
    },
    {
      "cell_type": "code",
      "source": [
        "\n",
        "X_tst1Sesgo = np.concatenate([np.ones((y_tst.shape[0], 1)), X_tst], axis=1)\n",
        "print(X_tst1Sesgo[:5])"
      ],
      "metadata": {
        "colab": {
          "base_uri": "https://localhost:8080/"
        },
        "id": "jqnwK-em7Dox",
        "outputId": "e27b332e-aa59-4349-c50e-797415cb691e"
      },
      "execution_count": 322,
      "outputs": [
        {
          "output_type": "stream",
          "name": "stdout",
          "text": [
            "[[ 1.00000000e+00  7.92395800e+04  2.63560500e+04  2.99874000e+03\n",
            "   1.09735330e+05  0.00000000e+00  2.01800000e+03  8.66025404e-01\n",
            "   5.00000000e-01  2.00000000e+00]\n",
            " [ 1.00000000e+00  2.28324130e+05  7.27493800e+04  1.00620000e+02\n",
            "   9.03403000e+04  0.00000000e+00  2.01500000e+03 -5.00000000e-01\n",
            "   8.66025404e-01  4.00000000e+00]\n",
            " [ 1.00000000e+00  1.14709000e+03  3.95100000e+01  0.00000000e+00\n",
            "   2.72080000e+03  1.00000000e+00  2.01600000e+03  5.00000000e-01\n",
            "   8.66025404e-01  4.00000000e+00]\n",
            " [ 1.00000000e+00  1.50786300e+05  2.70254800e+04  5.65650000e+02\n",
            "   8.95763500e+04  0.00000000e+00  2.01600000e+03  1.00000000e+00\n",
            "   6.12323400e-17  3.00000000e+00]\n",
            " [ 1.00000000e+00  8.28390000e+02  3.24000000e+00  0.00000000e+00\n",
            "   7.97365000e+03  1.00000000e+00  2.01700000e+03  8.66025404e-01\n",
            "   5.00000000e-01  1.00000000e+00]]\n"
          ]
        }
      ]
    },
    {
      "cell_type": "code",
      "source": [
        "for i in range(len(X_tst1Sesgo)):\n",
        "    X_tst1Sesgo[i, 1:] = (X_tst1Sesgo[i, 1:] - mu) / sigma\n",
        "# for row in X_tst1Sesgo:\n",
        "\n",
        "# X_tst1Sesgo[1:10] = (X_tst1[1:10] - mu) / sigma\n",
        "print(X_tst1Sesgo[:5])"
      ],
      "metadata": {
        "colab": {
          "base_uri": "https://localhost:8080/"
        },
        "id": "zbny9-bX7wI5",
        "outputId": "f57a100c-b0db-42a3-d5c0-7fd090345e91"
      },
      "execution_count": 323,
      "outputs": [
        {
          "output_type": "stream",
          "name": "stdout",
          "text": [
            "[[ 1.         -0.17230173 -0.22420179 -0.18379816 -0.1326779  -0.99910992\n",
            "   1.96868551  1.14614959  0.66771853 -0.73234296]\n",
            " [ 1.         -0.0523697  -0.18539589 -0.21072713 -0.15273437 -0.99910992\n",
            "  -1.22166894 -0.77979393  1.18894356  0.54272858]\n",
            " [ 1.         -0.23512374 -0.24621438 -0.21166208 -0.24334204  1.00089087\n",
            "  -0.15821745  0.63009458  1.18894356  0.54272858]\n",
            " [ 1.         -0.11474551 -0.22364185 -0.20640613 -0.15352438 -0.99910992\n",
            "  -0.15821745  1.33503883 -0.04428812 -0.09480719]\n",
            " [ 1.         -0.23538012 -0.24624471 -0.21166208 -0.23791005  1.00089087\n",
            "   0.90523403  1.14614959  0.66771853 -1.36987873]]\n"
          ]
        }
      ]
    },
    {
      "cell_type": "markdown",
      "source": [
        "Realizamos la multiplicación matricial con las thethas encontrads y obtenemos las y predichas y las comparamos con las y de testeo.\n"
      ],
      "metadata": {
        "id": "Xd2UC3Wfaecr"
      }
    },
    {
      "cell_type": "markdown",
      "source": [
        "###predicciones sin regularizacion"
      ],
      "metadata": {
        "id": "_TPngsnIKPmb"
      }
    },
    {
      "cell_type": "code",
      "source": [
        "priceL = np.dot(X_tst1Sesgo, theta)"
      ],
      "metadata": {
        "id": "4k-0SToF8HKT"
      },
      "execution_count": 324,
      "outputs": []
    },
    {
      "cell_type": "code",
      "source": [
        "print(priceL[:10])\n",
        "print('-----------')\n",
        "print(y_tst[:10])"
      ],
      "metadata": {
        "colab": {
          "base_uri": "https://localhost:8080/"
        },
        "id": "qM859Kne8MTZ",
        "outputId": "a00246e0-bfa8-4b20-8ac1-570c432fb398"
      },
      "execution_count": 325,
      "outputs": [
        {
          "output_type": "stream",
          "name": "stdout",
          "text": [
            "[1.16487833 1.11052641 1.53623158 1.02140346 1.63173955 1.49951829\n",
            " 1.78255726 0.91734923 1.79634996 1.26621105]\n",
            "-----------\n",
            "[0.82 0.97 1.44 0.97 1.45 1.29 2.03 0.94 2.45 1.83]\n"
          ]
        }
      ]
    },
    {
      "cell_type": "code",
      "source": [
        "mse = np.mean((priceL - y_tst)**2)\n",
        "\n",
        "print(f'Error Cuadrático Medio sin aplicar regularizacion(MSE): {mse}')"
      ],
      "metadata": {
        "colab": {
          "base_uri": "https://localhost:8080/"
        },
        "id": "hS3rUqwNK565",
        "outputId": "c76dc414-22e2-44a4-e126-773449b5df9e"
      },
      "execution_count": 326,
      "outputs": [
        {
          "output_type": "stream",
          "name": "stdout",
          "text": [
            "Error Cuadrático Medio sin aplicar regularizacion(MSE): 0.08656985213451344\n"
          ]
        }
      ]
    },
    {
      "cell_type": "markdown",
      "source": [
        "###predicciones con regularizacion"
      ],
      "metadata": {
        "id": "jm4WNRUlKMeD"
      }
    },
    {
      "cell_type": "code",
      "source": [
        "priceLR = np.dot(X_tst1Sesgo, thetaR)"
      ],
      "metadata": {
        "id": "zlg_2GFsKVfo"
      },
      "execution_count": 327,
      "outputs": []
    },
    {
      "cell_type": "code",
      "source": [
        "print(priceLR[:10])\n",
        "print('-----------')\n",
        "print(y_tst[:10])"
      ],
      "metadata": {
        "colab": {
          "base_uri": "https://localhost:8080/"
        },
        "id": "hB6w7j1lKVzs",
        "outputId": "87d07e46-2989-48f7-91d2-323801d029d3"
      },
      "execution_count": 328,
      "outputs": [
        {
          "output_type": "stream",
          "name": "stdout",
          "text": [
            "[1.23163605 1.19943991 1.50726066 1.13247773 1.57777205 1.48004747\n",
            " 1.66836502 0.82270098 1.69063851 1.30170289]\n",
            "-----------\n",
            "[0.82 0.97 1.44 0.97 1.45 1.29 2.03 0.94 2.45 1.83]\n"
          ]
        }
      ]
    },
    {
      "cell_type": "code",
      "source": [
        "mseR = np.mean((priceLR - y_tst)**2)\n",
        "\n",
        "print(f'Error Cuadrático Medio aplicando regularizacion(MSE): {mseR}')"
      ],
      "metadata": {
        "colab": {
          "base_uri": "https://localhost:8080/"
        },
        "id": "fcUCzzNjLFur",
        "outputId": "d800f3af-32f9-4fb1-9186-236f7dcf1a17"
      },
      "execution_count": 329,
      "outputs": [
        {
          "output_type": "stream",
          "name": "stdout",
          "text": [
            "Error Cuadrático Medio aplicando regularizacion(MSE): 0.09186535872127886\n"
          ]
        }
      ]
    },
    {
      "cell_type": "markdown",
      "source": [
        "---\n",
        "##2.2 Ecuacion de la Normal\n",
        "En este método es todo más directo, solo debemos aumentar el sesgo a la matriz de características para realizar correctamente las multiplicaciones matriciales.\n"
      ],
      "metadata": {
        "id": "-JHV_ko99J_t"
      }
    },
    {
      "cell_type": "markdown",
      "source": [
        "Utilizaremos nuestras caracteristicas ya normalizadas y con bias del ejercicio anterior:\n",
        "\n",
        "X_tr\n",
        "\n",
        "y_tr\n",
        "\n",
        "\n"
      ],
      "metadata": {
        "id": "VAe5e6je96Lw"
      }
    },
    {
      "cell_type": "markdown",
      "source": [
        "###Definimos la ecuacion de la normal sin Regularizacion"
      ],
      "metadata": {
        "id": "mssFgwFLM2mK"
      }
    },
    {
      "cell_type": "code",
      "source": [
        "def normalEqn(X, y):\n",
        "\n",
        "    thetaN = np.zeros(X.shape[1])\n",
        "\n",
        "    thetaN = np.dot(np.dot(np.linalg.inv(np.dot(X.T,X)),X.T),y)\n",
        "\n",
        "    return thetaN"
      ],
      "metadata": {
        "id": "K3rpH3rs_PqU"
      },
      "execution_count": 330,
      "outputs": []
    },
    {
      "cell_type": "markdown",
      "source": [
        "###Definimos la ecuacion de la normal con Regularizacion"
      ],
      "metadata": {
        "id": "VytHpkmNNw0D"
      }
    },
    {
      "cell_type": "code",
      "source": [
        "def normalEqnReg(X, y, lambda_reg):\n",
        "\n",
        "    # Calcula la matriz de regularización L\n",
        "    L = np.eye(X.shape[1])\n",
        "    L[0, 0] = 0  # No regularizar el término de intercepción\n",
        "\n",
        "    # Calcula la ecuación normal con regularización Ridge\n",
        "    theta = np.linalg.inv(X.T.dot(X) + lambda_reg * L).dot(X.T).dot(y)\n",
        "\n",
        "    return theta"
      ],
      "metadata": {
        "id": "9ROAnBf0OI8R"
      },
      "execution_count": 331,
      "outputs": []
    },
    {
      "cell_type": "markdown",
      "source": [
        "Una vez definida la ecuación de la normal, simplemente la aplicamos y guardamos los valores thetha (en thethaN) para luego realizar predicciones."
      ],
      "metadata": {
        "id": "9L-yC-wVbZCp"
      }
    },
    {
      "cell_type": "markdown",
      "source": [
        "###Thethas sin regularizacion"
      ],
      "metadata": {
        "id": "JcR9ZjOxN7Pc"
      }
    },
    {
      "cell_type": "code",
      "source": [
        "# Calcula los parametros con la ecuación de la normal\n",
        "thetaN = normalEqn(X_tr, y_tr);\n",
        "\n",
        "# Muestra los resultados optenidos a partir de la aplicación de la ecuación de la normal\n",
        "print('Theta calculado a partir de la ecuación de la normal: {:s}'.format(str(thetaN)));\n"
      ],
      "metadata": {
        "colab": {
          "base_uri": "https://localhost:8080/"
        },
        "id": "g2UNkAqi_s_s",
        "outputId": "d4a105bb-ce97-4ea3-aa6c-45598331a446"
      },
      "execution_count": 332,
      "outputs": [
        {
          "output_type": "stream",
          "name": "stdout",
          "text": [
            "Theta calculado a partir de la ecuación de la normal: [ 1.40485992e+00 -9.08406669e-02  1.02458155e-01 -2.52591982e-02\n",
            " -1.04617619e-03  2.47097067e-01  5.30885620e-02 -9.50307138e-02\n",
            " -2.37064599e-02 -3.86155376e-02]\n"
          ]
        }
      ]
    },
    {
      "cell_type": "markdown",
      "source": [
        "###Thethas con regularizacion"
      ],
      "metadata": {
        "id": "bLfXR4GbOAjC"
      }
    },
    {
      "cell_type": "code",
      "source": [
        "lambda_regN=3000\n",
        "# Calcula los parametros con la ecuación de la normal\n",
        "thetaNR = normalEqnReg(X_tr, y_tr,lambda_regN);\n",
        "\n",
        "# Muestra los resultados optenidos a partir de la aplicación de la ecuación de la normal\n",
        "print('Theta calculado a partir de la ecuación de la normal: {:s}'.format(str(thetaNR)));"
      ],
      "metadata": {
        "colab": {
          "base_uri": "https://localhost:8080/"
        },
        "id": "hqZwpoYuOGsi",
        "outputId": "9344d1bb-c7ad-40da-d3c2-a3c5fdbff60c"
      },
      "execution_count": 333,
      "outputs": [
        {
          "output_type": "stream",
          "name": "stdout",
          "text": [
            "Theta calculado a partir de la ecuación de la normal: [ 1.40485992 -0.03058407  0.01875453 -0.00828788 -0.00329413  0.20283579\n",
            "  0.04136646 -0.07774765 -0.01830434 -0.03486845]\n"
          ]
        }
      ]
    },
    {
      "cell_type": "markdown",
      "source": [
        "###Predicciones\n",
        "Se hara predicciones con los valores reservados para testeo."
      ],
      "metadata": {
        "id": "gtydz78IAO4n"
      }
    },
    {
      "cell_type": "markdown",
      "source": [
        "####Predicciones sin regularizacion"
      ],
      "metadata": {
        "id": "ZFoVDMamQn1g"
      }
    },
    {
      "cell_type": "code",
      "source": [
        "price1N = np.dot(X_tst1Sesgo, thetaN)"
      ],
      "metadata": {
        "id": "ZS51OfcOAO4s"
      },
      "execution_count": 334,
      "outputs": []
    },
    {
      "cell_type": "markdown",
      "source": [
        "De la misma forma que en el anterior método, comparamos valores predichos y de testeo."
      ],
      "metadata": {
        "id": "lvkSpv_reWSV"
      }
    },
    {
      "cell_type": "code",
      "source": [
        "print(price1N[:10])\n",
        "print('-----------')\n",
        "print(y_tst[:10])"
      ],
      "metadata": {
        "colab": {
          "base_uri": "https://localhost:8080/"
        },
        "outputId": "79a62f69-793e-4584-8390-a8692ab27253",
        "id": "4h7BD6ePAO4t"
      },
      "execution_count": 335,
      "outputs": [
        {
          "output_type": "stream",
          "name": "stdout",
          "text": [
            "[1.16349073 1.10933168 1.53648897 1.0203084  1.63013226 1.50004268\n",
            " 1.7859522  0.92030482 1.79767127 1.26670334]\n",
            "-----------\n",
            "[0.82 0.97 1.44 0.97 1.45 1.29 2.03 0.94 2.45 1.83]\n"
          ]
        }
      ]
    },
    {
      "cell_type": "code",
      "source": [
        "mseN = np.mean((price1N - y_tst)**2)\n",
        "\n",
        "print(f'Error Cuadrático Medio sin aplicar regularizacion(MSE): {mseN}')"
      ],
      "metadata": {
        "colab": {
          "base_uri": "https://localhost:8080/"
        },
        "id": "Tskabk0JQ7xO",
        "outputId": "8da94958-9e52-416c-82b4-bb0a640c5ccf"
      },
      "execution_count": 336,
      "outputs": [
        {
          "output_type": "stream",
          "name": "stdout",
          "text": [
            "Error Cuadrático Medio sin aplicar regularizacion(MSE): 0.08654676664326666\n"
          ]
        }
      ]
    },
    {
      "cell_type": "markdown",
      "source": [
        "####Predicciones con regularizacion"
      ],
      "metadata": {
        "id": "xz1Ww3OkQtX5"
      }
    },
    {
      "cell_type": "code",
      "source": [
        "price1NR = np.dot(X_tst1Sesgo, thetaNR)\n",
        "print(price1NR[:10])\n",
        "print('-----------')\n",
        "print(y_tst[:10])"
      ],
      "metadata": {
        "colab": {
          "base_uri": "https://localhost:8080/"
        },
        "id": "YFi5C4GlQvgl",
        "outputId": "ccfbfa5b-a971-43de-edad-f70c5f9f59eb"
      },
      "execution_count": 337,
      "outputs": [
        {
          "output_type": "stream",
          "name": "stdout",
          "text": [
            "[1.21087054 1.17198303 1.51678545 1.09751157 1.59687432 1.48625191\n",
            " 1.70187771 0.84002778 1.72394145 1.28947396]\n",
            "-----------\n",
            "[0.82 0.97 1.44 0.97 1.45 1.29 2.03 0.94 2.45 1.83]\n"
          ]
        }
      ]
    },
    {
      "cell_type": "code",
      "source": [
        "mseNR = np.mean((price1NR - y_tst)**2)\n",
        "\n",
        "print(f'Error Cuadrático Medio sin aplicar regularizacion(MSE): {mseNR}')"
      ],
      "metadata": {
        "colab": {
          "base_uri": "https://localhost:8080/"
        },
        "id": "3TvssRaaRDJ4",
        "outputId": "3d7a1dda-f272-46be-d2fc-bfbcbf98e0e6"
      },
      "execution_count": 338,
      "outputs": [
        {
          "output_type": "stream",
          "name": "stdout",
          "text": [
            "Error Cuadrático Medio sin aplicar regularizacion(MSE): 0.08913941149522232\n"
          ]
        }
      ]
    },
    {
      "cell_type": "markdown",
      "source": [
        "---\n",
        "##2.3 Regresion polinomial\n",
        "\n",
        "En este método, la hipotesis aumenta la cantidad de elementos enormemente dependiendo de dos puntos:\n",
        "\n",
        "1.   Cantidad de características\n",
        "2.   Grado del polinomio\n",
        "\n",
        "En este caso se hara una hipótesis de grado 2. Pero como tenemos 9 características, todas las combinaciones que debemos realizar son:\n",
        "![image.png](data:image/png;base64,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)\n",
        "\n"
      ],
      "metadata": {
        "id": "jp8S6RzsFFjB"
      }
    },
    {
      "cell_type": "markdown",
      "source": [
        "Llegando a un total de 55 características, contando el sesgo. En el procedimiento se realiza la concatenacion de 3 matrices para poder llegar a la hipótesis de la imagen anterior.\n",
        "\n",
        "1.   La matriz de las características simples\n",
        "2.   La matriz de las características al cuadrado (2do grado)\n",
        "3.   La matriz de las combinaciones de todas las características.\n",
        "\n"
      ],
      "metadata": {
        "id": "FMvsQjXvfGto"
      }
    },
    {
      "cell_type": "code",
      "source": [
        "X_trP = X_train.values"
      ],
      "metadata": {
        "id": "Ox8RjujAF_c5"
      },
      "execution_count": 339,
      "outputs": []
    },
    {
      "cell_type": "code",
      "source": [
        "y_trP= y_train.values"
      ],
      "metadata": {
        "id": "R--5j6BsF_c7"
      },
      "execution_count": 340,
      "outputs": []
    },
    {
      "cell_type": "code",
      "source": [
        "mP=y_trP.size\n",
        "nP = X_trP.shape[0]\n",
        "print(mP,nP)"
      ],
      "metadata": {
        "colab": {
          "base_uri": "https://localhost:8080/"
        },
        "outputId": "8965fcc7-f8c1-49b2-9444-ab82cbdd6123",
        "id": "CLyYUcelF_c7"
      },
      "execution_count": 341,
      "outputs": [
        {
          "output_type": "stream",
          "name": "stdout",
          "text": [
            "14599 14599\n"
          ]
        }
      ]
    },
    {
      "cell_type": "code",
      "source": [
        "# imprimir algunos puntos de datos\n",
        "print('{:>8s}{:>8s}{:>10s}'.format('X[:,0]', 'X[:, 1]', 'y'))\n",
        "print('-'*26)\n",
        "for i in range(10):\n",
        "    print('{:8.0f}{:8.0f}{:10.0f}'.format(X_trP[i, 0], X_trP[i, 1], y_trP[i]))"
      ],
      "metadata": {
        "colab": {
          "base_uri": "https://localhost:8080/"
        },
        "outputId": "2a3f317f-2ddf-4d92-f4b8-04b2c760ed2a",
        "id": "kg7-Alg_F_c8"
      },
      "execution_count": 342,
      "outputs": [
        {
          "output_type": "stream",
          "name": "stdout",
          "text": [
            "  X[:,0] X[:, 1]         y\n",
            "--------------------------\n",
            "     147     871         2\n",
            "  155538  153030         1\n",
            "    2026    2529         2\n",
            "   78196   38764         1\n",
            "     162   38677         2\n",
            "  126893   33866         1\n",
            "     487    1465         2\n",
            "  145444   50581         1\n",
            "    2680  129292         1\n",
            "    6195  112907         1\n"
          ]
        }
      ]
    },
    {
      "cell_type": "markdown",
      "source": [
        "Para cumplir con la ecuacion, debemos obtener primero los cuadrados de las caracteristicas"
      ],
      "metadata": {
        "id": "3das7ejAR1NT"
      }
    },
    {
      "cell_type": "code",
      "source": [
        "X_trPSquare=X_trP**2"
      ],
      "metadata": {
        "id": "rGBrzJL1IqDS"
      },
      "execution_count": 343,
      "outputs": []
    },
    {
      "cell_type": "markdown",
      "source": [
        "Una vez obtenidos los cuadrados, ahora obtenemos las combinaciones simples de todas las características"
      ],
      "metadata": {
        "id": "5NG1PQKQf9s8"
      }
    },
    {
      "cell_type": "code",
      "source": [
        "def row_multiplications(row):\n",
        "    n = len(row)\n",
        "    result = [row[i] * row[j] for i in range(n) for j in range(i+1, n)]\n",
        "    return result\n",
        "\n",
        "# Aplicar la función a cada fila de la matriz original\n",
        "X_trPCombined = np.array([row_multiplications(row) for row in X_trP])\n"
      ],
      "metadata": {
        "id": "FTL2OeMIMQNV"
      },
      "execution_count": 344,
      "outputs": []
    },
    {
      "cell_type": "code",
      "source": [
        "print(X_trPCombined[:2])"
      ],
      "metadata": {
        "colab": {
          "base_uri": "https://localhost:8080/"
        },
        "id": "S0p2j7tTNaJp",
        "outputId": "28aab00c-5d3e-4a0c-cd7e-ee6ee49db52a"
      },
      "execution_count": 345,
      "outputs": [
        {
          "output_type": "stream",
          "name": "stdout",
          "text": [
            "[[ 1.28453074e+05  0.00000000e+00  6.42378876e+05  1.47410000e+02\n",
            "   2.97325970e+05 -7.37050000e+01  1.27660805e+02  5.89640000e+02\n",
            "   0.00000000e+00  3.79736078e+06  8.71400000e+02  1.75761380e+06\n",
            "  -4.35700000e+02  7.54654537e+02  3.48560000e+03  0.00000000e+00\n",
            "   0.00000000e+00  0.00000000e+00 -0.00000000e+00  0.00000000e+00\n",
            "   0.00000000e+00  4.35777000e+03  8.78962209e+06 -2.17888500e+03\n",
            "   3.77393952e+03  1.74310800e+04  2.01700000e+03 -5.00000000e-01\n",
            "   8.66025404e-01  4.00000000e+00 -1.00850000e+03  1.74677324e+03\n",
            "   8.06800000e+03 -4.33012702e-01 -2.00000000e+00  3.46410162e+00]\n",
            " [ 2.38019920e+10  3.34769353e+09  3.86541291e+10  0.00000000e+00\n",
            "   3.13563822e+08  7.77688050e+04  1.34699522e+05  7.77688050e+05\n",
            "   3.29373121e+09  3.80310534e+10  0.00000000e+00  3.08509407e+08\n",
            "   7.65152300e+04  1.32528266e+05  7.65152300e+05  5.34897715e+09\n",
            "   0.00000000e+00  4.33911139e+07  1.07616850e+04  1.86397852e+04\n",
            "   1.07616850e+05  0.00000000e+00  5.01015312e+08  1.24259750e+05\n",
            "   2.15224200e+05  1.24259750e+06  0.00000000e+00  0.00000000e+00\n",
            "   0.00000000e+00  0.00000000e+00  1.00800000e+03  1.74590721e+03\n",
            "   1.00800000e+04  4.33012702e-01  2.50000000e+00  4.33012702e+00]]\n"
          ]
        }
      ]
    },
    {
      "cell_type": "markdown",
      "source": [
        "Obtenemos resultados satisfactorios, ya que la cantidad de elementos de cada fila coinciden con la cantidad de elementos de la hipótesis, por tanto, procedemos a concatenar las 3 matrices."
      ],
      "metadata": {
        "id": "qZ1dEGWagJQ6"
      }
    },
    {
      "cell_type": "code",
      "source": [
        "\n",
        "X_trPFull = np.concatenate([X_trP, X_trPSquare,X_trPCombined], axis=1)\n"
      ],
      "metadata": {
        "id": "vzUMrRT_NspD"
      },
      "execution_count": 346,
      "outputs": []
    },
    {
      "cell_type": "code",
      "source": [
        "print(X_trPFull[:2])"
      ],
      "metadata": {
        "colab": {
          "base_uri": "https://localhost:8080/"
        },
        "id": "wgC1veaBOHn4",
        "outputId": "90ed7c96-7520-44d4-81ac-d7950969e055"
      },
      "execution_count": 347,
      "outputs": [
        {
          "output_type": "stream",
          "name": "stdout",
          "text": [
            "[[ 1.47410000e+02  8.71400000e+02  0.00000000e+00  4.35777000e+03\n",
            "   1.00000000e+00  2.01700000e+03 -5.00000000e-01  8.66025404e-01\n",
            "   4.00000000e+00  2.17297081e+04  7.59337960e+05  0.00000000e+00\n",
            "   1.89901594e+07  1.00000000e+00  4.06828900e+06  2.50000000e-01\n",
            "   7.50000000e-01  1.60000000e+01  1.28453074e+05  0.00000000e+00\n",
            "   6.42378876e+05  1.47410000e+02  2.97325970e+05 -7.37050000e+01\n",
            "   1.27660805e+02  5.89640000e+02  0.00000000e+00  3.79736078e+06\n",
            "   8.71400000e+02  1.75761380e+06 -4.35700000e+02  7.54654537e+02\n",
            "   3.48560000e+03  0.00000000e+00  0.00000000e+00  0.00000000e+00\n",
            "  -0.00000000e+00  0.00000000e+00  0.00000000e+00  4.35777000e+03\n",
            "   8.78962209e+06 -2.17888500e+03  3.77393952e+03  1.74310800e+04\n",
            "   2.01700000e+03 -5.00000000e-01  8.66025404e-01  4.00000000e+00\n",
            "  -1.00850000e+03  1.74677324e+03  8.06800000e+03 -4.33012702e-01\n",
            "  -2.00000000e+00  3.46410162e+00]\n",
            " [ 1.55537610e+05  1.53030460e+05  2.15233700e+04  2.48519500e+05\n",
            "   0.00000000e+00  2.01600000e+03  5.00000000e-01  8.66025404e-01\n",
            "   5.00000000e+00  2.41919481e+10  2.34183217e+10  4.63255456e+08\n",
            "   6.17619419e+10  0.00000000e+00  4.06425600e+06  2.50000000e-01\n",
            "   7.50000000e-01  2.50000000e+01  2.38019920e+10  3.34769353e+09\n",
            "   3.86541291e+10  0.00000000e+00  3.13563822e+08  7.77688050e+04\n",
            "   1.34699522e+05  7.77688050e+05  3.29373121e+09  3.80310534e+10\n",
            "   0.00000000e+00  3.08509407e+08  7.65152300e+04  1.32528266e+05\n",
            "   7.65152300e+05  5.34897715e+09  0.00000000e+00  4.33911139e+07\n",
            "   1.07616850e+04  1.86397852e+04  1.07616850e+05  0.00000000e+00\n",
            "   5.01015312e+08  1.24259750e+05  2.15224200e+05  1.24259750e+06\n",
            "   0.00000000e+00  0.00000000e+00  0.00000000e+00  0.00000000e+00\n",
            "   1.00800000e+03  1.74590721e+03  1.00800000e+04  4.33012702e-01\n",
            "   2.50000000e+00  4.33012702e+00]]\n"
          ]
        }
      ]
    },
    {
      "cell_type": "markdown",
      "source": [
        "Ahora, una vez acomodados los datos en arrays de Numpy, normalizamos, pero en este caso como se observa en la matriz, tenemos 54 características, primero normalizaremos y luego agregamos el sesgo como siempro lo hacemos:"
      ],
      "metadata": {
        "id": "iACA5pumF_c9"
      }
    },
    {
      "cell_type": "code",
      "source": [
        "def  featureNormalize(X):\n",
        "    X_norm = X.copy()\n",
        "    mu = np.zeros(X.shape[1])\n",
        "    sigma = np.zeros(X.shape[1])\n",
        "\n",
        "    mu = np.mean(X, axis = 0)\n",
        "    sigma = np.std(X, axis = 0)\n",
        "    X_norm = (X - mu) / sigma\n",
        "\n",
        "    return X_norm, mu, sigma"
      ],
      "metadata": {
        "id": "5Y27ORmuF_c9"
      },
      "execution_count": 348,
      "outputs": []
    },
    {
      "cell_type": "code",
      "source": [
        "# llama featureNormalize con los datos cargados\n",
        "X_normP, muP, sigmaP = featureNormalize(X_trPFull)\n",
        "\n",
        "print(X_trPFull[:2])\n",
        "print('Media calculada:', muP)\n",
        "print('Desviación estandar calculada:', sigmaP)\n",
        "print(X_normP[:2])"
      ],
      "metadata": {
        "colab": {
          "base_uri": "https://localhost:8080/"
        },
        "outputId": "98653472-1c9d-4182-bd9e-69fee3d40222",
        "id": "lLnaEDHBF_c9"
      },
      "execution_count": 349,
      "outputs": [
        {
          "output_type": "stream",
          "name": "stdout",
          "text": [
            "[[ 1.47410000e+02  8.71400000e+02  0.00000000e+00  4.35777000e+03\n",
            "   1.00000000e+00  2.01700000e+03 -5.00000000e-01  8.66025404e-01\n",
            "   4.00000000e+00  2.17297081e+04  7.59337960e+05  0.00000000e+00\n",
            "   1.89901594e+07  1.00000000e+00  4.06828900e+06  2.50000000e-01\n",
            "   7.50000000e-01  1.60000000e+01  1.28453074e+05  0.00000000e+00\n",
            "   6.42378876e+05  1.47410000e+02  2.97325970e+05 -7.37050000e+01\n",
            "   1.27660805e+02  5.89640000e+02  0.00000000e+00  3.79736078e+06\n",
            "   8.71400000e+02  1.75761380e+06 -4.35700000e+02  7.54654537e+02\n",
            "   3.48560000e+03  0.00000000e+00  0.00000000e+00  0.00000000e+00\n",
            "  -0.00000000e+00  0.00000000e+00  0.00000000e+00  4.35777000e+03\n",
            "   8.78962209e+06 -2.17888500e+03  3.77393952e+03  1.74310800e+04\n",
            "   2.01700000e+03 -5.00000000e-01  8.66025404e-01  4.00000000e+00\n",
            "  -1.00850000e+03  1.74677324e+03  8.06800000e+03 -4.33012702e-01\n",
            "  -2.00000000e+00  3.46410162e+00]\n",
            " [ 1.55537610e+05  1.53030460e+05  2.15233700e+04  2.48519500e+05\n",
            "   0.00000000e+00  2.01600000e+03  5.00000000e-01  8.66025404e-01\n",
            "   5.00000000e+00  2.41919481e+10  2.34183217e+10  4.63255456e+08\n",
            "   6.17619419e+10  0.00000000e+00  4.06425600e+06  2.50000000e-01\n",
            "   7.50000000e-01  2.50000000e+01  2.38019920e+10  3.34769353e+09\n",
            "   3.86541291e+10  0.00000000e+00  3.13563822e+08  7.77688050e+04\n",
            "   1.34699522e+05  7.77688050e+05  3.29373121e+09  3.80310534e+10\n",
            "   0.00000000e+00  3.08509407e+08  7.65152300e+04  1.32528266e+05\n",
            "   7.65152300e+05  5.34897715e+09  0.00000000e+00  4.33911139e+07\n",
            "   1.07616850e+04  1.86397852e+04  1.07616850e+05  0.00000000e+00\n",
            "   5.01015312e+08  1.24259750e+05  2.15224200e+05  1.24259750e+06\n",
            "   0.00000000e+00  0.00000000e+00  0.00000000e+00  0.00000000e+00\n",
            "   1.00800000e+03  1.74590721e+03  1.00800000e+04  4.33012702e-01\n",
            "   2.50000000e+00  4.33012702e+00]]\n",
            "Media calculada: [ 2.93423606e+05  2.94394353e+05  2.27792595e+04  2.38037614e+05\n",
            "  4.99554764e-01  2.01614878e+03  5.30890749e-02  3.11009144e-02\n",
            "  3.14870882e+00  1.63133366e+12  1.51594223e+12  1.21011484e+10\n",
            "  9.91791115e+11  4.99554764e-01  4.06485678e+06  5.05890814e-01\n",
            "  4.94109186e-01  1.23746832e+01  1.45805821e+12  1.17410296e+11\n",
            "  1.17637835e+12  3.71948028e+03  5.91584762e+08  3.29717072e+04\n",
            " -4.83401983e+03  1.37732348e+06  1.20508847e+11  1.11998601e+12\n",
            "  7.76006866e+03  5.93527495e+08  2.71468598e+04  7.49701438e+03\n",
            "  1.20977711e+06  8.77901441e+10  1.34086211e+02  4.59223724e+07\n",
            "  3.40988548e+03 -8.71886612e+02  9.76529293e+04  1.24064913e+04\n",
            "  4.79981067e+08  2.65149394e+04  5.96583372e+03  1.05320848e+06\n",
            "  1.00717946e+03  2.78979404e-02  1.37824670e-02  1.57353243e+00\n",
            "  1.07137199e+02  6.27723396e+01  6.34827091e+03  1.66098440e-02\n",
            "  1.65822863e-01  9.18552881e-02]\n",
            "Desviación estandar calculada: [1.24307532e+06 1.19552256e+06 1.07620880e+05 9.67020791e+05\n",
            " 4.99999802e-01 9.40334388e-01 7.09275944e-01 7.02240642e-01\n",
            " 1.56853945e+00 1.47046768e+13 1.42111583e+13 1.38897474e+11\n",
            " 1.01446731e+13 4.99999802e-01 3.79189858e+03 3.50268105e-01\n",
            " 3.50268105e-01 9.86780380e+00 1.39549651e+13 1.20324283e+12\n",
            " 1.13436532e+13 1.74732999e+04 2.50621436e+09 8.90573578e+05\n",
            " 9.14932711e+05 7.15204343e+06 1.28755178e+12 1.07929384e+13\n",
            " 3.33729838e+04 2.41021312e+09 8.57514450e+05 8.83073067e+05\n",
            " 6.87004657e+06 9.24638950e+11 8.09935110e+02 2.16950448e+08\n",
            " 7.74898870e+04 7.80005019e+04 5.99118515e+05 5.87877773e+04\n",
            " 1.95008212e+09 6.79440676e+05 7.27607621e+05 5.63580152e+06\n",
            " 1.00807695e+03 5.02792917e-01 4.95767885e-01 1.92674979e+00\n",
            " 1.43002467e+03 1.41579218e+03 3.16241233e+03 3.56372932e-01\n",
            " 2.49466268e+00 2.47293484e+00]\n",
            "[[-0.23592794 -0.24551854 -0.21166208 -0.24164924  1.00089087  0.90523403\n",
            "  -0.77979393  1.18894356  0.54272858 -0.11093978 -0.10667262 -0.08712288\n",
            "  -0.09776285  1.00089087  0.90514644 -0.730557    0.730557    0.36738842\n",
            "  -0.10448311 -0.09757822 -0.1037036  -0.20443021 -0.23592852 -0.03710576\n",
            "   0.005423   -0.19249517 -0.09359534 -0.10376991 -0.20641453 -0.24552596\n",
            "  -0.03216571 -0.00763511 -0.17558709 -0.09494532 -0.1655518  -0.21167217\n",
            "  -0.04400426  0.01117796 -0.16299434 -0.13691148 -0.24162646 -0.04223154\n",
            "  -0.00301247 -0.18378529  1.00172962 -1.04993114  1.71903619  1.2593579\n",
            "  -0.78015242  1.18944074  0.54380293 -1.26166301 -0.86818265  1.36366162]\n",
            " [-0.11092328 -0.11824444 -0.01166957  0.01083936 -0.99910992 -0.15821745\n",
            "   0.63009458  1.18894356  1.18026435 -0.1092946  -0.10502479 -0.08378765\n",
            "  -0.0916766  -0.99910992 -0.15843686 -0.730557    0.730557    1.27944546\n",
            "  -0.10277749 -0.094796   -0.1002961  -0.21286651 -0.11093263  0.0503014\n",
            "   0.15250689 -0.08384113 -0.09103721 -0.10024656 -0.23252547 -0.11825431\n",
            "   0.05757147  0.14158653 -0.06471933 -0.08916039 -0.1655518  -0.01166745\n",
            "   0.09487431  0.25014803  0.01663097 -0.21103862  0.01078634  0.1438607\n",
            "   0.28759782  0.03360463 -0.99910971 -0.05548595 -0.02780024 -0.8166771\n",
            "   0.62996312  1.18882905  1.1800261   1.16844693  0.93566844  1.71386309]]\n"
          ]
        }
      ]
    },
    {
      "cell_type": "code",
      "source": [
        "# Añade el termino de interseccion a X\n",
        "# (Columna de unos para X0)\n",
        "X_trPFull = np.concatenate([np.ones((mP, 1)), X_normP], axis=1)"
      ],
      "metadata": {
        "id": "aduhCMVKF_c_"
      },
      "execution_count": 350,
      "outputs": []
    },
    {
      "cell_type": "code",
      "source": [
        "print(X_trPFull[:2])"
      ],
      "metadata": {
        "colab": {
          "base_uri": "https://localhost:8080/"
        },
        "outputId": "f22e0d12-5d54-485c-9b70-6764248d6010",
        "id": "tv5VMBwfF_c_"
      },
      "execution_count": 351,
      "outputs": [
        {
          "output_type": "stream",
          "name": "stdout",
          "text": [
            "[[ 1.         -0.23592794 -0.24551854 -0.21166208 -0.24164924  1.00089087\n",
            "   0.90523403 -0.77979393  1.18894356  0.54272858 -0.11093978 -0.10667262\n",
            "  -0.08712288 -0.09776285  1.00089087  0.90514644 -0.730557    0.730557\n",
            "   0.36738842 -0.10448311 -0.09757822 -0.1037036  -0.20443021 -0.23592852\n",
            "  -0.03710576  0.005423   -0.19249517 -0.09359534 -0.10376991 -0.20641453\n",
            "  -0.24552596 -0.03216571 -0.00763511 -0.17558709 -0.09494532 -0.1655518\n",
            "  -0.21167217 -0.04400426  0.01117796 -0.16299434 -0.13691148 -0.24162646\n",
            "  -0.04223154 -0.00301247 -0.18378529  1.00172962 -1.04993114  1.71903619\n",
            "   1.2593579  -0.78015242  1.18944074  0.54380293 -1.26166301 -0.86818265\n",
            "   1.36366162]\n",
            " [ 1.         -0.11092328 -0.11824444 -0.01166957  0.01083936 -0.99910992\n",
            "  -0.15821745  0.63009458  1.18894356  1.18026435 -0.1092946  -0.10502479\n",
            "  -0.08378765 -0.0916766  -0.99910992 -0.15843686 -0.730557    0.730557\n",
            "   1.27944546 -0.10277749 -0.094796   -0.1002961  -0.21286651 -0.11093263\n",
            "   0.0503014   0.15250689 -0.08384113 -0.09103721 -0.10024656 -0.23252547\n",
            "  -0.11825431  0.05757147  0.14158653 -0.06471933 -0.08916039 -0.1655518\n",
            "  -0.01166745  0.09487431  0.25014803  0.01663097 -0.21103862  0.01078634\n",
            "   0.1438607   0.28759782  0.03360463 -0.99910971 -0.05548595 -0.02780024\n",
            "  -0.8166771   0.62996312  1.18882905  1.1800261   1.16844693  0.93566844\n",
            "   1.71386309]]\n"
          ]
        }
      ]
    },
    {
      "cell_type": "markdown",
      "source": [
        "##Descenso por el Gradiente\n"
      ],
      "metadata": {
        "id": "0TqIWYuIF_dA"
      }
    },
    {
      "cell_type": "markdown",
      "source": [
        "Ahora procedemos con las iteraciones, utilizaremos las mismas funciones que en el caso de multivariable, ya que una funcion polinomial es practicamente una funcion multivariable solo que se toma los cuadrados, cubos (segun el grado) y las combinaciones simples de las caracteristicas, pero una vez obtenido todos los valores de las X, entonces se puede usar como si fuera el caso anterior."
      ],
      "metadata": {
        "id": "lg5jrb8kF_dB"
      }
    },
    {
      "cell_type": "markdown",
      "source": [
        "####Sin aplicar regularizacion"
      ],
      "metadata": {
        "id": "clJO8yQHTP5S"
      }
    },
    {
      "cell_type": "code",
      "source": [
        "# Elegir algun valor para alpha (probar varias alternativas)\n",
        "alpha = 0.002 # alpha = 0.003\n",
        "num_iters = 8000\n",
        "\n",
        "# inicializa theta y ejecuta el descenso por el gradiente\n",
        "thetaP = np.zeros(55)\n",
        "thetaP, J_historyP = gradientDescentMulti(X_trPFull, y_trP, thetaP, alpha, num_iters)\n",
        "\n",
        "# Grafica la convergencia del costo\n",
        "pyplot.plot(np.arange(len(J_historyP)), J_historyP, lw=2)\n",
        "pyplot.xlabel('Numero de iteraciones')\n",
        "pyplot.ylabel('Costo J')\n",
        "\n",
        "# Muestra los resultados del descenso por el gradiente\n",
        "print('theta calculado por el descenso por el gradiente: {:s}'.format(str(thetaP)))"
      ],
      "metadata": {
        "colab": {
          "base_uri": "https://localhost:8080/",
          "height": 692
        },
        "outputId": "ae7131af-3107-47e7-dbe5-3526496410e0",
        "id": "072X-ZOOF_dB"
      },
      "execution_count": 352,
      "outputs": [
        {
          "output_type": "stream",
          "name": "stdout",
          "text": [
            "theta calculado por el descenso por el gradiente: [ 1.40485977e+00 -5.00453772e-02  2.16370048e-02 -7.26252315e-03\n",
            " -1.18246782e-02  6.18969726e-02  2.93816970e-02 -6.13285335e-03\n",
            " -1.51408416e-02 -7.64842658e-02  1.89723845e-02 -3.12384663e-03\n",
            " -1.49836386e-02  1.06251289e-02  6.18969726e-02  2.94287403e-02\n",
            "  1.35511076e-02 -1.35511076e-02  9.52262255e-02  1.19817040e-02\n",
            "  7.43040445e-03  1.37351413e-02 -4.10355916e-02 -5.00238764e-02\n",
            "  1.93488722e-02  4.07744540e-03 -5.31051016e-03 -7.08325116e-03\n",
            "  6.09781855e-03  4.96890747e-02  2.16836602e-02  1.26625433e-02\n",
            " -1.10871803e-02  2.54103252e-02 -6.75271765e-05  4.63509708e-03\n",
            " -7.22935366e-03 -4.66063344e-03  1.04235500e-03  1.23547505e-02\n",
            " -4.58716673e-02 -1.17938620e-02 -2.10356748e-02  7.28643566e-04\n",
            "  4.29228063e-03  6.17154828e-02 -1.44523733e-02 -4.04295496e-03\n",
            "  7.44980868e-02 -6.47376521e-03 -1.52483019e-02 -7.62997960e-02\n",
            " -2.46464913e-02 -8.30345849e-02  1.43527249e-02]\n"
          ]
        },
        {
          "output_type": "display_data",
          "data": {
            "text/plain": [
              "<Figure size 640x480 with 1 Axes>"
            ],
            "image/png": "[encoded data removed]"
          },
          "metadata": {}
        }
      ]
    },
    {
      "cell_type": "markdown",
      "source": [
        "####aplicando regularizacion"
      ],
      "metadata": {
        "id": "l89Lj-I0TSep"
      }
    },
    {
      "cell_type": "code",
      "source": [
        "# Elegir algun valor para alpha (probar varias alternativas)\n",
        "alpha = 0.002 # alpha = 0.003\n",
        "num_iters = 8000\n",
        "lambda_reg=2000\n",
        "# inicializa theta y ejecuta el descenso por el gradiente\n",
        "thetaPR = np.zeros(55)\n",
        "thetaPR, J_historyPR = gradientDescentMultiReg(X_trPFull, y_trP, thetaPR, alpha, num_iters,lambda_reg)\n",
        "\n",
        "# Grafica la convergencia del costo\n",
        "pyplot.plot(np.arange(len(J_historyPR)), J_historyPR, lw=2)\n",
        "pyplot.xlabel('Numero de iteraciones')\n",
        "pyplot.ylabel('Costo J')\n",
        "\n",
        "# Muestra los resultados del descenso por el gradiente\n",
        "print('theta calculado por el descenso por el gradiente con regularizacion: {:s}'.format(str(thetaPR)))"
      ],
      "metadata": {
        "colab": {
          "base_uri": "https://localhost:8080/",
          "height": 692
        },
        "id": "3vCdhiY8TUND",
        "outputId": "6a663503-e359-41a0-f82b-53c15b4206fa"
      },
      "execution_count": 353,
      "outputs": [
        {
          "output_type": "stream",
          "name": "stdout",
          "text": [
            "theta calculado por el descenso por el gradiente con regularizacion: [ 1.40485977e+00 -2.99320458e-02  1.06241059e-02 -7.49915179e-03\n",
            " -8.58805959e-03  6.23722583e-02  2.61727697e-02 -1.53456216e-02\n",
            " -1.04921735e-02 -4.29596936e-02  1.16101167e-02  4.44761316e-03\n",
            " -7.11107060e-03  8.81538194e-03  6.23722583e-02  2.61903792e-02\n",
            "  1.27294268e-02 -1.27294268e-02  3.12622067e-02  9.98308460e-03\n",
            "  5.21576791e-03  9.93734457e-03 -2.30776080e-02 -2.99220639e-02\n",
            "  6.76057146e-03  2.86261072e-03 -6.42896928e-03 -6.68397658e-04\n",
            "  7.75461361e-03  2.29024295e-02  1.06445338e-02  7.92194902e-03\n",
            " -5.81565059e-03  1.16930698e-02  2.07221312e-03  5.36072533e-03\n",
            " -7.48493769e-03 -2.99657982e-03 -1.44482954e-04  2.81098396e-03\n",
            " -2.69311452e-02 -8.57474074e-03 -1.02921906e-02 -9.79160036e-05\n",
            "  2.39350069e-05  6.23041823e-02 -1.47069801e-02 -4.39703605e-03\n",
            "  6.15123223e-02 -1.54819422e-02 -1.05356615e-02 -4.28738482e-02\n",
            " -2.13807634e-02 -5.82217318e-02  5.73000953e-03]\n"
          ]
        },
        {
          "output_type": "display_data",
          "data": {
            "text/plain": [
              "<Figure size 640x480 with 1 Axes>"
            ],
            "image/png": "[encoded data removed]"
          },
          "metadata": {}
        }
      ]
    },
    {
      "cell_type": "markdown",
      "source": [
        "###Predicciones\n",
        "Para realizar predicciones al igual que en metodos anteriores, utilizamos los valores thetha obtenidos."
      ],
      "metadata": {
        "id": "_KHOl3JdRNEW"
      }
    },
    {
      "cell_type": "markdown",
      "source": [
        "Sin embargo, la diferencia radica en que un ejemplo(tupla) también debemos llevarlo a la forma de nuestra hipótesis polinomial (55 características).\n",
        "\n",
        "Por tanto, tenemos:"
      ],
      "metadata": {
        "id": "qAoLu4UyigqQ"
      }
    },
    {
      "cell_type": "code",
      "source": [
        "X_tst1P=X_test.values"
      ],
      "metadata": {
        "id": "zpbC-9Ei_Rn9"
      },
      "execution_count": 354,
      "outputs": []
    },
    {
      "cell_type": "code",
      "source": [
        "Y_tst1P=y_test.values"
      ],
      "metadata": {
        "id": "KykV5UO__iXB"
      },
      "execution_count": 355,
      "outputs": []
    },
    {
      "cell_type": "code",
      "source": [
        "X_tstPSquare=X_tst1P**2  ##los cuadrados\n",
        "def row_multiplications(row):\n",
        "    n = len(row)\n",
        "    result = [row[i] * row[j] for i in range(n) for j in range(i+1, n)]\n",
        "    return result\n",
        "\n",
        "# Aplicar la función a cada fila de la matriz original\n",
        "X_tstPCombined = np.array([row_multiplications(row) for row in X_tstP]) #combinaciones simples\n",
        "print(X_tstPCombined[:2])"
      ],
      "metadata": {
        "colab": {
          "base_uri": "https://localhost:8080/"
        },
        "id": "NkT4JbCpFb11",
        "outputId": "694b60f1-5f51-4474-d569-d3ba9f914499"
      },
      "execution_count": 356,
      "outputs": [
        {
          "output_type": "stream",
          "name": "stdout",
          "text": [
            "[[ 2.08844233e+09  2.37618898e+08  8.69538146e+09  0.00000000e+00\n",
            "   1.59905472e+08  6.86234893e+04  3.96197900e+04  1.58479160e+05\n",
            "   7.90349414e+07  2.89218984e+09  0.00000000e+00  5.31865089e+07\n",
            "   2.28250088e+04  1.31780250e+04  5.27121000e+04  3.29067723e+08\n",
            "   0.00000000e+00  6.05145732e+06  2.59698502e+03  1.49937000e+03\n",
            "   5.99748000e+03  0.00000000e+00  2.21445896e+08  9.50335835e+04\n",
            "   5.48676650e+04  2.19470660e+05  0.00000000e+00  0.00000000e+00\n",
            "   0.00000000e+00  0.00000000e+00  1.74763926e+03  1.00900000e+03\n",
            "   4.03600000e+03  4.33012702e-01  1.73205081e+00  1.00000000e+00]\n",
            " [ 1.66104389e+10  2.29739740e+07  2.06268704e+10  0.00000000e+00\n",
            "   4.60073122e+08 -1.14162065e+05  1.97734497e+05  9.13296520e+05\n",
            "   7.32004262e+06  6.57220081e+09  0.00000000e+00  1.46590001e+08\n",
            "  -3.63746900e+04  6.30028112e+04  2.90997520e+05  9.09004099e+06\n",
            "   0.00000000e+00  2.02749300e+05 -5.03100000e+01  8.71394761e+01\n",
            "   4.02480000e+02  0.00000000e+00  1.82035704e+08 -4.51701500e+04\n",
            "   7.82369948e+04  3.61361200e+05  0.00000000e+00 -0.00000000e+00\n",
            "   0.00000000e+00  0.00000000e+00 -1.00750000e+03  1.74504119e+03\n",
            "   8.06000000e+03 -4.33012702e-01 -2.00000000e+00  3.46410162e+00]]\n"
          ]
        }
      ]
    },
    {
      "cell_type": "markdown",
      "source": [
        "Unimos las X, X al cuadrado y las combinaciones de todas las X (en el mismo orden que en el entrenamiento y thithas):"
      ],
      "metadata": {
        "id": "JOygplOeHuyx"
      }
    },
    {
      "cell_type": "code",
      "source": [
        "X_tstPFull = np.concatenate([X_tst1P, X_tstPSquare,X_tstPCombined], axis=1)"
      ],
      "metadata": {
        "id": "xMKWRgJuFyGM"
      },
      "execution_count": 365,
      "outputs": []
    },
    {
      "cell_type": "code",
      "source": [
        "X_tstPFullN = (X_tstPFull - muP) / sigmaP\n",
        "# for row in X_tst1Sesgo:\n",
        "\n",
        "# X_tst1Sesgo[1:10] = (X_tst1[1:10] - mu) / sigma\n",
        "print(X_tstPFullN[:2])"
      ],
      "metadata": {
        "colab": {
          "base_uri": "https://localhost:8080/"
        },
        "id": "mFSBk7pdVtdh",
        "outputId": "924322a1-ec1e-46c8-d68c-7b56a92d31b4"
      },
      "execution_count": 366,
      "outputs": [
        {
          "output_type": "stream",
          "name": "stdout",
          "text": [
            "[[-0.17230173 -0.22420179 -0.18379816 -0.1326779  -0.99910992  1.96868551\n",
            "   1.14614959  0.66771853 -0.73234296 -0.11051278 -0.10662379 -0.08705814\n",
            "  -0.09657771 -0.99910992  1.96925718  0.69692097 -0.69692097 -0.84868765\n",
            "  -0.10433346 -0.09738074 -0.10293712 -0.21286651 -0.17224356  0.04003238\n",
            "   0.04858697 -0.17041903 -0.09353396 -0.10350229 -0.23252547 -0.22418805\n",
            "  -0.00503997  0.00643323 -0.16842171 -0.09458944 -0.1655518  -0.1837789\n",
            "  -0.01049041  0.03040053 -0.15298384 -0.21103862 -0.13257656  0.10084566\n",
            "   0.06720907 -0.14793598 -0.99910971 -0.05548595 -0.02780024 -0.8166771\n",
            "   1.14718445  0.66833796 -0.73117312  1.16844693  0.62783155  0.36723358]\n",
            " [-0.0523697  -0.18539589 -0.21072713 -0.15273437 -0.99910992 -1.22166894\n",
            "  -0.77979393  1.18894356  0.54272858 -0.10739452 -0.10630026 -0.08712281\n",
            "  -0.09696022 -0.99910992 -1.22149271 -0.730557    0.730557    0.36738842\n",
            "  -0.10329283 -0.09755913 -0.1018853  -0.21286651 -0.05247422 -0.16521237\n",
            "   0.22140264 -0.06488033 -0.09358966 -0.10316132 -0.23252547 -0.18543484\n",
            "  -0.07407636  0.06285527 -0.13373702 -0.09493549 -0.1655518  -0.21073763\n",
            "  -0.04465351  0.01229513 -0.16232256 -0.21103862 -0.15278606 -0.10550603\n",
            "   0.09932711 -0.12275934 -0.99910971 -0.05548595 -0.02780024 -0.8166771\n",
            "  -0.77945313  1.18821737  0.54127321 -1.26166301 -0.86818265  1.36366162]]\n"
          ]
        }
      ]
    },
    {
      "cell_type": "markdown",
      "source": [
        "Añadimos el bias"
      ],
      "metadata": {
        "id": "pETTqmJWHhSf"
      }
    },
    {
      "cell_type": "code",
      "source": [
        "m = X_tstPFullN.shape[0]\n",
        "\n",
        "# Crear un vector de unos con m filas\n",
        "sesgo = np.ones((m, 1))\n",
        "\n",
        "# Agregar la columna de unos al principio de X_tstPFullN\n",
        "X_tstPFullN_con_bias = np.hstack((sesgo, X_tstPFullN))\n",
        "\n",
        "print(X_tstPFullN_con_bias[:2])\n"
      ],
      "metadata": {
        "colab": {
          "base_uri": "https://localhost:8080/"
        },
        "id": "ysz49fa6F972",
        "outputId": "26fbcd62-9e31-4dd1-fb8e-7fa736078602"
      },
      "execution_count": 368,
      "outputs": [
        {
          "output_type": "stream",
          "name": "stdout",
          "text": [
            "[[ 1.         -0.17230173 -0.22420179 -0.18379816 -0.1326779  -0.99910992\n",
            "   1.96868551  1.14614959  0.66771853 -0.73234296 -0.11051278 -0.10662379\n",
            "  -0.08705814 -0.09657771 -0.99910992  1.96925718  0.69692097 -0.69692097\n",
            "  -0.84868765 -0.10433346 -0.09738074 -0.10293712 -0.21286651 -0.17224356\n",
            "   0.04003238  0.04858697 -0.17041903 -0.09353396 -0.10350229 -0.23252547\n",
            "  -0.22418805 -0.00503997  0.00643323 -0.16842171 -0.09458944 -0.1655518\n",
            "  -0.1837789  -0.01049041  0.03040053 -0.15298384 -0.21103862 -0.13257656\n",
            "   0.10084566  0.06720907 -0.14793598 -0.99910971 -0.05548595 -0.02780024\n",
            "  -0.8166771   1.14718445  0.66833796 -0.73117312  1.16844693  0.62783155\n",
            "   0.36723358]\n",
            " [ 1.         -0.0523697  -0.18539589 -0.21072713 -0.15273437 -0.99910992\n",
            "  -1.22166894 -0.77979393  1.18894356  0.54272858 -0.10739452 -0.10630026\n",
            "  -0.08712281 -0.09696022 -0.99910992 -1.22149271 -0.730557    0.730557\n",
            "   0.36738842 -0.10329283 -0.09755913 -0.1018853  -0.21286651 -0.05247422\n",
            "  -0.16521237  0.22140264 -0.06488033 -0.09358966 -0.10316132 -0.23252547\n",
            "  -0.18543484 -0.07407636  0.06285527 -0.13373702 -0.09493549 -0.1655518\n",
            "  -0.21073763 -0.04465351  0.01229513 -0.16232256 -0.21103862 -0.15278606\n",
            "  -0.10550603  0.09932711 -0.12275934 -0.99910971 -0.05548595 -0.02780024\n",
            "  -0.8166771  -0.77945313  1.18821737  0.54127321 -1.26166301 -0.86818265\n",
            "   1.36366162]]\n"
          ]
        }
      ]
    },
    {
      "cell_type": "markdown",
      "source": [
        "Normalizamos con la misma media y desviacion estandar de los datos de entrenamiento"
      ],
      "metadata": {
        "id": "c3FIPr-WVspc"
      }
    },
    {
      "cell_type": "markdown",
      "source": [
        "Finalmente hacemos la multiplicación con las thitas para obtener las Y predichas y comparamos resultados:"
      ],
      "metadata": {
        "id": "fBDi-QbmIEWd"
      }
    },
    {
      "cell_type": "markdown",
      "source": [
        "###Predicciones sin regularizacion"
      ],
      "metadata": {
        "id": "pYKPkMvmZT0J"
      }
    },
    {
      "cell_type": "code",
      "source": [
        "pricePol = np.dot(X_tstPFullN_con_bias, thetaP)\n",
        "print(pricePol[:10])\n",
        "print('-----------')\n",
        "print(y_tst[:10])"
      ],
      "metadata": {
        "colab": {
          "base_uri": "https://localhost:8080/"
        },
        "id": "isnsMmaDGpzM",
        "outputId": "f10e5ed5-bfe6-45fc-c954-445a8570968a"
      },
      "execution_count": 372,
      "outputs": [
        {
          "output_type": "stream",
          "name": "stdout",
          "text": [
            "[1.22236944 1.11480442 1.48433331 1.06576665 1.63571222 1.47516078\n",
            " 1.6212336  0.81063532 1.92905525 1.37449901]\n",
            "-----------\n",
            "[0.82 0.97 1.44 0.97 1.45 1.29 2.03 0.94 2.45 1.83]\n"
          ]
        }
      ]
    },
    {
      "cell_type": "code",
      "source": [
        "mseP = np.mean((pricePol - y_tst)**2)\n",
        "\n",
        "print(f'Error Cuadrático Medio sin aplicar regularizacion(MSE): {mseP}')"
      ],
      "metadata": {
        "colab": {
          "base_uri": "https://localhost:8080/"
        },
        "id": "67HU3nv-ZiPR",
        "outputId": "b94f06bf-70e0-4295-c97a-9e7559b052d3"
      },
      "execution_count": 373,
      "outputs": [
        {
          "output_type": "stream",
          "name": "stdout",
          "text": [
            "Error Cuadrático Medio sin aplicar regularizacion(MSE): 0.07966653928402531\n"
          ]
        }
      ]
    },
    {
      "cell_type": "markdown",
      "source": [
        "###Predicciones con regularizacion"
      ],
      "metadata": {
        "id": "dV76p1vTZWvg"
      }
    },
    {
      "cell_type": "code",
      "source": [
        "pricePolR = np.dot(X_tstPFullN_con_bias, thetaPR)\n",
        "print(pricePolR[:10])\n",
        "print('-----------')\n",
        "print(y_tst[:10])"
      ],
      "metadata": {
        "colab": {
          "base_uri": "https://localhost:8080/"
        },
        "id": "XlQwJj3gZsU0",
        "outputId": "96c71553-8d50-4649-ee73-34fe9890013b"
      },
      "execution_count": 375,
      "outputs": [
        {
          "output_type": "stream",
          "name": "stdout",
          "text": [
            "[1.22444003 1.13753737 1.49288785 1.09347971 1.61083434 1.4838411\n",
            " 1.65912238 0.80716177 1.87979571 1.34305531]\n",
            "-----------\n",
            "[0.82 0.97 1.44 0.97 1.45 1.29 2.03 0.94 2.45 1.83]\n"
          ]
        }
      ]
    },
    {
      "cell_type": "code",
      "source": [
        "msePR = np.mean((pricePolR - y_tst)**2)\n",
        "\n",
        "print(f'Error Cuadrático Medio sin aplicar regularizacion(MSE): {msePR}')"
      ],
      "metadata": {
        "colab": {
          "base_uri": "https://localhost:8080/"
        },
        "id": "gBFgHLE3Zs4A",
        "outputId": "a44972d9-705f-4a2e-a0e9-76ad7b6242f6"
      },
      "execution_count": 376,
      "outputs": [
        {
          "output_type": "stream",
          "name": "stdout",
          "text": [
            "Error Cuadrático Medio sin aplicar regularizacion(MSE): 0.08172165841595683\n"
          ]
        }
      ]
    }
  ]
}