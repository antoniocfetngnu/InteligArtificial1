{
  "cells": [
    {
      "cell_type": "markdown",
      "metadata": {
        "id": "view-in-github",
        "colab_type": "text"
      },
      "source": [
        "<a href=\"https://colab.research.google.com/github/antoniocfetngnu/InteligArtificial1/blob/main/laboratorios/laboratorio1/laboratorio1.ipynb\" target=\"_parent\"><img src=\"https://colab.research.google.com/assets/colab-badge.svg\" alt=\"Open In Colab\"/></a>"
      ]
    },
    {
      "cell_type": "markdown",
      "source": [
        "# Laboratorio 1 Inteligencia Artificial I\n",
        "## Nombre: Calderon Flores Enrique Antonio\n",
        "## Carrera: Ing. En Ciencias de la Computación\n"
      ],
      "metadata": {
        "id": "WOtVpqaEXKKG"
      }
    },
    {
      "cell_type": "markdown",
      "source": [
        "# 1er Dataset: 10. Hitters Salary\n",
        "\n",
        "Se quiere predecir el salario de los hitters de baseball\n"
      ],
      "metadata": {
        "id": "e7G4pke97bX9"
      }
    },
    {
      "cell_type": "markdown",
      "metadata": {
        "id": "xTjmiqnfSxgG"
      },
      "source": [
        "## Elección de modelo: Clasificación multiclase OneVsAll\n",
        "Analizando el dataset se puede concluir claramente que se quiere realizar una clasificación múltiple entre distintos tiposs de malware o si la aplicación es benigna. Ya que se tiene 4 categorías discretas, se debe emplear una clasifiación.\n",
        "\n",
        "###Importacion de librerías\n",
        "\n",
        "Primero importamos todas las librerías que necesitamos"
      ]
    },
    {
      "cell_type": "code",
      "execution_count": 85,
      "metadata": {
        "id": "20Q29kX8SxgJ"
      },
      "outputs": [],
      "source": [
        "import pandas as pd\n",
        "import numpy as np\n",
        "from scipy import optimize\n",
        "from sklearn.preprocessing import StandardScaler\n",
        "from sklearn.model_selection import train_test_split\n",
        "from sklearn.metrics import accuracy_score\n",
        "import random\n",
        "# Librerias para graficación (trazado de gráficos)\n",
        "from matplotlib import pyplot\n",
        "from mpl_toolkits.mplot3d import Axes3D  # Necesario para graficar superficies 3D\n",
        "%matplotlib inline"
      ]
    },
    {
      "cell_type": "markdown",
      "source": [
        "Ahora importamos el dataset como dataframe de pandas"
      ],
      "metadata": {
        "id": "3Djzos60vbEa"
      }
    },
    {
      "cell_type": "code",
      "source": [
        "from google.colab import drive\n",
        "drive.mount('/content/drive')"
      ],
      "metadata": {
        "id": "JR9T_5roTXZz",
        "colab": {
          "base_uri": "https://localhost:8080/"
        },
        "outputId": "4ea770a8-c661-4341-b8f2-b31e1aa591d5"
      },
      "execution_count": 86,
      "outputs": [
        {
          "output_type": "stream",
          "name": "stdout",
          "text": [
            "Drive already mounted at /content/drive; to attempt to forcibly remount, call drive.mount(\"/content/drive\", force_remount=True).\n"
          ]
        }
      ]
    },
    {
      "cell_type": "code",
      "source": [
        "df = pd.read_csv('/content/drive/MyDrive/Colab Notebooks/Datasets/Hitters_Adjusted_Salary.csv',index_col=0)"
      ],
      "metadata": {
        "id": "QnygD5PYKWNs"
      },
      "execution_count": 87,
      "outputs": []
    },
    {
      "cell_type": "markdown",
      "source": [
        "Reemplazo de espacios en blanco por guiones bajos en nombre de columnas para evitar errores."
      ],
      "metadata": {
        "id": "1-OjUY4B1urY"
      }
    },
    {
      "cell_type": "markdown",
      "source": [
        "## Preprocesado y Optimización\n",
        "Se incluyó low_memory= False como parámetro en la importación del Dataset ya que nos indicaba que hay columnas que tienen más de un tipo de dato.\n",
        "\n",
        "Columas con problemas (multiples datos) ['Flow_ID', '_CWE_Flag_Count', '_Down/Up_Ratio', 'Fwd_Avg_Bytes/Bulk']"
      ],
      "metadata": {
        "id": "v93DcOHAvmoR"
      }
    },
    {
      "cell_type": "markdown",
      "source": [
        "###Eliminación de valores nulos NAN de dataset"
      ],
      "metadata": {
        "id": "tfEJGcc1yWFQ"
      }
    },
    {
      "cell_type": "code",
      "source": [
        "df = df.dropna()"
      ],
      "metadata": {
        "id": "bDNmvKfPtpMX"
      },
      "execution_count": 88,
      "outputs": []
    },
    {
      "cell_type": "code",
      "source": [
        "pd.set_option('display.max_columns', None)\n",
        "print(df.head())"
      ],
      "metadata": {
        "colab": {
          "base_uri": "https://localhost:8080/"
        },
        "id": "u7uwuMhxsLLS",
        "outputId": "c3168e74-3601-4223-c38a-7dbc0d34546c"
      },
      "execution_count": 89,
      "outputs": [
        {
          "output_type": "stream",
          "name": "stdout",
          "text": [
            "   yearID   playerID   salary    ADJ Salary     GS  InnOuts   PO    A     E  \\\n",
            "0    1985  benedbr01   545000  1.310892e+06   67.0   1698.0  314   35   4.0   \n",
            "1    1985  ceronri01   625000  1.503317e+06   76.0   2097.0  384   48   6.0   \n",
            "2    1985  chambch01   800000  1.924245e+06   27.0    814.0  299   25   1.0   \n",
            "3    1985  harpete01   250000  6.013267e+05  124.0   3299.0  215   10   5.0   \n",
            "4    1985  hornebo01  1500000  3.607960e+06  125.0   3196.0  917  119  11.0   \n",
            "\n",
            "    DP teamID lgID    G   AB   R    H  2B  3B  HR   RBI   SB   CS  BB    SO  \\\n",
            "0    1    ATL   NL   70  208  12   42   6   0   0  20.0  0.0  1.0  22  12.0   \n",
            "1    4    ATL   NL   96  282  15   61   9   0   3  25.0  0.0  3.0  29  25.0   \n",
            "2   31    ATL   NL  101  170  16   40   7   0   3  21.0  0.0  0.0  18  22.0   \n",
            "3    0    ATL   NL  138  492  58  130  15   2  17  72.0  9.0  9.0  44  76.0   \n",
            "4  111    ATL   NL  130  483  61  129  25   3  27  89.0  1.0  1.0  50  57.0   \n",
            "\n",
            "   IBB  HBP   SH   SF  GIDP  \n",
            "0  1.0  1.0  4.0  2.0   8.0  \n",
            "1  1.0  1.0  0.0  4.0  15.0  \n",
            "2  4.0  0.0  0.0  1.0   5.0  \n",
            "3  4.0  3.0  1.0  2.0  13.0  \n",
            "4  4.0  1.0  0.0  6.0  18.0  \n"
          ]
        }
      ]
    },
    {
      "cell_type": "markdown",
      "source": [
        "###Eliminación de columnas de ID o relacionadas\n",
        "Debido a que sus valores son únicos y no indican una escala de valores que tenga una relación ordinal o incremental"
      ],
      "metadata": {
        "id": "UnX6mofG28uc"
      }
    },
    {
      "cell_type": "code",
      "source": [
        "df = df.drop('playerID', axis=1)\n",
        "df = df.drop('teamID', axis=1)\n",
        "df = df.drop('lgID', axis=1)"
      ],
      "metadata": {
        "id": "8jHz7nyu3PLZ"
      },
      "execution_count": 90,
      "outputs": []
    },
    {
      "cell_type": "code",
      "source": [
        "# Calcular la matriz de correlación\n",
        "correlacion = df.corr()\n",
        "\n",
        "# Mostrar la matriz de correlación\n",
        "print(correlacion)\n"
      ],
      "metadata": {
        "colab": {
          "base_uri": "https://localhost:8080/"
        },
        "id": "lxfznqZ2tsv2",
        "outputId": "82b3a9c7-7c70-4c84-f8f0-28fccf6293b9"
      },
      "execution_count": 91,
      "outputs": [
        {
          "output_type": "stream",
          "name": "stdout",
          "text": [
            "              yearID    salary  ADJ Salary        GS   InnOuts        PO  \\\n",
            "yearID      1.000000  0.369781    0.294552  0.053712  0.054077  0.032170   \n",
            "salary      0.369781  1.000000    0.986739  0.310427  0.296319  0.202047   \n",
            "ADJ Salary  0.294552  0.986739    1.000000  0.340543  0.324884  0.221851   \n",
            "GS          0.053712  0.310427    0.340543  1.000000  0.997493  0.517505   \n",
            "InnOuts     0.054077  0.296319    0.324884  0.997493  1.000000  0.517253   \n",
            "PO          0.032170  0.202047    0.221851  0.517505  0.517253  1.000000   \n",
            "A           0.013986  0.063393    0.070193  0.501796  0.504719  0.011896   \n",
            "E          -0.081280  0.049576    0.068595  0.590649  0.590732  0.163747   \n",
            "DP          0.029659  0.148798    0.161187  0.494896  0.495804  0.502775   \n",
            "G           0.015351  0.242130    0.268214  0.802621  0.807989  0.439860   \n",
            "AB          0.039775  0.310687    0.341030  0.875803  0.873533  0.462280   \n",
            "R           0.027867  0.334038    0.374673  0.823447  0.820176  0.417419   \n",
            "H           0.030288  0.318499    0.352471  0.859460  0.855683  0.455032   \n",
            "2B          0.080332  0.316753    0.345066  0.799587  0.795059  0.445285   \n",
            "3B         -0.032422  0.033405    0.049370  0.499630  0.505808  0.109066   \n",
            "HR          0.073472  0.379992    0.418073  0.614008  0.603409  0.433350   \n",
            "RBI         0.033528  0.369165    0.410647  0.765085  0.756682  0.491713   \n",
            "SB         -0.060385  0.059121    0.079974  0.457766  0.463981  0.064334   \n",
            "CS         -0.131702  0.013023    0.037790  0.504514  0.511769  0.095724   \n",
            "BB         -0.001088  0.347093    0.391621  0.700563  0.694529  0.457984   \n",
            "SO          0.170558  0.297911    0.308512  0.714200  0.712241  0.410589   \n",
            "IBB        -0.057314  0.289879    0.333003  0.430722  0.425498  0.391159   \n",
            "HBP         0.150277  0.228131    0.240018  0.471175  0.467348  0.281524   \n",
            "SH         -0.101149 -0.132082   -0.129720  0.259829  0.273282  0.003468   \n",
            "SF         -0.012773  0.252601    0.286412  0.610788  0.605977  0.376509   \n",
            "GIDP        0.048634  0.312168    0.336772  0.674238  0.667664  0.429668   \n",
            "\n",
            "                   A         E        DP         G        AB         R  \\\n",
            "yearID      0.013986 -0.081280  0.029659  0.015351  0.039775  0.027867   \n",
            "salary      0.063393  0.049576  0.148798  0.242130  0.310687  0.334038   \n",
            "ADJ Salary  0.070193  0.068595  0.161187  0.268214  0.341030  0.374673   \n",
            "GS          0.501796  0.590649  0.494896  0.802621  0.875803  0.823447   \n",
            "InnOuts     0.504719  0.590732  0.495804  0.807989  0.873533  0.820176   \n",
            "PO          0.011896  0.163747  0.502775  0.439860  0.462280  0.417419   \n",
            "A           1.000000  0.735639  0.733678  0.390117  0.429634  0.359629   \n",
            "E           0.735639  1.000000  0.542837  0.460667  0.495290  0.432222   \n",
            "DP          0.733678  0.542837  1.000000  0.415077  0.448823  0.406029   \n",
            "G           0.390117  0.460667  0.415077  1.000000  0.952679  0.881232   \n",
            "AB          0.429634  0.495290  0.448823  0.952679  1.000000  0.939390   \n",
            "R           0.359629  0.432222  0.406029  0.881232  0.939390  1.000000   \n",
            "H           0.410709  0.472583  0.440963  0.924376  0.983243  0.954205   \n",
            "2B          0.368944  0.433502  0.415759  0.858599  0.913230  0.895985   \n",
            "3B          0.260249  0.272176  0.193684  0.517839  0.552012  0.564739   \n",
            "HR          0.122049  0.278874  0.265347  0.670108  0.716624  0.787221   \n",
            "RBI         0.265155  0.393267  0.374995  0.837231  0.887125  0.898410   \n",
            "SB          0.199079  0.218363  0.123452  0.450119  0.497031  0.550989   \n",
            "CS          0.247817  0.290253  0.164273  0.514137  0.544464  0.556085   \n",
            "BB          0.253851  0.341895  0.372692  0.778991  0.795292  0.854952   \n",
            "SO          0.242964  0.382097  0.305078  0.801781  0.820768  0.789544   \n",
            "IBB         0.090436  0.197035  0.244075  0.481059  0.489937  0.523866   \n",
            "HBP         0.210559  0.242680  0.240230  0.503126  0.526096  0.541316   \n",
            "SH          0.405322  0.279557  0.250544  0.284777  0.252916  0.188494   \n",
            "SF          0.279783  0.347689  0.337327  0.667550  0.701496  0.671959   \n",
            "GIDP        0.344715  0.394088  0.379501  0.735410  0.776341  0.689403   \n",
            "\n",
            "                   H        2B        3B        HR       RBI        SB  \\\n",
            "yearID      0.030288  0.080332 -0.032422  0.073472  0.033528 -0.060385   \n",
            "salary      0.318499  0.316753  0.033405  0.379992  0.369165  0.059121   \n",
            "ADJ Salary  0.352471  0.345066  0.049370  0.418073  0.410647  0.079974   \n",
            "GS          0.859460  0.799587  0.499630  0.614008  0.765085  0.457766   \n",
            "InnOuts     0.855683  0.795059  0.505808  0.603409  0.756682  0.463981   \n",
            "PO          0.455032  0.445285  0.109066  0.433350  0.491713  0.064334   \n",
            "A           0.410709  0.368944  0.260249  0.122049  0.265155  0.199079   \n",
            "E           0.472583  0.433502  0.272176  0.278874  0.393267  0.218363   \n",
            "DP          0.440963  0.415759  0.193684  0.265347  0.374995  0.123452   \n",
            "G           0.924376  0.858599  0.517839  0.670108  0.837231  0.450119   \n",
            "AB          0.983243  0.913230  0.552012  0.716624  0.887125  0.497031   \n",
            "R           0.954205  0.895985  0.564739  0.787221  0.898410  0.550989   \n",
            "H           1.000000  0.928861  0.560160  0.721699  0.898036  0.505635   \n",
            "2B          0.928861  1.000000  0.463363  0.714507  0.875059  0.394454   \n",
            "3B          0.560160  0.463363  1.000000  0.237792  0.386406  0.586099   \n",
            "HR          0.721699  0.714507  0.237792  1.000000  0.904423  0.182243   \n",
            "RBI         0.898036  0.875059  0.386406  0.904423  1.000000  0.302839   \n",
            "SB          0.505635  0.394454  0.586099  0.182243  0.302839  1.000000   \n",
            "CS          0.544262  0.437183  0.564635  0.213028  0.348872  0.780556   \n",
            "BB          0.792074  0.755919  0.386197  0.731294  0.802583  0.393092   \n",
            "SO          0.769186  0.746768  0.405658  0.767264  0.796406  0.346403   \n",
            "IBB         0.515688  0.499208  0.183271  0.575164  0.591996  0.144086   \n",
            "HBP         0.519300  0.513908  0.240714  0.467134  0.506470  0.231944   \n",
            "SH          0.223738  0.136132  0.302021 -0.148534  0.008681  0.327797   \n",
            "SF          0.701100  0.683282  0.314131  0.583700  0.742705  0.250658   \n",
            "GIDP        0.771000  0.730875  0.272451  0.583603  0.741949  0.192078   \n",
            "\n",
            "                  CS        BB        SO       IBB       HBP        SH  \\\n",
            "yearID     -0.131702 -0.001088  0.170558 -0.057314  0.150277 -0.101149   \n",
            "salary      0.013023  0.347093  0.297911  0.289879  0.228131 -0.132082   \n",
            "ADJ Salary  0.037790  0.391621  0.308512  0.333003  0.240018 -0.129720   \n",
            "GS          0.504514  0.700563  0.714200  0.430722  0.471175  0.259829   \n",
            "InnOuts     0.511769  0.694529  0.712241  0.425498  0.467348  0.273282   \n",
            "PO          0.095724  0.457984  0.410589  0.391159  0.281524  0.003468   \n",
            "A           0.247817  0.253851  0.242964  0.090436  0.210559  0.405322   \n",
            "E           0.290253  0.341895  0.382097  0.197035  0.242680  0.279557   \n",
            "DP          0.164273  0.372692  0.305078  0.244075  0.240230  0.250544   \n",
            "G           0.514137  0.778991  0.801781  0.481059  0.503126  0.284777   \n",
            "AB          0.544464  0.795292  0.820768  0.489937  0.526096  0.252916   \n",
            "R           0.556085  0.854952  0.789544  0.523866  0.541316  0.188494   \n",
            "H           0.544262  0.792074  0.769186  0.515688  0.519300  0.223738   \n",
            "2B          0.437183  0.755919  0.746768  0.499208  0.513908  0.136132   \n",
            "3B          0.564635  0.386197  0.405658  0.183271  0.240714  0.302021   \n",
            "HR          0.213028  0.731294  0.767264  0.575164  0.467134 -0.148534   \n",
            "RBI         0.348872  0.802583  0.796406  0.591996  0.506470  0.008681   \n",
            "SB          0.780556  0.393092  0.346403  0.144086  0.231944  0.327797   \n",
            "CS          1.000000  0.421839  0.388439  0.165919  0.250582  0.367522   \n",
            "BB          0.421839  1.000000  0.736344  0.632730  0.447817  0.089495   \n",
            "SO          0.388439  0.736344  1.000000  0.408044  0.501011  0.080178   \n",
            "IBB         0.165919  0.632730  0.408044  1.000000  0.246381 -0.087346   \n",
            "HBP         0.250582  0.447817  0.501011  0.246381  1.000000  0.097645   \n",
            "SH          0.367522  0.089495  0.080178 -0.087346  0.097645  1.000000   \n",
            "SF          0.287958  0.598763  0.547780  0.421407  0.360364  0.081774   \n",
            "GIDP        0.263657  0.590760  0.585301  0.411958  0.391291  0.099151   \n",
            "\n",
            "                  SF      GIDP  \n",
            "yearID     -0.012773  0.048634  \n",
            "salary      0.252601  0.312168  \n",
            "ADJ Salary  0.286412  0.336772  \n",
            "GS          0.610788  0.674238  \n",
            "InnOuts     0.605977  0.667664  \n",
            "PO          0.376509  0.429668  \n",
            "A           0.279783  0.344715  \n",
            "E           0.347689  0.394088  \n",
            "DP          0.337327  0.379501  \n",
            "G           0.667550  0.735410  \n",
            "AB          0.701496  0.776341  \n",
            "R           0.671959  0.689403  \n",
            "H           0.701100  0.771000  \n",
            "2B          0.683282  0.730875  \n",
            "3B          0.314131  0.272451  \n",
            "HR          0.583700  0.583603  \n",
            "RBI         0.742705  0.741949  \n",
            "SB          0.250658  0.192078  \n",
            "CS          0.287958  0.263657  \n",
            "BB          0.598763  0.590760  \n",
            "SO          0.547780  0.585301  \n",
            "IBB         0.421407  0.411958  \n",
            "HBP         0.360364  0.391291  \n",
            "SH          0.081774  0.099151  \n",
            "SF          1.000000  0.589231  \n",
            "GIDP        0.589231  1.000000  \n"
          ]
        }
      ]
    },
    {
      "cell_type": "code",
      "source": [
        "# df = df.drop('ADJ Salary', axis=1)"
      ],
      "metadata": {
        "id": "8JHuXzahtykv"
      },
      "execution_count": 92,
      "outputs": []
    },
    {
      "cell_type": "code",
      "source": [
        "df = df.drop(df[df['salary'] < 0].index)\n",
        "df = df.drop(df[df['ADJ Salary'] < 0].index)"
      ],
      "metadata": {
        "id": "aZs-Tl0yznrl"
      },
      "execution_count": 93,
      "outputs": []
    },
    {
      "cell_type": "code",
      "source": [
        "print(df.head())"
      ],
      "metadata": {
        "colab": {
          "base_uri": "https://localhost:8080/"
        },
        "id": "ELqzI3tHuJ0d",
        "outputId": "5ce691d4-9304-4278-f203-44b8a333f98a"
      },
      "execution_count": 94,
      "outputs": [
        {
          "output_type": "stream",
          "name": "stdout",
          "text": [
            "   yearID   salary    ADJ Salary     GS  InnOuts   PO    A     E   DP    G  \\\n",
            "0    1985   545000  1.310892e+06   67.0   1698.0  314   35   4.0    1   70   \n",
            "1    1985   625000  1.503317e+06   76.0   2097.0  384   48   6.0    4   96   \n",
            "2    1985   800000  1.924245e+06   27.0    814.0  299   25   1.0   31  101   \n",
            "3    1985   250000  6.013267e+05  124.0   3299.0  215   10   5.0    0  138   \n",
            "4    1985  1500000  3.607960e+06  125.0   3196.0  917  119  11.0  111  130   \n",
            "\n",
            "    AB   R    H  2B  3B  HR   RBI   SB   CS  BB    SO  IBB  HBP   SH   SF  \\\n",
            "0  208  12   42   6   0   0  20.0  0.0  1.0  22  12.0  1.0  1.0  4.0  2.0   \n",
            "1  282  15   61   9   0   3  25.0  0.0  3.0  29  25.0  1.0  1.0  0.0  4.0   \n",
            "2  170  16   40   7   0   3  21.0  0.0  0.0  18  22.0  4.0  0.0  0.0  1.0   \n",
            "3  492  58  130  15   2  17  72.0  9.0  9.0  44  76.0  4.0  3.0  1.0  2.0   \n",
            "4  483  61  129  25   3  27  89.0  1.0  1.0  50  57.0  4.0  1.0  0.0  6.0   \n",
            "\n",
            "   GIDP  \n",
            "0   8.0  \n",
            "1  15.0  \n",
            "2   5.0  \n",
            "3  13.0  \n",
            "4  18.0  \n"
          ]
        }
      ]
    },
    {
      "cell_type": "code",
      "source": [
        "nans_por_celda = df.isna().isna()\n",
        "\n",
        "print(\"NaN por celda:\")\n",
        "print(nans_por_celda)"
      ],
      "metadata": {
        "colab": {
          "base_uri": "https://localhost:8080/"
        },
        "id": "WVaPANEFuU5g",
        "outputId": "486aa192-8763-465c-8131-d94ec04e2580"
      },
      "execution_count": 95,
      "outputs": [
        {
          "output_type": "stream",
          "name": "stdout",
          "text": [
            "NaN por celda:\n",
            "       yearID  salary  ADJ Salary     GS  InnOuts     PO      A      E     DP  \\\n",
            "0       False   False       False  False    False  False  False  False  False   \n",
            "1       False   False       False  False    False  False  False  False  False   \n",
            "2       False   False       False  False    False  False  False  False  False   \n",
            "3       False   False       False  False    False  False  False  False  False   \n",
            "4       False   False       False  False    False  False  False  False  False   \n",
            "...       ...     ...         ...    ...      ...    ...    ...    ...    ...   \n",
            "15018   False   False       False  False    False  False  False  False  False   \n",
            "15019   False   False       False  False    False  False  False  False  False   \n",
            "15020   False   False       False  False    False  False  False  False  False   \n",
            "15021   False   False       False  False    False  False  False  False  False   \n",
            "15022   False   False       False  False    False  False  False  False  False   \n",
            "\n",
            "           G     AB      R      H     2B     3B     HR    RBI     SB     CS  \\\n",
            "0      False  False  False  False  False  False  False  False  False  False   \n",
            "1      False  False  False  False  False  False  False  False  False  False   \n",
            "2      False  False  False  False  False  False  False  False  False  False   \n",
            "3      False  False  False  False  False  False  False  False  False  False   \n",
            "4      False  False  False  False  False  False  False  False  False  False   \n",
            "...      ...    ...    ...    ...    ...    ...    ...    ...    ...    ...   \n",
            "15018  False  False  False  False  False  False  False  False  False  False   \n",
            "15019  False  False  False  False  False  False  False  False  False  False   \n",
            "15020  False  False  False  False  False  False  False  False  False  False   \n",
            "15021  False  False  False  False  False  False  False  False  False  False   \n",
            "15022  False  False  False  False  False  False  False  False  False  False   \n",
            "\n",
            "          BB     SO    IBB    HBP     SH     SF   GIDP  \n",
            "0      False  False  False  False  False  False  False  \n",
            "1      False  False  False  False  False  False  False  \n",
            "2      False  False  False  False  False  False  False  \n",
            "3      False  False  False  False  False  False  False  \n",
            "4      False  False  False  False  False  False  False  \n",
            "...      ...    ...    ...    ...    ...    ...    ...  \n",
            "15018  False  False  False  False  False  False  False  \n",
            "15019  False  False  False  False  False  False  False  \n",
            "15020  False  False  False  False  False  False  False  \n",
            "15021  False  False  False  False  False  False  False  \n",
            "15022  False  False  False  False  False  False  False  \n",
            "\n",
            "[15023 rows x 26 columns]\n"
          ]
        }
      ]
    },
    {
      "cell_type": "markdown",
      "source": [
        "Como se puede observar se aplicó correctamente el preprocesamiento y ya no tenemos NANs en las columnas"
      ],
      "metadata": {
        "id": "lyVyd6M5zn_z"
      }
    },
    {
      "cell_type": "markdown",
      "source": [
        "#Separación en entrenamiento y prueba\n",
        "Ahora, con el dataset listo, debemos separar los datos de manera coherente\n",
        "##Tomar el 20% de los datos de cada ocurrencia en Y(label)\n",
        "Entonces, utilizando train_test_split con stratify y test_size=0.2 aseguramos que se tome el 20% de cada ocurrencia en Y, además la semilla aleatoria es 42, por si quisieramos replicar la pseudo aleatorieadad al correr nuevamente el código."
      ],
      "metadata": {
        "id": "8qJVzScl0Z9i"
      }
    },
    {
      "cell_type": "code",
      "execution_count": 96,
      "metadata": {
        "id": "V2C82bqdSxgL",
        "colab": {
          "base_uri": "https://localhost:8080/"
        },
        "outputId": "dd7723d6-c05c-4877-fa90-087e777b8049"
      },
      "outputs": [
        {
          "output_type": "stream",
          "name": "stdout",
          "text": [
            "   yearID    ADJ Salary     GS  InnOuts   PO    A     E   DP    G   AB   R  \\\n",
            "0    1985  1.310892e+06   67.0   1698.0  314   35   4.0    1   70  208  12   \n",
            "1    1985  1.503317e+06   76.0   2097.0  384   48   6.0    4   96  282  15   \n",
            "2    1985  1.924245e+06   27.0    814.0  299   25   1.0   31  101  170  16   \n",
            "3    1985  6.013267e+05  124.0   3299.0  215   10   5.0    0  138  492  58   \n",
            "4    1985  3.607960e+06  125.0   3196.0  917  119  11.0  111  130  483  61   \n",
            "\n",
            "     H  2B  3B  HR   RBI   SB   CS  BB    SO  IBB  HBP   SH   SF  GIDP  \n",
            "0   42   6   0   0  20.0  0.0  1.0  22  12.0  1.0  1.0  4.0  2.0   8.0  \n",
            "1   61   9   0   3  25.0  0.0  3.0  29  25.0  1.0  1.0  0.0  4.0  15.0  \n",
            "2   40   7   0   3  21.0  0.0  0.0  18  22.0  4.0  0.0  0.0  1.0   5.0  \n",
            "3  130  15   2  17  72.0  9.0  9.0  44  76.0  4.0  3.0  1.0  2.0  13.0  \n",
            "4  129  25   3  27  89.0  1.0  1.0  50  57.0  4.0  1.0  0.0  6.0  18.0  \n",
            "--------------------\n",
            "0     545000\n",
            "1     625000\n",
            "2     800000\n",
            "3     250000\n",
            "4    1500000\n",
            "Name: salary, dtype: int64\n"
          ]
        }
      ],
      "source": [
        "y1 = df['salary']\n",
        "X1 = df.drop(columns=['salary'])\n",
        "\n",
        "print(X1.head())\n",
        "print('-'*20)\n",
        "print(y1.head())"
      ]
    },
    {
      "cell_type": "code",
      "source": [
        "X_train, X_test, y_train, y_test = train_test_split(X1, y1, test_size=0.2, random_state=42)"
      ],
      "metadata": {
        "id": "ytasa83z7wk7"
      },
      "execution_count": 97,
      "outputs": []
    },
    {
      "cell_type": "code",
      "source": [
        "print('X_train(LENGHT):',len(X_train))\n",
        "print('y_train(LENGHT):',len(y_train))\n",
        "print('X_test(LENGHT):',len(X_test))\n",
        "print('y_test(LENGHT):',len(y_test))\n",
        "\n",
        "print('------------')\n",
        "print(X_train.head())\n",
        "print('------------')\n",
        "print(y_train.head())"
      ],
      "metadata": {
        "colab": {
          "base_uri": "https://localhost:8080/"
        },
        "id": "pwhEBMX3u2mu",
        "outputId": "c8609f31-47f3-4fe4-edc1-93ecfd9ffbf2"
      },
      "execution_count": 98,
      "outputs": [
        {
          "output_type": "stream",
          "name": "stdout",
          "text": [
            "X_train(LENGHT): 12018\n",
            "y_train(LENGHT): 12018\n",
            "X_test(LENGHT): 3005\n",
            "y_test(LENGHT): 3005\n",
            "------------\n",
            "       yearID    ADJ Salary     GS  InnOuts   PO    A    E  DP    G   AB   R  \\\n",
            "12945    2012  2.649049e+06   66.0   1762.0  153    2  0.0   1  122  289  44   \n",
            "5729     1997  1.290024e+06   99.0   2591.0  217   12  2.0   2  103  378  44   \n",
            "3559     1993  8.955398e+05   39.0    895.0   79    4  3.0   1   65  129  19   \n",
            "2766     1991  4.750569e+06  138.0   3625.0  362   10  1.0   2  150  572  86   \n",
            "9338     2004  4.213043e+05   48.0   1274.0   93  143  6.0  31   53  220  33   \n",
            "\n",
            "         H  2B  3B  HR   RBI    SB   CS  BB     SO  IBB  HBP   SH   SF  GIDP  \n",
            "12945   69   5   3   3  16.0  12.0  5.0  20   63.0  0.0  6.0  7.0  0.0   4.0  \n",
            "5729    93  18   4  15  51.0   5.0  3.0  30   92.0  2.0  3.0  0.0  2.0  13.0  \n",
            "3559    33  10   1   6  19.0   2.0  0.0  15   34.0  2.0  1.0  1.0  2.0   2.0  \n",
            "2766   158  33   0  25  85.0   6.0  6.0  58  113.0  3.0  4.0  1.0  2.0   9.0  \n",
            "9338    56  16   2   2  14.0  19.0  2.0   5   31.0  0.0  0.0  4.0  0.0   1.0  \n",
            "------------\n",
            "12945    2350000\n",
            "5729      800000\n",
            "3559      500000\n",
            "2766     2500000\n",
            "9338      307500\n",
            "Name: salary, dtype: int64\n"
          ]
        }
      ]
    },
    {
      "cell_type": "code",
      "source": [
        "X_tr = X_train.values\n",
        "y_tr= y_train.values"
      ],
      "metadata": {
        "id": "kzpUrWnEu9UJ"
      },
      "execution_count": 99,
      "outputs": []
    },
    {
      "cell_type": "code",
      "source": [
        "m=y_tr.size\n",
        "n = X_tr.shape[0]\n",
        "print(m,n)"
      ],
      "metadata": {
        "colab": {
          "base_uri": "https://localhost:8080/"
        },
        "id": "k-AU6SlUvFdb",
        "outputId": "a02748d9-2556-4de2-d2e3-7246bdb42896"
      },
      "execution_count": 100,
      "outputs": [
        {
          "output_type": "stream",
          "name": "stdout",
          "text": [
            "12018 12018\n"
          ]
        }
      ]
    },
    {
      "cell_type": "code",
      "source": [
        "def  featureNormalize(X):\n",
        "    X_norm = X.copy()\n",
        "    mu = np.zeros(X.shape[1])\n",
        "    sigma = np.zeros(X.shape[1])\n",
        "\n",
        "    mu = np.mean(X, axis = 0)\n",
        "    sigma = np.std(X, axis = 0)\n",
        "    X_norm = (X - mu) / sigma\n",
        "\n",
        "    return X_norm, mu, sigma"
      ],
      "metadata": {
        "id": "dku_SYj_vM25"
      },
      "execution_count": 101,
      "outputs": []
    },
    {
      "cell_type": "code",
      "source": [
        "# llama featureNormalize con los datos cargados\n",
        "X_norm, mu, sigma = featureNormalize(X_tr)\n",
        "\n",
        "print(X_tr)\n",
        "print('Media calculada:', mu)\n",
        "print('Desviación estandar calculada:', sigma)\n",
        "print(X_norm)"
      ],
      "metadata": {
        "colab": {
          "base_uri": "https://localhost:8080/"
        },
        "id": "XxGwXsEYvQOF",
        "outputId": "21a4b619-bea3-4d96-94f3-0af1ee81bdf4"
      },
      "execution_count": 102,
      "outputs": [
        {
          "output_type": "stream",
          "name": "stdout",
          "text": [
            "[[2.01200000e+03 2.64904941e+06 6.60000000e+01 ... 7.00000000e+00\n",
            "  0.00000000e+00 4.00000000e+00]\n",
            " [1.99700000e+03 1.29002368e+06 9.90000000e+01 ... 0.00000000e+00\n",
            "  2.00000000e+00 1.30000000e+01]\n",
            " [1.99300000e+03 8.95539792e+05 3.90000000e+01 ... 1.00000000e+00\n",
            "  2.00000000e+00 2.00000000e+00]\n",
            " ...\n",
            " [1.99600000e+03 1.97943403e+05 1.00000000e+00 ... 0.00000000e+00\n",
            "  1.00000000e+00 0.00000000e+00]\n",
            " [1.98700000e+03 2.37698994e+06 1.49000000e+02 ... 3.00000000e+00\n",
            "  9.00000000e+00 1.50000000e+01]\n",
            " [2.00000000e+03 2.63019309e+06 9.30000000e+01 ... 4.00000000e+00\n",
            "  8.00000000e+00 1.20000000e+01]]\n",
            "Media calculada: [2.00068888e+03 2.99534393e+06 7.75356132e+01 2.07135821e+03\n",
            " 2.52615826e+02 8.76960393e+01 5.73889166e+00 2.30725578e+01\n",
            " 9.11258113e+01 2.93608005e+02 4.02248294e+01 7.83981528e+01\n",
            " 1.51711599e+01 1.69379264e+00 8.84972541e+00 3.82743385e+01\n",
            " 5.85014145e+00 2.49800300e+00 2.91052588e+01 5.33439008e+01\n",
            " 2.44025628e+00 2.68838409e+00 1.85263771e+00 2.52046930e+00\n",
            " 6.71709103e+00]\n",
            "Desviación estandar calculada: [8.96915878e+00 4.43994084e+06 4.87058694e+01 1.27026458e+03\n",
            " 2.66675153e+02 1.23630268e+02 5.55452737e+00 3.30629801e+01\n",
            " 4.72159485e+01 1.91126620e+02 3.10853919e+01 5.60440519e+01\n",
            " 1.18014194e+01 2.25044433e+00 9.70337487e+00 3.13100686e+01\n",
            " 9.52550904e+00 3.24618716e+00 2.45635083e+01 3.78993351e+01\n",
            " 3.92059652e+00 3.32239007e+00 2.83315988e+00 2.48767079e+00\n",
            " 5.54088954e+00]\n",
            "[[ 1.26111232 -0.0779953  -0.23684236 ...  1.81682732 -1.01318442\n",
            "  -0.49037091]\n",
            " [-0.41128532 -0.38408626  0.44069405 ... -0.65391216 -0.20921952\n",
            "   1.13391702]\n",
            " [-0.85725803 -0.47293516 -0.79119034 ... -0.30094938 -0.20921952\n",
            "  -0.85132378]\n",
            " ...\n",
            " [-0.5227785  -0.63005356 -1.57138378 ... -0.65391216 -0.61120197\n",
            "  -1.21227665]\n",
            " [-1.52621708 -0.13927077  1.46726437 ...  0.40497619  2.60465763\n",
            "   1.49486989]\n",
            " [-0.07680579 -0.08224228  0.31750561 ...  0.75793897  2.20267518\n",
            "   0.95344059]]\n"
          ]
        }
      ]
    },
    {
      "cell_type": "code",
      "source": [
        "# Añade el termino de interseccion a X\n",
        "# (Columna de unos para X0)\n",
        "X_tr = np.concatenate([np.ones((m, 1)), X_norm], axis=1)"
      ],
      "metadata": {
        "id": "n18XlczAvT6S"
      },
      "execution_count": 103,
      "outputs": []
    },
    {
      "cell_type": "code",
      "source": [
        "print(X_tr)"
      ],
      "metadata": {
        "colab": {
          "base_uri": "https://localhost:8080/"
        },
        "id": "cRDhVwYrveky",
        "outputId": "0ecf4ec3-13c4-4dc1-c894-42204b2d07e4"
      },
      "execution_count": 104,
      "outputs": [
        {
          "output_type": "stream",
          "name": "stdout",
          "text": [
            "[[ 1.          1.26111232 -0.0779953  ...  1.81682732 -1.01318442\n",
            "  -0.49037091]\n",
            " [ 1.         -0.41128532 -0.38408626 ... -0.65391216 -0.20921952\n",
            "   1.13391702]\n",
            " [ 1.         -0.85725803 -0.47293516 ... -0.30094938 -0.20921952\n",
            "  -0.85132378]\n",
            " ...\n",
            " [ 1.         -0.5227785  -0.63005356 ... -0.65391216 -0.61120197\n",
            "  -1.21227665]\n",
            " [ 1.         -1.52621708 -0.13927077 ...  0.40497619  2.60465763\n",
            "   1.49486989]\n",
            " [ 1.         -0.07680579 -0.08224228 ...  0.75793897  2.20267518\n",
            "   0.95344059]]\n"
          ]
        }
      ]
    },
    {
      "cell_type": "code",
      "source": [
        "m=y_tr.size\n",
        "n = X_tr.shape[0]\n",
        "print(m,n)"
      ],
      "metadata": {
        "colab": {
          "base_uri": "https://localhost:8080/"
        },
        "id": "URWm5MdawPyz",
        "outputId": "57e8de21-dbca-4303-ad02-cdfb5aa753d6"
      },
      "execution_count": 105,
      "outputs": [
        {
          "output_type": "stream",
          "name": "stdout",
          "text": [
            "12018 12018\n"
          ]
        }
      ]
    },
    {
      "cell_type": "code",
      "source": [
        "def computeCostMultiReg(X_tr, y_tr, theta, lambda_reg):\n",
        "    # Inicializa algunos valores útiles\n",
        "    m = y_tr.shape[0]  # numero de ejemplos de entrenamiento\n",
        "\n",
        "    # Calcula la hipótesis\n",
        "    h = np.dot(X_tr, theta)\n",
        "\n",
        "    # Calcula el error cuadrático medio\n",
        "    mse = (1 / (2 * m)) * np.sum(np.square(h - y_tr))\n",
        "\n",
        "    # Calcula el término de regularización\n",
        "    regularization_term = (lambda_reg / (2 * m)) * np.sum(np.square(theta[1:]))\n",
        "\n",
        "    # Calcula la función de costo regularizada\n",
        "    J = mse + regularization_term\n",
        "\n",
        "    return J"
      ],
      "metadata": {
        "id": "jG1uTV98vhrv"
      },
      "execution_count": 106,
      "outputs": []
    },
    {
      "cell_type": "code",
      "source": [
        "def gradientDescentMultiReg(X, y, theta, alpha, num_iters, lambda_reg):\n",
        "    # Inicializa algunos valores\n",
        "    m = y.shape[0]  # numero de ejemplos de entrenamiento\n",
        "\n",
        "    # realiza una copia de theta, el cual será actualizada por el descenso por el gradiente\n",
        "    theta = theta.copy()\n",
        "\n",
        "    J_history = []\n",
        "\n",
        "    for i in range(num_iters):\n",
        "        # Calcula la hipótesis\n",
        "        h = np.dot(X, theta)\n",
        "\n",
        "        # Actualiza los parámetros theta excluyendo el término de intercepción (theta_0)\n",
        "        theta[1:] = theta[1:] - (alpha / m) * ((h - y).dot(X[:, 1:]) + lambda_reg * theta[1:])\n",
        "\n",
        "        # Actualiza el término de intercepción (theta_0) sin regularización\n",
        "        theta[0] = theta[0] - (alpha / m) * np.sum(h - y)\n",
        "\n",
        "        # Calcula el costo regularizado y lo agrega al historial\n",
        "        J_history.append(computeCostMultiReg(X, y, theta, lambda_reg))\n",
        "\n",
        "    return theta, J_history"
      ],
      "metadata": {
        "id": "XS7WOC63vqhs"
      },
      "execution_count": 107,
      "outputs": []
    },
    {
      "cell_type": "code",
      "source": [
        "# Elegir algun valor para alpha (probar varias alternativas)\n",
        "alpha = 0.005 # alpha = 0.003\n",
        "num_iters = 5000\n",
        "lambda_reg=500\n",
        "# inicializa theta y ejecuta el descenso por el gradiente\n",
        "thetaR = np.zeros(X_tr.shape[1])\n",
        "thetaR, J_historyR = gradientDescentMultiReg(X_tr, y_tr, thetaR, alpha, num_iters,lambda_reg)\n",
        "\n",
        "# Grafica la convergencia del costo\n",
        "pyplot.plot(np.arange(len(J_historyR)), J_historyR, lw=2)\n",
        "pyplot.xlabel('Numero de iteraciones')\n",
        "pyplot.ylabel('Costo J')\n",
        "\n",
        "# Muestra los resultados del descenso por el gradiente\n",
        "print('theta calculado por el descenso por el gradiente con regularizacion: {:s}'.format(str(thetaR)))"
      ],
      "metadata": {
        "colab": {
          "base_uri": "https://localhost:8080/",
          "height": 587
        },
        "id": "5UNaboDsvugo",
        "outputId": "86318ddd-969d-4201-fee8-2b4292ad7fa1"
      },
      "execution_count": 118,
      "outputs": [
        {
          "output_type": "stream",
          "name": "stdout",
          "text": [
            "theta calculado por el descenso por el gradiente con regularizacion: [ 2.24670759e+06  3.12947865e+05  3.40136646e+06  3.70988440e+02\n",
            "  3.02957050e+03 -2.92022359e+04 -1.54949625e+04 -2.16647600e+04\n",
            "  3.84199314e+04  2.14935809e+04  6.52452910e+04 -7.16702308e+04\n",
            "  3.36090313e+04  3.84865564e+03 -2.03211725e+04 -4.50274642e+04\n",
            " -5.23571572e+04 -3.53458855e+03 -2.14271139e+04 -4.72098708e+04\n",
            "  9.42883909e+04 -1.58041098e+04 -1.09775894e+04 -1.89062693e+04\n",
            " -2.20969199e+04  2.02121421e+04]\n"
          ]
        },
        {
          "output_type": "display_data",
          "data": {
            "text/plain": [
              "<Figure size 640x480 with 1 Axes>"
            ],
            "image/png": "[encoded data removed]"
          },
          "metadata": {}
        }
      ]
    },
    {
      "cell_type": "code",
      "source": [
        "X_tst = X_test.values\n",
        "y_tst= y_test.values"
      ],
      "metadata": {
        "id": "Fb4tF9p_w6T1"
      },
      "execution_count": 119,
      "outputs": []
    },
    {
      "cell_type": "code",
      "source": [
        "X_tstNorm = (X_tst - mu) / sigma"
      ],
      "metadata": {
        "id": "tGZfoCs3xAqu"
      },
      "execution_count": 120,
      "outputs": []
    },
    {
      "cell_type": "code",
      "source": [
        "print(X_tstNorm)"
      ],
      "metadata": {
        "colab": {
          "base_uri": "https://localhost:8080/"
        },
        "id": "j51WGF4CxKNN",
        "outputId": "1c2b78a1-e37a-4643-d5b9-f8a4968bec8a"
      },
      "execution_count": 121,
      "outputs": [
        {
          "output_type": "stream",
          "name": "stdout",
          "text": [
            "[[ 0.59215327 -0.29874808  1.34407593 ... -0.65391216  1.39871028\n",
            "   0.77296415]\n",
            " [ 0.36916691  0.17397036  0.2969742  ...  0.0520134  -1.01318442\n",
            "  -1.03180022]\n",
            " [-0.9687512  -0.45651013 -1.26341269 ...  0.40497619 -1.01318442\n",
            "  -1.03180022]\n",
            " ...\n",
            " [-1.63771026 -0.59219814 -0.42162502 ... -0.30094938 -0.20921952\n",
            "  -0.30989447]\n",
            " [ 1.70708503  2.15889808 -1.24288128 ... -0.65391216 -0.20921952\n",
            "   1.13391702]\n",
            " [ 1.3726055  -0.55077489 -0.77065893 ...  0.0520134  -0.61120197\n",
            "  -1.21227665]]\n"
          ]
        }
      ]
    },
    {
      "cell_type": "code",
      "source": [
        "X_tst1Sesgo = np.concatenate([np.ones((y_tst.shape[0], 1)), X_tstNorm], axis=1)\n",
        "print(X_tst1Sesgo[:5])"
      ],
      "metadata": {
        "colab": {
          "base_uri": "https://localhost:8080/"
        },
        "id": "hgdGwSIsxzvo",
        "outputId": "736a1596-52c0-44d7-eeba-c1c622890e11"
      },
      "execution_count": 122,
      "outputs": [
        {
          "output_type": "stream",
          "name": "stdout",
          "text": [
            "[[ 1.          0.59215327 -0.29874808  1.34407593  1.39549021  0.14768595\n",
            "  -0.59610029 -0.13302512 -0.51636476  1.24691318  1.3781021   1.98727334\n",
            "   1.42034426  2.18862148  1.46913537  1.56134075  2.25887916  0.01573234\n",
            "  -0.76951909  1.33917113  2.02262385  0.65289649  2.20070966 -0.65391216\n",
            "   1.39871028  0.77296415]\n",
            " [ 1.          0.36916691  0.17397036  0.2969742   0.42010286 -0.30229973\n",
            "   1.86284446  0.40707484  1.26810838 -1.44285593 -1.21180401 -0.90797727\n",
            "  -0.98847515 -0.86185903 -0.7526481  -0.70591166 -1.03079744 -0.50917399\n",
            "  -0.76951909 -1.06276589 -1.24920136 -0.62241964 -0.80917172  0.0520134\n",
            "  -1.01318442 -1.03180022]\n",
            " [ 1.         -0.9687512  -0.45651013 -1.26341269 -1.28190476 -0.81978326\n",
            "  -0.70934117 -0.67312508 -0.69783661 -1.29460094 -1.24842895 -1.06882453\n",
            "  -1.27396486 -1.28553688 -0.30829141 -0.91202551 -1.19049048 -0.50917399\n",
            "  -0.15341167 -0.81850111 -1.06450155 -0.62241964 -0.20719545  0.40497619\n",
            "  -1.01318442 -1.03180022]\n",
            " [ 1.          0.92663279  3.40099261 -1.55085238 -1.5928636  -0.93227968\n",
            "  -0.70934117 -1.03319171 -0.69783661  0.18794897  0.46771086  0.60398693\n",
            "   0.61740445  0.07023224 -0.30829141  0.6338284   0.3745013  -0.40419272\n",
            "  -0.46146538 -0.41139314  0.070083    0.14277004  0.39478083 -0.65391216\n",
            "  -0.61120197  1.67534633]\n",
            " [ 1.          1.59559185 -0.05979042 -0.79119034 -0.76705139 -0.6960372\n",
            "  -0.53139122 -0.31305844 -0.54661007  0.84450678 -0.25955571 -0.55411331\n",
            "  -0.34612331  0.40917452 -0.7526481  -0.80896858 -0.55171832 -0.40419272\n",
            "  -0.15341167 -0.24854995 -0.06184543 -0.11229319 -0.80917172 -0.65391216\n",
            "  -0.61120197  0.0510584 ]]\n"
          ]
        }
      ]
    },
    {
      "cell_type": "code",
      "source": [
        "priceLR = np.dot(X_tst1Sesgo, thetaR)"
      ],
      "metadata": {
        "id": "CoY6mE7zyCCL"
      },
      "execution_count": 123,
      "outputs": []
    },
    {
      "cell_type": "code",
      "source": [
        "print(priceLR[:10])\n",
        "print('-----------')\n",
        "print(y_tst[:10])"
      ],
      "metadata": {
        "colab": {
          "base_uri": "https://localhost:8080/"
        },
        "id": "Qd2JNmsGyL6q",
        "outputId": "1e7fd1a4-9978-4774-bfc0-14f8b60c1848"
      },
      "execution_count": 124,
      "outputs": [
        {
          "output_type": "stream",
          "name": "stdout",
          "text": [
            "[ 1327105.76497648  2964677.03059375   387698.12974967 14193998.4593915\n",
            "  2714055.14236734  1029930.65166838  1298164.09398582  3967770.28799334\n",
            "   572265.95665168   519348.44095266]\n",
            "-----------\n",
            "[ 1300000  2750000   525000 15000000  2500000   850000  1150000  4000000\n",
            "   450000   462500]\n"
          ]
        }
      ]
    },
    {
      "cell_type": "code",
      "source": [
        "from sklearn.metrics import r2_score\n",
        "\n",
        "# Calcula el R-cuadrado\n",
        "r2 = r2_score(y_tst, priceLR)\n",
        "\n",
        "print(\"Coeficiente de determinación (R-cuadrado):\", r2)"
      ],
      "metadata": {
        "colab": {
          "base_uri": "https://localhost:8080/"
        },
        "id": "lEXbXfrC0o4c",
        "outputId": "f7c37e0f-d80d-4d82-8235-a614bf7b5384"
      },
      "execution_count": 126,
      "outputs": [
        {
          "output_type": "stream",
          "name": "stdout",
          "text": [
            "Coeficiente de determinación (R-cuadrado): 0.9801801087173712\n"
          ]
        }
      ]
    }
  ],
  "metadata": {
    "kernelspec": {
      "display_name": "Python 3",
      "language": "python",
      "name": "python3"
    },
    "language_info": {
      "codemirror_mode": {
        "name": "ipython",
        "version": 3
      },
      "file_extension": ".py",
      "mimetype": "text/x-python",
      "name": "python",
      "nbconvert_exporter": "python",
      "pygments_lexer": "ipython3",
      "version": "3.8.5"
    },
    "colab": {
      "provenance": [],
      "include_colab_link": true
    }
  },
  "nbformat": 4,
  "nbformat_minor": 0
}