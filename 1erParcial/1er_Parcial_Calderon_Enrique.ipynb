{
  "cells": [
    {
      "cell_type": "markdown",
      "metadata": {
        "id": "view-in-github",
        "colab_type": "text"
      },
      "source": [
        "<a href=\"https://colab.research.google.com/github/antoniocfetngnu/InteligArtificial1/blob/main/1erParcial/1er_Parcial_Calderon_Enrique.ipynb\" target=\"_parent\"><img src=\"https://colab.research.google.com/assets/colab-badge.svg\" alt=\"Open In Colab\"/></a>"
      ]
    },
    {
      "cell_type": "markdown",
      "source": [
        "# Primer Parcial Inteligencia Artificial I\n",
        "## Nombre: Calderon Flores Enrique Antonio\n",
        "## Carrera: Ing. En Ciencias de la Computación\n"
      ],
      "metadata": {
        "id": "WOtVpqaEXKKG"
      }
    },
    {
      "cell_type": "markdown",
      "source": [
        "# 1er Dataset: 10. Android Malware (Detection)\n",
        "\n",
        "El dataset utilizado para la detección de malware en Android contiene información sobre diferentes aplicaciones para dispositivos Android. Cada instancia en el dataset representa una aplicación y está etiquetada como maliciosa o no maliciosa. Las características del dataset incluyen detalles como los permisos solicitados por la aplicación, las llamadas a la API realizadas, la actividad de red asociada con la aplicación, entre otros. Estos datos son utilizados para entrenar modelos de aprendizaje automático que pueden predecir si una nueva aplicación es maliciosa o no, basándose en patrones identificados en el comportamiento de las aplicaciones etiquetadas previamente."
      ],
      "metadata": {
        "id": "e7G4pke97bX9"
      }
    },
    {
      "cell_type": "markdown",
      "metadata": {
        "id": "xTjmiqnfSxgG"
      },
      "source": [
        "## Elección de modelo: Clasificación multiclase OneVsAll\n",
        "Analizando el dataset se puede concluir claramente que se quiere realizar una clasificación múltiple entre distintos tiposs de malware o si la aplicación es benigna. Ya que se tiene 4 categorías discretas, se debe emplear una clasifiación.\n",
        "\n",
        "###Importacion de librerías\n",
        "\n",
        "Primero importamos todas las librerías que necesitamos"
      ]
    },
    {
      "cell_type": "code",
      "execution_count": 140,
      "metadata": {
        "id": "20Q29kX8SxgJ"
      },
      "outputs": [],
      "source": [
        "import pandas as pd\n",
        "import numpy as np\n",
        "from scipy import optimize\n",
        "from sklearn.preprocessing import StandardScaler\n",
        "from sklearn.model_selection import train_test_split\n",
        "from sklearn.metrics import accuracy_score\n",
        "import random"
      ]
    },
    {
      "cell_type": "markdown",
      "source": [
        "Ahora importamos el dataset como dataframe de pandas"
      ],
      "metadata": {
        "id": "3Djzos60vbEa"
      }
    },
    {
      "cell_type": "code",
      "source": [
        "from google.colab import drive\n",
        "drive.mount('/content/drive')"
      ],
      "metadata": {
        "id": "JR9T_5roTXZz",
        "colab": {
          "base_uri": "https://localhost:8080/"
        },
        "outputId": "133279b4-f2b5-4dc8-bccf-0802335d229b"
      },
      "execution_count": 141,
      "outputs": [
        {
          "output_type": "stream",
          "name": "stdout",
          "text": [
            "Drive already mounted at /content/drive; to attempt to forcibly remount, call drive.mount(\"/content/drive\", force_remount=True).\n"
          ]
        }
      ]
    },
    {
      "cell_type": "code",
      "source": [
        "df = pd.read_csv('/content/drive/MyDrive/Colab Notebooks/Datasets/1erParcial/Android_Malware.csv')"
      ],
      "metadata": {
        "colab": {
          "base_uri": "https://localhost:8080/"
        },
        "id": "QnygD5PYKWNs",
        "outputId": "604238cb-d779-470b-c1a6-15d2d2b9d3f7"
      },
      "execution_count": 142,
      "outputs": [
        {
          "output_type": "stream",
          "name": "stderr",
          "text": [
            "<ipython-input-142-53fa28e28e49>:1: DtypeWarning: Columns (56,58,63) have mixed types. Specify dtype option on import or set low_memory=False.\n",
            "  df = pd.read_csv('/content/drive/MyDrive/Colab Notebooks/Datasets/1erParcial/Android_Malware.csv')\n"
          ]
        }
      ]
    },
    {
      "cell_type": "code",
      "source": [
        "df = pd.read_csv('/content/drive/MyDrive/Colab Notebooks/Datasets/1erParcial/Android_Malware.csv',index_col=0, low_memory=False)\n",
        "pd.set_option('display.max_columns', None)\n",
        "print(df.describe())"
      ],
      "metadata": {
        "colab": {
          "base_uri": "https://localhost:8080/"
        },
        "id": "Rd6nPzJ80bhr",
        "outputId": "0d1f05e9-e78b-492d-890b-1fecaab09620"
      },
      "execution_count": 143,
      "outputs": [
        {
          "output_type": "stream",
          "name": "stdout",
          "text": [
            "        Source Port   Destination Port       Protocol   Flow Duration  \\\n",
            "count  3.556300e+05       3.556300e+05  355630.000000    3.556300e+05   \n",
            "mean   3.914129e+04       5.202541e+03       9.765190    1.092975e+07   \n",
            "std    1.794632e+04       1.452135e+04     750.541237    2.180861e+07   \n",
            "min    0.000000e+00       0.000000e+00       0.000000   -1.000000e+00   \n",
            "25%    3.455900e+04       8.000000e+01       6.000000    4.888600e+04   \n",
            "50%    4.322600e+04       4.430000e+02       6.000000    5.602255e+05   \n",
            "75%    5.228300e+04       4.430000e+02       6.000000    1.076907e+07   \n",
            "max    1.045267e+06       1.328159e+06  442719.666667    1.199999e+08   \n",
            "\n",
            "        Total Fwd Packets   Total Backward Packets  \\\n",
            "count       355630.000000             3.556300e+05   \n",
            "mean             7.433718             1.420368e+01   \n",
            "std             81.015658             2.220247e+03   \n",
            "min              0.000000             0.000000e+00   \n",
            "25%              1.000000             0.000000e+00   \n",
            "50%              2.000000             1.000000e+00   \n",
            "75%              5.000000             4.000000e+00   \n",
            "max          27165.000000             1.319105e+06   \n",
            "\n",
            "       Total Length of Fwd Packets   Total Length of Bwd Packets  \\\n",
            "count                 3.556300e+05                  3.556300e+05   \n",
            "mean                  6.796042e+02                  1.129508e+04   \n",
            "std                   1.942007e+04                  2.763871e+05   \n",
            "min                   0.000000e+00                  0.000000e+00   \n",
            "25%                   0.000000e+00                  0.000000e+00   \n",
            "50%                   3.100000e+01                  2.600000e+01   \n",
            "75%                   4.300000e+02                  3.010000e+02   \n",
            "max                   9.043781e+06                  8.050972e+07   \n",
            "\n",
            "        Fwd Packet Length Max   Fwd Packet Length Min  \\\n",
            "count            3.556300e+05           355630.000000   \n",
            "mean             2.150150e+02               12.520248   \n",
            "std              1.834912e+03               58.296263   \n",
            "min              0.000000e+00                0.000000   \n",
            "25%              0.000000e+00                0.000000   \n",
            "50%              3.100000e+01                0.000000   \n",
            "75%              3.430000e+02               17.000000   \n",
            "max              1.072354e+06             1460.000000   \n",
            "\n",
            "        Fwd Packet Length Mean   Fwd Packet Length Std  Bwd Packet Length Max  \\\n",
            "count            355630.000000           355630.000000          355630.000000   \n",
            "mean                 59.643539               79.525507             320.407568   \n",
            "std                 119.309000              154.228290             540.178699   \n",
            "min                   0.000000                0.000000               0.000000   \n",
            "25%                   0.000000                0.000000               0.000000   \n",
            "50%                  28.500000                0.000000              26.000000   \n",
            "75%                  54.250000               99.136270             238.750000   \n",
            "max                1460.000000             1032.375901            1460.000000   \n",
            "\n",
            "        Bwd Packet Length Min   Bwd Packet Length Mean  \\\n",
            "count           355630.000000            355630.000000   \n",
            "mean                23.058444               168.537728   \n",
            "std                 59.010184               311.332303   \n",
            "min                  0.000000                 0.000000   \n",
            "25%                  0.000000                 0.000000   \n",
            "50%                  0.000000                15.500000   \n",
            "75%                  0.000000               150.750000   \n",
            "max               1460.000000              1460.000000   \n",
            "\n",
            "        Bwd Packet Length Std  Flow Bytes/s   Flow Packets/s   Flow IAT Mean  \\\n",
            "count           355630.000000  3.556300e+05     3.556300e+05    3.556300e+05   \n",
            "mean               124.385048  8.398908e+04     5.494580e+03    3.175805e+06   \n",
            "std                585.875853  9.112698e+05     3.913503e+04    8.459869e+06   \n",
            "min                  0.000000  0.000000e+00    -2.000000e+06   -1.000000e+00   \n",
            "25%                  0.000000  0.000000e+00     6.318762e-01    2.457425e+04   \n",
            "50%                  0.000000  8.986458e+01     7.758975e+00    2.305935e+05   \n",
            "75%                 99.574634  2.373444e+03     6.327312e+01    2.127172e+06   \n",
            "max             321545.139706  1.705000e+08     2.000000e+06    1.199514e+08   \n",
            "\n",
            "        Flow IAT Std   Flow IAT Max   Flow IAT Min  Fwd IAT Total  \\\n",
            "count   3.556300e+05   3.556300e+05   3.556300e+05   3.556300e+05   \n",
            "mean    2.426805e+06   9.448524e+06   2.057882e+06   7.539937e+06   \n",
            "std     6.202456e+06   1.829193e+07   7.922416e+06   1.843187e+07   \n",
            "min     0.000000e+00  -1.000000e+00  -4.300000e+01   0.000000e+00   \n",
            "25%     0.000000e+00   4.202525e+04   4.000000e+01   0.000000e+00   \n",
            "50%     0.000000e+00   3.511780e+05   3.502000e+03   2.544285e+05   \n",
            "75%     1.534637e+06   1.003828e+07   1.644530e+05   5.399800e+06   \n",
            "max     8.447404e+07   1.199514e+08   1.199514e+08   1.199999e+08   \n",
            "\n",
            "        Fwd IAT Mean   Fwd IAT Std   Fwd IAT Max   Fwd IAT Min  Bwd IAT Total  \\\n",
            "count   3.556300e+05  3.556300e+05  3.556300e+05  3.556300e+05   3.556300e+05   \n",
            "mean    3.206486e+06  1.934125e+06  6.253269e+06  2.079831e+06   5.632427e+06   \n",
            "std     8.859162e+06  6.110693e+06  1.447375e+07  8.166472e+06   1.816008e+07   \n",
            "min     0.000000e+00  0.000000e+00  0.000000e+00  0.000000e+00   0.000000e+00   \n",
            "25%     0.000000e+00  0.000000e+00  0.000000e+00  0.000000e+00   0.000000e+00   \n",
            "50%     4.528030e+04  0.000000e+00  1.283895e+05  9.300000e+01   0.000000e+00   \n",
            "75%     1.842099e+06  1.809952e+05  4.536104e+06  4.263050e+04   2.624452e+05   \n",
            "max     1.199514e+08  8.478313e+07  1.199514e+08  1.199514e+08   1.199838e+08   \n",
            "\n",
            "        Bwd IAT Mean   Bwd IAT Std   Bwd IAT Max   Bwd IAT Min  Fwd PSH Flags  \\\n",
            "count   3.556300e+05  3.556300e+05  3.556300e+05  3.556300e+05  355630.000000   \n",
            "mean    9.461561e+05  1.407295e+06  4.709261e+06  3.426198e+05       0.067356   \n",
            "std     4.583215e+06  5.227275e+06  1.517925e+07  3.750278e+06       1.167848   \n",
            "min     0.000000e+00  0.000000e+00  0.000000e+00  0.000000e+00       0.000000   \n",
            "25%     0.000000e+00  0.000000e+00  0.000000e+00  0.000000e+00       0.000000   \n",
            "50%     0.000000e+00  0.000000e+00  0.000000e+00  0.000000e+00       0.000000   \n",
            "75%     4.186954e+04  4.414090e+04  1.498700e+05  6.000000e+00       0.000000   \n",
            "max     1.192258e+08  8.467014e+07  1.198520e+08  1.192258e+08     680.714286   \n",
            "\n",
            "        Bwd PSH Flags   Fwd URG Flags   Bwd URG Flags   Fwd Header Length  \\\n",
            "count   355630.000000   355630.000000   355630.000000        3.556300e+05   \n",
            "mean         0.000541        0.002463        0.000337       -7.601258e+05   \n",
            "std          0.322799        1.468943        0.188289        2.090455e+08   \n",
            "min          0.000000        0.000000        0.000000       -7.533332e+10   \n",
            "25%          0.000000        0.000000        0.000000        3.200000e+01   \n",
            "50%          0.000000        0.000000        0.000000        6.000000e+01   \n",
            "75%          0.000000        0.000000        0.000000        1.360000e+02   \n",
            "max        192.500000      876.000000      112.000000        1.858721e+10   \n",
            "\n",
            "        Bwd Header Length  Fwd Packets/s   Bwd Packets/s   Min Packet Length  \\\n",
            "count        3.556300e+05   3.556300e+05   355629.000000       355629.000000   \n",
            "mean        -1.580857e+06   4.685509e+03      814.880376            8.506264   \n",
            "std          4.385654e+08   3.625912e+04     8590.913666           58.917594   \n",
            "min         -1.436913e+11   0.000000e+00        0.000000            0.000000   \n",
            "25%          0.000000e+00   4.093266e-01        0.000000            0.000000   \n",
            "50%          3.200000e+01   3.947342e+00        0.884223            0.000000   \n",
            "75%          1.120000e+02   3.198260e+01       16.817463            0.000000   \n",
            "max          3.546917e+10   2.000000e+06   500000.000000        32762.000000   \n",
            "\n",
            "        Max Packet Length   Packet Length Mean   Packet Length Std  \\\n",
            "count       355629.000000        355629.000000       355629.000000   \n",
            "mean           374.613656           115.158037          144.897877   \n",
            "std            563.916123           193.966724          224.701001   \n",
            "min             -1.000000            -1.000000            0.000000   \n",
            "25%              0.000000             0.000000            0.000000   \n",
            "50%             45.000000            35.333333           15.500000   \n",
            "75%            549.000000           124.666667          216.526898   \n",
            "max           1460.000000          1373.111111          842.931393   \n",
            "\n",
            "        Packet Length Variance  FIN Flag Count   SYN Flag Count  \\\n",
            "count            355629.000000   355629.000000    355629.000000   \n",
            "mean              71484.125420        0.041301         0.249721   \n",
            "std              137221.726917       14.689980       109.894355   \n",
            "min                   0.000000        0.000000         0.000000   \n",
            "25%                   0.000000        0.000000         0.000000   \n",
            "50%                 240.250000        0.000000         0.000000   \n",
            "75%               46856.028450        0.000000         0.000000   \n",
            "max              710533.333333     8760.000000     65535.000000   \n",
            "\n",
            "        RST Flag Count   PSH Flag Count   ACK Flag Count   URG Flag Count  \\\n",
            "count    355629.000000    355629.000000    355629.000000    355629.000000   \n",
            "mean          0.000357         0.331337         0.431017         0.204120   \n",
            "std           0.212963         0.470695         0.496297         0.403058   \n",
            "min           0.000000         0.000000         0.000000         0.000000   \n",
            "25%           0.000000         0.000000         0.000000         0.000000   \n",
            "50%           0.000000         0.000000         0.000000         0.000000   \n",
            "75%           0.000000         1.000000         1.000000         0.000000   \n",
            "max         127.000000         1.000000        20.000000         1.000000   \n",
            "\n",
            "        ECE Flag Count   Average Packet Size   Avg Fwd Segment Size  \\\n",
            "count         355628.0         355627.000000          355627.000000   \n",
            "mean               0.0            127.433046              59.643950   \n",
            "std                0.0            199.981350             119.309412   \n",
            "min                0.0              0.000000               0.000000   \n",
            "25%                0.0              0.000000               0.000000   \n",
            "50%                0.0             50.000000              28.500000   \n",
            "75%                0.0            155.078462              54.250000   \n",
            "max                0.0           1812.000000            1460.000000   \n",
            "\n",
            "        Avg Bwd Segment Size   Fwd Header Length.1   Fwd Avg Packets/Bulk  \\\n",
            "count          355627.000000          3.556270e+05               355626.0   \n",
            "mean              168.536774         -7.601322e+05                    0.0   \n",
            "std               311.332884          2.090464e+08                    0.0   \n",
            "min                 0.000000         -7.533332e+10                    0.0   \n",
            "25%                 0.000000          3.200000e+01                    0.0   \n",
            "50%                15.500000          6.000000e+01                    0.0   \n",
            "75%               150.750000          1.360000e+02                    0.0   \n",
            "max              1460.000000          1.858721e+10                    0.0   \n",
            "\n",
            "        Fwd Avg Bulk Rate   Bwd Avg Bytes/Bulk   Bwd Avg Packets/Bulk  \\\n",
            "count            355626.0             355626.0               355626.0   \n",
            "mean                  0.0                  0.0                    0.0   \n",
            "std                   0.0                  0.0                    0.0   \n",
            "min                   0.0                  0.0                    0.0   \n",
            "25%                   0.0                  0.0                    0.0   \n",
            "50%                   0.0                  0.0                    0.0   \n",
            "75%                   0.0                  0.0                    0.0   \n",
            "max                   0.0                  0.0                    0.0   \n",
            "\n",
            "       Bwd Avg Bulk Rate  Subflow Fwd Packets   Subflow Fwd Bytes  \\\n",
            "count           355626.0        355626.000000        3.556260e+05   \n",
            "mean                 0.0             7.357412        6.791997e+02   \n",
            "std                  0.0            67.005199        1.941864e+04   \n",
            "min                  0.0             1.000000        0.000000e+00   \n",
            "25%                  0.0             1.000000        0.000000e+00   \n",
            "50%                  0.0             2.000000        3.100000e+01   \n",
            "75%                  0.0             5.000000        4.300000e+02   \n",
            "max                  0.0         17877.000000        9.043781e+06   \n",
            "\n",
            "        Subflow Bwd Packets   Subflow Bwd Bytes  Init_Win_bytes_forward  \\\n",
            "count         355626.000000        3.556260e+05           355626.000000   \n",
            "mean              10.494593        1.129421e+04            23386.883271   \n",
            "std              191.679025        2.763881e+05            30744.982569   \n",
            "min                0.000000        0.000000e+00               -1.000000   \n",
            "25%                0.000000        0.000000e+00               31.000000   \n",
            "50%                1.000000        2.600000e+01             1505.000000   \n",
            "75%                4.000000        3.010000e+02            65535.000000   \n",
            "max            55652.000000        8.050972e+07            65535.000000   \n",
            "\n",
            "        Init_Win_bytes_backward   act_data_pkt_fwd   min_seg_size_forward  \\\n",
            "count             355626.000000      355626.000000           3.556260e+05   \n",
            "mean                2032.585548           1.524405          -2.831850e+04   \n",
            "std                 8532.735513          14.938322           5.543875e+06   \n",
            "min                   -1.000000           0.000000          -1.395063e+09   \n",
            "25%                   -1.000000           0.000000           2.000000e+01   \n",
            "50%                   -1.000000           0.000000           3.200000e+01   \n",
            "75%                  349.000000           1.000000           3.200000e+01   \n",
            "max                65535.000000        6335.000000           1.705248e+08   \n",
            "\n",
            "        Active Mean    Active Std    Active Max    Active Min     Idle Mean  \\\n",
            "count  3.556260e+05  3.556260e+05  3.556260e+05  3.556260e+05  3.556260e+05   \n",
            "mean   1.628143e+05  2.195225e+04  1.851564e+05  1.456534e+05  4.025724e+06   \n",
            "std    8.817765e+05  2.860244e+05  1.019477e+06  8.423659e+05  1.441518e+07   \n",
            "min    0.000000e+00  0.000000e+00  0.000000e+00  0.000000e+00  0.000000e+00   \n",
            "25%    0.000000e+00  0.000000e+00  0.000000e+00  0.000000e+00  0.000000e+00   \n",
            "50%    0.000000e+00  0.000000e+00  0.000000e+00  0.000000e+00  0.000000e+00   \n",
            "75%    0.000000e+00  0.000000e+00  0.000000e+00  0.000000e+00  0.000000e+00   \n",
            "max    9.718488e+07  4.020815e+07  9.718488e+07  9.718488e+07  1.199514e+08   \n",
            "\n",
            "           Idle Std      Idle Max      Idle Min  \n",
            "count  3.556260e+05  3.556260e+05  3.556260e+05  \n",
            "mean   3.182527e+05  4.304876e+06  3.779037e+06  \n",
            "std    2.882901e+06  1.514008e+07  1.407042e+07  \n",
            "min    0.000000e+00  0.000000e+00  0.000000e+00  \n",
            "25%    0.000000e+00  0.000000e+00  0.000000e+00  \n",
            "50%    0.000000e+00  0.000000e+00  0.000000e+00  \n",
            "75%    0.000000e+00  0.000000e+00  0.000000e+00  \n",
            "max    7.737303e+07  1.199514e+08  1.199514e+08  \n"
          ]
        }
      ]
    },
    {
      "cell_type": "markdown",
      "source": [
        "Reemplazo de espacios en blanco por guiones bajos en nombre de columnas para evitar errores."
      ],
      "metadata": {
        "id": "1-OjUY4B1urY"
      }
    },
    {
      "cell_type": "code",
      "source": [
        "df.columns = df.columns.str.replace(' ', '_')"
      ],
      "metadata": {
        "id": "XR48yEto1rtd"
      },
      "execution_count": 144,
      "outputs": []
    },
    {
      "cell_type": "markdown",
      "source": [
        "## Preprocesado y Optimización\n",
        "Se incluyó low_memory= False como parámetro en la importación del Dataset ya que nos indicaba que hay columnas que tienen más de un tipo de dato.\n",
        "\n",
        "Columas con problemas (multiples datos) ['Flow_ID', '_CWE_Flag_Count', '_Down/Up_Ratio', 'Fwd_Avg_Bytes/Bulk']"
      ],
      "metadata": {
        "id": "v93DcOHAvmoR"
      }
    },
    {
      "cell_type": "code",
      "execution_count": 145,
      "metadata": {
        "id": "hhRjL2ptSxgK",
        "colab": {
          "base_uri": "https://localhost:8080/"
        },
        "outputId": "980f04dd-a3ec-4904-db5e-ac5c38b70e1b"
      },
      "outputs": [
        {
          "output_type": "stream",
          "name": "stdout",
          "text": [
            "Columnas con tipos de datos mixtos:\n",
            "['Flow_ID', '_CWE_Flag_Count', '_Down/Up_Ratio', 'Fwd_Avg_Bytes/Bulk']\n"
          ]
        }
      ],
      "source": [
        "# Obtiene información sobre los tipos de datos de cada columna\n",
        "column_types = df.dtypes\n",
        "\n",
        "# Inicializa una lista para almacenar las columnas con tipos de datos mixtos\n",
        "mixed_type_columns = []\n",
        "\n",
        "# Itera sobre las columnas y verifica si cada una tiene más de un tipo de dato\n",
        "for column in column_types.index:\n",
        "    unique_types = df[column].apply(type).unique()\n",
        "    if len(unique_types) > 1:\n",
        "        mixed_type_columns.append(column)\n",
        "\n",
        "# Imprime las columnas con tipos de datos mixtos\n",
        "print(\"Columnas con tipos de datos mixtos:\")\n",
        "print(mixed_type_columns)"
      ]
    },
    {
      "cell_type": "markdown",
      "source": [
        "###Eliminación de valores nulos NAN de dataset"
      ],
      "metadata": {
        "id": "tfEJGcc1yWFQ"
      }
    },
    {
      "cell_type": "code",
      "source": [
        "df = df.dropna()"
      ],
      "metadata": {
        "id": "bDNmvKfPtpMX"
      },
      "execution_count": 146,
      "outputs": []
    },
    {
      "cell_type": "markdown",
      "source": [
        "###Eliminación de columnas de ID o relacionadas\n",
        "Debido a que sus valores son únicos y no indican una escala de valores que tenga una relación ordinal o incremental"
      ],
      "metadata": {
        "id": "UnX6mofG28uc"
      }
    },
    {
      "cell_type": "code",
      "source": [
        "df = df.drop('Flow_ID', axis=1)\n",
        "df = df.drop('_Source_IP', axis=1)\n",
        "df = df.drop('_Destination_IP', axis=1)"
      ],
      "metadata": {
        "id": "8jHz7nyu3PLZ"
      },
      "execution_count": 147,
      "outputs": []
    },
    {
      "cell_type": "markdown",
      "source": [
        "### Preprocesamiento de Columna con valores de fecha y hora (TimeStamp)\n",
        "Se extrae valores considerados útiles para el modelo. Se excluyó año ya que toda la información cuenta con el mismo valor para año."
      ],
      "metadata": {
        "id": "QBVA_JqOyyqt"
      }
    },
    {
      "cell_type": "code",
      "source": [
        "df['_Timestamp'] = pd.to_datetime(df['_Timestamp'], dayfirst=True)\n",
        "df['Month'] = df['_Timestamp'].dt.month\n",
        "df['Day'] = df['_Timestamp'].dt.day\n",
        "df['Hour'] = df['_Timestamp'].dt.hour\n",
        "df['Minute'] = df['_Timestamp'].dt.minute\n",
        "df = df.drop('_Timestamp', axis=1)"
      ],
      "metadata": {
        "id": "ojM-o4h1tpZM"
      },
      "execution_count": 148,
      "outputs": []
    },
    {
      "cell_type": "markdown",
      "source": [
        "###Comprobación de múltiples tipos de datos en columnas señaladas (advertencia previa)"
      ],
      "metadata": {
        "id": "v2R2ZQ_M3wAr"
      }
    },
    {
      "cell_type": "code",
      "source": [
        "frecuencia1 = df['_CWE_Flag_Count'].value_counts()\n",
        "print(\"Frecuencia de valores en la columna '_CWE_Flag_Count':\")\n",
        "print(frecuencia1)\n",
        "print(\"----------------------\")\n",
        "frecuencia2 = df['_Down/Up_Ratio'].value_counts()\n",
        "print(\"Frecuencia de valores en la columna '_Down/Up_Ratio':\")\n",
        "print(frecuencia2)\n",
        "print(\"----------------------\")\n",
        "frecuencia3 = df['Fwd_Avg_Bytes/Bulk'].value_counts()\n",
        "print(\"Frecuencia de valores en la columna 'Fwd_Avg_Bytes/Bulk':\")\n",
        "print(frecuencia3)\n",
        "print(\"----------------------\")"
      ],
      "metadata": {
        "colab": {
          "base_uri": "https://localhost:8080/"
        },
        "id": "bDFvU4NI3-zz",
        "outputId": "f09c5740-edf3-4e45-9090-a93094215076"
      },
      "execution_count": 149,
      "outputs": [
        {
          "output_type": "stream",
          "name": "stdout",
          "text": [
            "Frecuencia de valores en la columna '_CWE_Flag_Count':\n",
            "_CWE_Flag_Count\n",
            "0      352461\n",
            "0.0      3165\n",
            "Name: count, dtype: int64\n",
            "----------------------\n",
            "Frecuencia de valores en la columna '_Down/Up_Ratio':\n",
            "_Down/Up_Ratio\n",
            "0.0     154385\n",
            "1.0     151914\n",
            "0        20399\n",
            "1        16749\n",
            "2.0       7858\n",
            "3.0       1993\n",
            "2         1121\n",
            "4.0        436\n",
            "3          377\n",
            "5.0        123\n",
            "4           79\n",
            "6.0         42\n",
            "8.0         36\n",
            "7.0         31\n",
            "5           23\n",
            "12.0        12\n",
            "6           12\n",
            "8            8\n",
            "10.0         7\n",
            "9.0          7\n",
            "11.0         5\n",
            "7            4\n",
            "11           2\n",
            "9            1\n",
            "12           1\n",
            "75.0         1\n",
            "Name: count, dtype: int64\n",
            "----------------------\n",
            "Frecuencia de valores en la columna 'Fwd_Avg_Bytes/Bulk':\n",
            "Fwd_Avg_Bytes/Bulk\n",
            "0      288232\n",
            "0.0     67394\n",
            "Name: count, dtype: int64\n",
            "----------------------\n"
          ]
        }
      ]
    },
    {
      "cell_type": "markdown",
      "source": [
        "###Conversión a un mismo tipo de dato y comprobación de resultado."
      ],
      "metadata": {
        "id": "xQoR-m1_4gNk"
      }
    },
    {
      "cell_type": "code",
      "source": [
        "df['_Down/Up_Ratio'] = df['_Down/Up_Ratio'].astype(float)\n",
        "df['Fwd_Avg_Bytes/Bulk'] = df['Fwd_Avg_Bytes/Bulk'].astype(float)\n",
        "df['_CWE_Flag_Count'] = df['_CWE_Flag_Count'].astype(float)\n",
        "\n",
        "frecuencia1 = df['_CWE_Flag_Count'].value_counts()\n",
        "print(\"Frecuencia de valores en la columna '_CWE_Flag_Count':\")\n",
        "print(frecuencia1)\n",
        "print(\"----------------------\")\n",
        "frecuencia2 = df['_Down/Up_Ratio'].value_counts()\n",
        "print(\"Frecuencia de valores en la columna '_Down/Up_Ratio':\")\n",
        "print(frecuencia2)\n",
        "print(\"----------------------\")\n",
        "frecuencia3 = df['Fwd_Avg_Bytes/Bulk'].value_counts()\n",
        "print(\"Frecuencia de valores en la columna 'Fwd_Avg_Bytes/Bulk':\")\n",
        "print(frecuencia3)\n",
        "print(\"----------------------\")"
      ],
      "metadata": {
        "colab": {
          "base_uri": "https://localhost:8080/"
        },
        "id": "T5t9emRb30eJ",
        "outputId": "a9ec0684-ba22-45fc-a85c-cf4b8387cb36"
      },
      "execution_count": 150,
      "outputs": [
        {
          "output_type": "stream",
          "name": "stdout",
          "text": [
            "Frecuencia de valores en la columna '_CWE_Flag_Count':\n",
            "_CWE_Flag_Count\n",
            "0.0    355626\n",
            "Name: count, dtype: int64\n",
            "----------------------\n",
            "Frecuencia de valores en la columna '_Down/Up_Ratio':\n",
            "_Down/Up_Ratio\n",
            "0.0     174784\n",
            "1.0     168663\n",
            "2.0       8979\n",
            "3.0       2370\n",
            "4.0        515\n",
            "5.0        146\n",
            "6.0         54\n",
            "8.0         44\n",
            "7.0         35\n",
            "12.0        13\n",
            "9.0          8\n",
            "10.0         7\n",
            "11.0         7\n",
            "75.0         1\n",
            "Name: count, dtype: int64\n",
            "----------------------\n",
            "Frecuencia de valores en la columna 'Fwd_Avg_Bytes/Bulk':\n",
            "Fwd_Avg_Bytes/Bulk\n",
            "0.0    355626\n",
            "Name: count, dtype: int64\n",
            "----------------------\n"
          ]
        }
      ]
    },
    {
      "cell_type": "markdown",
      "source": [
        "###Eliminación de columnas que poseen el mismo valor para todas las tuplas (Desviación estandar=0)\n",
        "Al tener el mismo valor no ofrecen nada al modelo, por tanto tendríamos características extras que se procesarían sin ningun beneficio."
      ],
      "metadata": {
        "id": "Uz_lYr_wz_9L"
      }
    },
    {
      "cell_type": "code",
      "source": [
        "columnas_a_eliminar = ['_Bwd_PSH_Flags', '_Fwd_URG_Flags', '_Bwd_URG_Flags',\n",
        "                       'Fwd_Avg_Bytes/Bulk', '_CWE_Flag_Count', '_RST_Flag_Count', '_ECE_Flag_Count',\n",
        "                       '_Fwd_Avg_Packets/Bulk', '_Fwd_Avg_Bulk_Rate', '_Bwd_Avg_Bytes/Bulk',\n",
        "                       '_Bwd_Avg_Packets/Bulk', 'Bwd_Avg_Bulk_Rate']\n",
        "df = df.drop(columnas_a_eliminar, axis=1)"
      ],
      "metadata": {
        "id": "BadGZZeI5Txl"
      },
      "execution_count": 151,
      "outputs": []
    },
    {
      "cell_type": "markdown",
      "source": [
        "###Mapeo de la salida ('label') a valores numéricos.\n",
        "Se mapea desde 0 a 3 (4 categorías en total)."
      ],
      "metadata": {
        "id": "YtwfkDh85TV_"
      }
    },
    {
      "cell_type": "code",
      "source": [
        "mapeo = {'Android_Adware': 0, 'Android_Scareware': 1, 'Android_SMS_Malware': 2, 'Benign': 3}\n",
        "# Aplicar el mapeo a la columna 'Label'\n",
        "df['Label_numerico'] = df['Label'].map(mapeo)\n",
        "\n",
        "frecuencias18 = df['Label_numerico'].value_counts()\n",
        "print(\"Frecuencia de valores en la columna 'Columna9':\")\n",
        "print(frecuencias18)\n",
        "print(\"----------------------\")\n",
        "df = df.drop('Label', axis=1)\n",
        "\n"
      ],
      "metadata": {
        "colab": {
          "base_uri": "https://localhost:8080/"
        },
        "id": "yD2GxzdS5kzZ",
        "outputId": "be880143-991c-49b4-c5cc-684c0db0aaab"
      },
      "execution_count": 152,
      "outputs": [
        {
          "output_type": "stream",
          "name": "stdout",
          "text": [
            "Frecuencia de valores en la columna 'Columna9':\n",
            "Label_numerico\n",
            "0    147443\n",
            "1    117081\n",
            "2     67394\n",
            "3     23708\n",
            "Name: count, dtype: int64\n",
            "----------------------\n"
          ]
        }
      ]
    },
    {
      "cell_type": "code",
      "source": [
        "print(df.describe())\n",
        "num_columnas = df.shape[1]\n",
        "print(f\"El DataFrame tiene {num_columnas} columnas.\")\n",
        "total_nans = df.isna().sum().sum()\n",
        "print(f\"El DataFrame tiene {total_nans} valores NaN en total.\")"
      ],
      "metadata": {
        "colab": {
          "base_uri": "https://localhost:8080/"
        },
        "id": "FtQWA1-D7AeB",
        "outputId": "efa0c5bb-9579-4374-b8c5-78e5582edcc0"
      },
      "execution_count": 153,
      "outputs": [
        {
          "output_type": "stream",
          "name": "stdout",
          "text": [
            "        _Source_Port  _Destination_Port      _Protocol  _Flow_Duration  \\\n",
            "count  355626.000000      355626.000000  355626.000000    3.556260e+05   \n",
            "mean    39138.304382        5198.782415       8.335321    1.092987e+07   \n",
            "std     17866.230855       14350.915363       4.567164    2.180870e+07   \n",
            "min         0.000000           0.000000       0.000000   -1.000000e+00   \n",
            "25%     34559.000000          80.000000       6.000000    4.888625e+04   \n",
            "50%     43226.000000         443.000000       6.000000    5.602320e+05   \n",
            "75%     52283.000000         443.000000       6.000000    1.076925e+07   \n",
            "max     65531.000000       65428.000000      17.000000    1.199999e+08   \n",
            "\n",
            "       _Total_Fwd_Packets  _Total_Backward_Packets  \\\n",
            "count       355626.000000            355626.000000   \n",
            "mean             7.357412                10.494593   \n",
            "std             67.005199               191.679025   \n",
            "min              1.000000                 0.000000   \n",
            "25%              1.000000                 0.000000   \n",
            "50%              2.000000                 1.000000   \n",
            "75%              5.000000                 4.000000   \n",
            "max          17877.000000             55652.000000   \n",
            "\n",
            "       Total_Length_of_Fwd_Packets  _Total_Length_of_Bwd_Packets  \\\n",
            "count                 3.556260e+05                  3.556260e+05   \n",
            "mean                  6.791997e+02                  1.129421e+04   \n",
            "std                   1.941864e+04                  2.763881e+05   \n",
            "min                   0.000000e+00                  0.000000e+00   \n",
            "25%                   0.000000e+00                  0.000000e+00   \n",
            "50%                   3.100000e+01                  2.600000e+01   \n",
            "75%                   4.300000e+02                  3.010000e+02   \n",
            "max                   9.043781e+06                  8.050972e+07   \n",
            "\n",
            "       _Fwd_Packet_Length_Max  _Fwd_Packet_Length_Min  \\\n",
            "count           355626.000000           355626.000000   \n",
            "mean               212.001524               12.520283   \n",
            "std                366.936836               58.296582   \n",
            "min                  0.000000                0.000000   \n",
            "25%                  0.000000                0.000000   \n",
            "50%                 31.000000                0.000000   \n",
            "75%                343.000000               16.750000   \n",
            "max               1460.000000             1460.000000   \n",
            "\n",
            "       _Fwd_Packet_Length_Mean  _Fwd_Packet_Length_Std  Bwd_Packet_Length_Max  \\\n",
            "count            355626.000000           355626.000000          355626.000000   \n",
            "mean                 59.644118               79.526313             320.406978   \n",
            "std                 119.309538              154.228963             540.177605   \n",
            "min                   0.000000                0.000000               0.000000   \n",
            "25%                   0.000000                0.000000               0.000000   \n",
            "50%                  28.500000                0.000000              26.000000   \n",
            "75%                  54.250000               99.136270             238.750000   \n",
            "max                1460.000000             1032.375901            1460.000000   \n",
            "\n",
            "       _Bwd_Packet_Length_Min  _Bwd_Packet_Length_Mean  \\\n",
            "count           355626.000000            355626.000000   \n",
            "mean                23.057701               168.537248   \n",
            "std                 59.008405               311.333194   \n",
            "min                  0.000000                 0.000000   \n",
            "25%                  0.000000                 0.000000   \n",
            "50%                  0.000000                15.500000   \n",
            "75%                  0.000000               150.750000   \n",
            "max               1460.000000              1460.000000   \n",
            "\n",
            "       _Bwd_Packet_Length_Std  Flow_Bytes/s  _Flow_Packets/s  _Flow_IAT_Mean  \\\n",
            "count           355626.000000  3.556260e+05     3.556260e+05    3.556260e+05   \n",
            "mean               123.481423  8.399002e+04     5.494626e+03    3.175841e+06   \n",
            "std                229.667556  9.112749e+05     3.913525e+04    8.459910e+06   \n",
            "min                  0.000000  0.000000e+00    -2.000000e+06   -1.000000e+00   \n",
            "25%                  0.000000  0.000000e+00     6.318762e-01    2.457518e+04   \n",
            "50%                  0.000000  8.987556e+01     7.758975e+00    2.306010e+05   \n",
            "75%                 99.549979  2.373513e+03     6.327312e+01    2.127183e+06   \n",
            "max               1002.677416  1.705000e+08     2.000000e+06    1.199514e+08   \n",
            "\n",
            "       _Flow_IAT_Std  _Flow_IAT_Max  _Flow_IAT_Min  Fwd_IAT_Total  \\\n",
            "count   3.556260e+05   3.556260e+05   3.556260e+05   3.556260e+05   \n",
            "mean    2.426832e+06   9.448630e+06   2.057905e+06   7.540020e+06   \n",
            "std     6.202486e+06   1.829201e+07   7.922457e+06   1.843196e+07   \n",
            "min     0.000000e+00  -1.000000e+00  -4.300000e+01   0.000000e+00   \n",
            "25%     0.000000e+00   4.202950e+04   4.000000e+01   0.000000e+00   \n",
            "50%     0.000000e+00   3.512285e+05   3.502000e+03   2.544330e+05   \n",
            "75%     1.534653e+06   1.003829e+07   1.644655e+05   5.399878e+06   \n",
            "max     8.447404e+07   1.199514e+08   1.199514e+08   1.199999e+08   \n",
            "\n",
            "       _Fwd_IAT_Mean  _Fwd_IAT_Std  _Fwd_IAT_Max  _Fwd_IAT_Min  Bwd_IAT_Total  \\\n",
            "count   3.556260e+05  3.556260e+05  3.556260e+05  3.556260e+05   3.556260e+05   \n",
            "mean    3.206522e+06  1.934147e+06  6.253339e+06  2.079854e+06   5.632490e+06   \n",
            "std     8.859206e+06  6.110724e+06  1.447382e+07  8.166515e+06   1.816018e+07   \n",
            "min     0.000000e+00  0.000000e+00  0.000000e+00  0.000000e+00   0.000000e+00   \n",
            "25%     0.000000e+00  0.000000e+00  0.000000e+00  0.000000e+00   0.000000e+00   \n",
            "50%     4.528250e+04  0.000000e+00  1.283990e+05  9.300000e+01   0.000000e+00   \n",
            "75%     1.842149e+06  1.809968e+05  4.536146e+06  4.263100e+04   2.624470e+05   \n",
            "max     1.199514e+08  8.478313e+07  1.199514e+08  1.199514e+08   1.199838e+08   \n",
            "\n",
            "       _Bwd_IAT_Mean  _Bwd_IAT_Std  _Bwd_IAT_Max  _Bwd_IAT_Min  Fwd_PSH_Flags  \\\n",
            "count   3.556260e+05  3.556260e+05  3.556260e+05  3.556260e+05  355626.000000   \n",
            "mean    9.461668e+05  1.407311e+06  4.709314e+06  3.426236e+05       0.065442   \n",
            "std     4.583240e+06  5.227303e+06  1.517932e+07  3.750299e+06       0.247305   \n",
            "min     0.000000e+00  0.000000e+00  0.000000e+00  0.000000e+00       0.000000   \n",
            "25%     0.000000e+00  0.000000e+00  0.000000e+00  0.000000e+00       0.000000   \n",
            "50%     0.000000e+00  0.000000e+00  0.000000e+00  0.000000e+00       0.000000   \n",
            "75%     4.187293e+04  4.414165e+04  1.498805e+05  6.000000e+00       0.000000   \n",
            "max     1.192258e+08  8.467014e+07  1.198520e+08  1.192258e+08       1.000000   \n",
            "\n",
            "       _Fwd_Header_Length  _Bwd_Header_Length  Fwd_Packets/s  _Bwd_Packets/s  \\\n",
            "count        3.556260e+05        3.556260e+05   3.556260e+05   355626.000000   \n",
            "mean        -7.601343e+05       -1.580875e+06   4.685547e+03      814.702967   \n",
            "std          2.090467e+08        4.385679e+08   3.625932e+04     8590.264143   \n",
            "min         -7.533332e+10       -1.436913e+11   0.000000e+00        0.000000   \n",
            "25%          3.200000e+01        0.000000e+00   4.093266e-01        0.000000   \n",
            "50%          6.000000e+01        3.200000e+01   3.947291e+00        0.884160   \n",
            "75%          1.360000e+02        1.120000e+02   3.198235e+01       16.817322   \n",
            "max          1.858721e+10        3.546917e+10   2.000000e+06   500000.000000   \n",
            "\n",
            "       _Min_Packet_Length  _Max_Packet_Length  _Packet_Length_Mean  \\\n",
            "count       355626.000000       355626.000000        355626.000000   \n",
            "mean             8.413744          374.616814           115.158944   \n",
            "std             21.321284          563.917454           193.967289   \n",
            "min              0.000000            0.000000             0.000000   \n",
            "25%              0.000000            0.000000             0.000000   \n",
            "50%              0.000000           45.000000            35.333333   \n",
            "75%              0.000000          549.000000           124.666667   \n",
            "max           1208.000000         1460.000000          1373.111111   \n",
            "\n",
            "       _Packet_Length_Std  _Packet_Length_Variance  FIN_Flag_Count  \\\n",
            "count       355626.000000            355626.000000   355626.000000   \n",
            "mean           144.896934             71484.728363        0.016669   \n",
            "std            224.699241            137222.148679        0.128029   \n",
            "min              0.000000                 0.000000        0.000000   \n",
            "25%              0.000000                 0.000000        0.000000   \n",
            "50%             15.500000               240.250000        0.000000   \n",
            "75%            216.510807             46876.930189        0.000000   \n",
            "max            842.931393            710533.333333        1.000000   \n",
            "\n",
            "       _SYN_Flag_Count  _PSH_Flag_Count  _ACK_Flag_Count  _URG_Flag_Count  \\\n",
            "count    355626.000000    355626.000000    355626.000000    355626.000000   \n",
            "mean          0.065442         0.331337         0.430964         0.204122   \n",
            "std           0.247305         0.470695         0.495212         0.403059   \n",
            "min           0.000000         0.000000         0.000000         0.000000   \n",
            "25%           0.000000         0.000000         0.000000         0.000000   \n",
            "50%           0.000000         0.000000         0.000000         0.000000   \n",
            "75%           0.000000         1.000000         1.000000         0.000000   \n",
            "max           1.000000         1.000000         1.000000         1.000000   \n",
            "\n",
            "       _Down/Up_Ratio  _Average_Packet_Size  _Avg_Fwd_Segment_Size  \\\n",
            "count   355626.000000         355626.000000          355626.000000   \n",
            "mean         0.556461            127.433405              59.644118   \n",
            "std          0.635995            199.981517             119.309538   \n",
            "min          0.000000              0.000000               0.000000   \n",
            "25%          0.000000              0.000000               0.000000   \n",
            "50%          1.000000             50.000000              28.500000   \n",
            "75%          1.000000            155.079231              54.250000   \n",
            "max         75.000000           1812.000000            1460.000000   \n",
            "\n",
            "       _Avg_Bwd_Segment_Size  _Fwd_Header_Length.1  Subflow_Fwd_Packets  \\\n",
            "count          355626.000000          3.556260e+05        355626.000000   \n",
            "mean              168.537248         -7.601343e+05             7.357412   \n",
            "std               311.333194          2.090467e+08            67.005199   \n",
            "min                 0.000000         -7.533332e+10             1.000000   \n",
            "25%                 0.000000          3.200000e+01             1.000000   \n",
            "50%                15.500000          6.000000e+01             2.000000   \n",
            "75%               150.750000          1.360000e+02             5.000000   \n",
            "max              1460.000000          1.858721e+10         17877.000000   \n",
            "\n",
            "       _Subflow_Fwd_Bytes  _Subflow_Bwd_Packets  _Subflow_Bwd_Bytes  \\\n",
            "count        3.556260e+05         355626.000000        3.556260e+05   \n",
            "mean         6.791997e+02             10.494593        1.129421e+04   \n",
            "std          1.941864e+04            191.679025        2.763881e+05   \n",
            "min          0.000000e+00              0.000000        0.000000e+00   \n",
            "25%          0.000000e+00              0.000000        0.000000e+00   \n",
            "50%          3.100000e+01              1.000000        2.600000e+01   \n",
            "75%          4.300000e+02              4.000000        3.010000e+02   \n",
            "max          9.043781e+06          55652.000000        8.050972e+07   \n",
            "\n",
            "       Init_Win_bytes_forward  _Init_Win_bytes_backward  _act_data_pkt_fwd  \\\n",
            "count           355626.000000             355626.000000      355626.000000   \n",
            "mean             23386.883271               2032.585548           1.524405   \n",
            "std              30744.982569               8532.735513          14.938322   \n",
            "min                 -1.000000                 -1.000000           0.000000   \n",
            "25%                 31.000000                 -1.000000           0.000000   \n",
            "50%               1505.000000                 -1.000000           0.000000   \n",
            "75%              65535.000000                349.000000           1.000000   \n",
            "max              65535.000000              65535.000000        6335.000000   \n",
            "\n",
            "       _min_seg_size_forward   Active_Mean   _Active_Std   _Active_Max  \\\n",
            "count           3.556260e+05  3.556260e+05  3.556260e+05  3.556260e+05   \n",
            "mean           -2.831850e+04  1.628143e+05  2.195225e+04  1.851564e+05   \n",
            "std             5.543875e+06  8.817765e+05  2.860244e+05  1.019477e+06   \n",
            "min            -1.395063e+09  0.000000e+00  0.000000e+00  0.000000e+00   \n",
            "25%             2.000000e+01  0.000000e+00  0.000000e+00  0.000000e+00   \n",
            "50%             3.200000e+01  0.000000e+00  0.000000e+00  0.000000e+00   \n",
            "75%             3.200000e+01  0.000000e+00  0.000000e+00  0.000000e+00   \n",
            "max             1.705248e+08  9.718488e+07  4.020815e+07  9.718488e+07   \n",
            "\n",
            "        _Active_Min     Idle_Mean     _Idle_Std     _Idle_Max     _Idle_Min  \\\n",
            "count  3.556260e+05  3.556260e+05  3.556260e+05  3.556260e+05  3.556260e+05   \n",
            "mean   1.456534e+05  4.025724e+06  3.182527e+05  4.304876e+06  3.779037e+06   \n",
            "std    8.423659e+05  1.441518e+07  2.882901e+06  1.514008e+07  1.407042e+07   \n",
            "min    0.000000e+00  0.000000e+00  0.000000e+00  0.000000e+00  0.000000e+00   \n",
            "25%    0.000000e+00  0.000000e+00  0.000000e+00  0.000000e+00  0.000000e+00   \n",
            "50%    0.000000e+00  0.000000e+00  0.000000e+00  0.000000e+00  0.000000e+00   \n",
            "75%    0.000000e+00  0.000000e+00  0.000000e+00  0.000000e+00  0.000000e+00   \n",
            "max    9.718488e+07  1.199514e+08  7.737303e+07  1.199514e+08  1.199514e+08   \n",
            "\n",
            "               Month            Day           Hour         Minute  \\\n",
            "count  355626.000000  355626.000000  355626.000000  355626.000000   \n",
            "mean        6.096146      19.672749       6.124251      29.835619   \n",
            "std         0.349777       6.552670       3.555700      17.427588   \n",
            "min         6.000000       4.000000       1.000000       0.000000   \n",
            "25%         6.000000      14.000000       3.000000      15.000000   \n",
            "50%         6.000000      16.000000       5.000000      29.000000   \n",
            "75%         6.000000      27.000000      10.000000      46.000000   \n",
            "max         8.000000      30.000000      12.000000      59.000000   \n",
            "\n",
            "       Label_numerico  \n",
            "count   355626.000000  \n",
            "mean         0.908238  \n",
            "std          0.928630  \n",
            "min          0.000000  \n",
            "25%          0.000000  \n",
            "50%          1.000000  \n",
            "75%          2.000000  \n",
            "max          3.000000  \n",
            "El DataFrame tiene 73 columnas.\n",
            "El DataFrame tiene 0 valores NaN en total.\n"
          ]
        }
      ]
    },
    {
      "cell_type": "markdown",
      "source": [
        "Como se puede observar se aplicó correctamente el preprocesamiento y ya no tenemos NANs en las columnas"
      ],
      "metadata": {
        "id": "lyVyd6M5zn_z"
      }
    },
    {
      "cell_type": "markdown",
      "source": [
        "#Separación en entrenamiento y prueba\n",
        "Ahora, con el dataset listo, debemos separar los datos de manera coherente\n",
        "##Tomar el 20% de los datos de cada ocurrencia en Y(label)\n",
        "Entonces, utilizando train_test_split con stratify y test_size=0.2 aseguramos que se tome el 20% de cada ocurrencia en Y, además la semilla aleatoria es 42, por si quisieramos replicar la pseudo aleatorieadad al correr nuevamente el código."
      ],
      "metadata": {
        "id": "8qJVzScl0Z9i"
      }
    },
    {
      "cell_type": "code",
      "execution_count": 154,
      "metadata": {
        "id": "V2C82bqdSxgL",
        "colab": {
          "base_uri": "https://localhost:8080/"
        },
        "outputId": "2881f168-8fad-443c-d9b1-926bee4e7345"
      },
      "outputs": [
        {
          "output_type": "stream",
          "name": "stdout",
          "text": [
            "   _Source_Port  _Destination_Port  _Protocol  _Flow_Duration  \\\n",
            "0         50004              443.0        6.0           37027   \n",
            "1         35455              443.0        6.0           36653   \n",
            "2         51775              443.0        6.0          534099   \n",
            "3         51775              443.0        6.0            9309   \n",
            "4         51776              443.0        6.0        19890496   \n",
            "\n",
            "   _Total_Fwd_Packets  _Total_Backward_Packets  Total_Length_of_Fwd_Packets  \\\n",
            "0                   1                        1                          0.0   \n",
            "1                   1                        1                          0.0   \n",
            "2                   8                       12                       1011.0   \n",
            "3                   3                        0                          0.0   \n",
            "4                   8                        6                        430.0   \n",
            "\n",
            "   _Total_Length_of_Bwd_Packets  _Fwd_Packet_Length_Max  \\\n",
            "0                           0.0                     0.0   \n",
            "1                           0.0                     0.0   \n",
            "2                       11924.0                   581.0   \n",
            "3                           0.0                     0.0   \n",
            "4                        5679.0                   218.0   \n",
            "\n",
            "   _Fwd_Packet_Length_Min  _Fwd_Packet_Length_Mean  _Fwd_Packet_Length_Std  \\\n",
            "0                     0.0                    0.000                0.000000   \n",
            "1                     0.0                    0.000                0.000000   \n",
            "2                     0.0                  126.375              207.799311   \n",
            "3                     0.0                    0.000                0.000000   \n",
            "4                     0.0                   53.750               99.538578   \n",
            "\n",
            "   Bwd_Packet_Length_Max  _Bwd_Packet_Length_Min  _Bwd_Packet_Length_Mean  \\\n",
            "0                    0.0                     0.0                 0.000000   \n",
            "1                    0.0                     0.0                 0.000000   \n",
            "2                 1460.0                     0.0               993.666667   \n",
            "3                    0.0                     0.0                 0.000000   \n",
            "4                 1460.0                     0.0               946.500000   \n",
            "\n",
            "   _Bwd_Packet_Length_Std  Flow_Bytes/s  _Flow_Packets/s  _Flow_IAT_Mean  \\\n",
            "0                0.000000      0.000000        54.014638    3.702700e+04   \n",
            "1                0.000000      0.000000        54.565793    3.665300e+04   \n",
            "2              656.474376  24218.356522        37.446241    2.811047e+04   \n",
            "3                0.000000      0.000000       322.268772    4.654500e+03   \n",
            "4              710.412204    307.131607         0.703854    1.530038e+06   \n",
            "\n",
            "   _Flow_IAT_Std  _Flow_IAT_Max  _Flow_IAT_Min  Fwd_IAT_Total  _Fwd_IAT_Mean  \\\n",
            "0   0.000000e+00        37027.0        37027.0            0.0   0.000000e+00   \n",
            "1   0.000000e+00        36653.0        36653.0            0.0   0.000000e+00   \n",
            "2   4.314810e+04       158676.0            8.0       481340.0   6.876286e+04   \n",
            "3   5.137131e+03         8287.0         1022.0         9309.0   4.654500e+03   \n",
            "4   5.377887e+06     19426714.0            7.0     19890496.0   2.841499e+06   \n",
            "\n",
            "   _Fwd_IAT_Std  _Fwd_IAT_Max  _Fwd_IAT_Min  Bwd_IAT_Total  _Bwd_IAT_Mean  \\\n",
            "0  0.000000e+00           0.0           0.0            0.0       0.000000   \n",
            "1  0.000000e+00           0.0           0.0            0.0       0.000000   \n",
            "2  6.237618e+04      158676.0         449.0       487990.0   44362.727273   \n",
            "3  5.137131e+03        8287.0        1022.0            0.0       0.000000   \n",
            "4  7.314093e+06    19426714.0         639.0       410964.0   82192.800000   \n",
            "\n",
            "    _Bwd_IAT_Std  _Bwd_IAT_Max  _Bwd_IAT_Min  Fwd_PSH_Flags  \\\n",
            "0       0.000000           0.0           0.0            0.0   \n",
            "1       0.000000           0.0           0.0            0.0   \n",
            "2   86342.042540      217790.0           8.0            0.0   \n",
            "3       0.000000           0.0           0.0            0.0   \n",
            "4  154845.683018      355945.0           7.0            0.0   \n",
            "\n",
            "   _Fwd_Header_Length  _Bwd_Header_Length  Fwd_Packets/s  _Bwd_Packets/s  \\\n",
            "0                  32                  32      27.007319       27.007319   \n",
            "1                  32                  32      27.282896       27.282896   \n",
            "2                 180                 244      14.978496       22.467745   \n",
            "3                  60                   0     322.268772        0.000000   \n",
            "4                 180                 124       0.402202        0.301652   \n",
            "\n",
            "   _Min_Packet_Length  _Max_Packet_Length  _Packet_Length_Mean  \\\n",
            "0                 0.0                 0.0             0.000000   \n",
            "1                 0.0                 0.0             0.000000   \n",
            "2                 0.0              1460.0           615.952381   \n",
            "3                 0.0                 0.0             0.000000   \n",
            "4                 0.0              1460.0           407.266667   \n",
            "\n",
            "   _Packet_Length_Std  _Packet_Length_Variance  FIN_Flag_Count  \\\n",
            "0            0.000000                 0.000000             0.0   \n",
            "1            0.000000                 0.000000             0.0   \n",
            "2          672.744786            452585.547619             0.0   \n",
            "3            0.000000                 0.000000             0.0   \n",
            "4          626.958471            393076.923810             0.0   \n",
            "\n",
            "   _SYN_Flag_Count  _PSH_Flag_Count  _ACK_Flag_Count  _URG_Flag_Count  \\\n",
            "0              0.0              0.0              1.0              1.0   \n",
            "1              0.0              0.0              1.0              1.0   \n",
            "2              0.0              1.0              0.0              0.0   \n",
            "3              0.0              0.0              1.0              0.0   \n",
            "4              0.0              1.0              0.0              0.0   \n",
            "\n",
            "   _Down/Up_Ratio  _Average_Packet_Size  _Avg_Fwd_Segment_Size  \\\n",
            "0             1.0              0.000000                  0.000   \n",
            "1             1.0              0.000000                  0.000   \n",
            "2             1.0            646.750000                126.375   \n",
            "3             0.0              0.000000                  0.000   \n",
            "4             0.0            436.357143                 53.750   \n",
            "\n",
            "   _Avg_Bwd_Segment_Size  _Fwd_Header_Length.1  Subflow_Fwd_Packets  \\\n",
            "0               0.000000                  32.0                  1.0   \n",
            "1               0.000000                  32.0                  1.0   \n",
            "2             993.666667                 180.0                  8.0   \n",
            "3               0.000000                  60.0                  3.0   \n",
            "4             946.500000                 180.0                  8.0   \n",
            "\n",
            "   _Subflow_Fwd_Bytes  _Subflow_Bwd_Packets  _Subflow_Bwd_Bytes  \\\n",
            "0                 0.0                   1.0                 0.0   \n",
            "1                 0.0                   1.0                 0.0   \n",
            "2              1011.0                  12.0             11924.0   \n",
            "3                 0.0                   0.0                 0.0   \n",
            "4               430.0                   6.0              5679.0   \n",
            "\n",
            "   Init_Win_bytes_forward  _Init_Win_bytes_backward  _act_data_pkt_fwd  \\\n",
            "0                  2994.0                     362.0                0.0   \n",
            "1                  2860.0                     362.0                0.0   \n",
            "2                 65535.0                   63441.0                3.0   \n",
            "3                 65535.0                      -1.0                0.0   \n",
            "4                 65535.0                   64022.0                2.0   \n",
            "\n",
            "   _min_seg_size_forward  Active_Mean  _Active_Std  _Active_Max  _Active_Min  \\\n",
            "0                   32.0          0.0          0.0          0.0          0.0   \n",
            "1                   32.0          0.0          0.0          0.0          0.0   \n",
            "2                   20.0          0.0          0.0          0.0          0.0   \n",
            "3                   20.0          0.0          0.0          0.0          0.0   \n",
            "4                   20.0          0.0          0.0          0.0          0.0   \n",
            "\n",
            "   Idle_Mean  _Idle_Std  _Idle_Max  _Idle_Min  Month  Day  Hour  Minute  \n",
            "0        0.0        0.0        0.0        0.0      6   13    11      52  \n",
            "1        0.0        0.0        0.0        0.0      6   13    11      52  \n",
            "2        0.0        0.0        0.0        0.0      6   13    11      52  \n",
            "3        0.0        0.0        0.0        0.0      6   13    11      52  \n",
            "4        0.0        0.0        0.0        0.0      6   13    11      52  \n",
            "--------------------\n",
            "0    0\n",
            "1    0\n",
            "2    0\n",
            "3    0\n",
            "4    0\n",
            "Name: Label_numerico, dtype: int64\n"
          ]
        }
      ],
      "source": [
        "y1 = df['Label_numerico']\n",
        "X1 = df.drop(columns=['Label_numerico'])\n",
        "\n",
        "print(X1.head())\n",
        "print('-'*20)\n",
        "print(y1.head())"
      ]
    },
    {
      "cell_type": "code",
      "source": [
        "X_train, X_test, y_train, y_test = train_test_split(X1, y1, test_size=0.2, stratify=y1, random_state=42)"
      ],
      "metadata": {
        "id": "ytasa83z7wk7"
      },
      "execution_count": 155,
      "outputs": []
    },
    {
      "cell_type": "markdown",
      "source": [
        "Se realizó la verificación de proporciones de los datos en y_train y y_test, el objetivo es comprobar que en el entrenamiento y prueba tenga el mismo (o un cercano valor).\n"
      ],
      "metadata": {
        "id": "MCq5wU0E8MYq"
      }
    },
    {
      "cell_type": "code",
      "source": [
        "# Verificar la proporción de clases en los conjuntos de entrenamiento y prueba\n",
        "print(\"Proporción de clases en y_train:\")\n",
        "print(y_train.value_counts(normalize=True))\n",
        "\n",
        "print(\"\\nProporción de clases en y_test:\")\n",
        "print(y_test.value_counts(normalize=True))"
      ],
      "metadata": {
        "colab": {
          "base_uri": "https://localhost:8080/"
        },
        "id": "_nHVa_hQ7zxZ",
        "outputId": "9d195426-d251-4cd4-f401-a10c5c88b027"
      },
      "execution_count": 156,
      "outputs": [
        {
          "output_type": "stream",
          "name": "stdout",
          "text": [
            "Proporción de clases en y_train:\n",
            "Label_numerico\n",
            "0    0.414601\n",
            "1    0.329227\n",
            "2    0.189508\n",
            "3    0.066664\n",
            "Name: proportion, dtype: float64\n",
            "\n",
            "Proporción de clases en y_test:\n",
            "Label_numerico\n",
            "0    0.414602\n",
            "1    0.329219\n",
            "2    0.189509\n",
            "3    0.066670\n",
            "Name: proportion, dtype: float64\n"
          ]
        }
      ]
    },
    {
      "cell_type": "markdown",
      "source": [
        "Una vez separados los datos en entrenamiento y prueba, debemos **normalizar las X**, entonces instanciamos un **objeto scaler**, mediante el cual podemos **estandarizar**(usar la media y la desviacion estandar para **normalizar**) como usualmente hacíamos con la función definida por nosotros(ojo: se realizó una **comparación** de las salidas obtenidas **con este método** y con la **función original del ejemplo** y se obtiene exactamente el **mismo resultado**, pero de forma mas resumida."
      ],
      "metadata": {
        "id": "kB9mOm3-1W4X"
      }
    },
    {
      "cell_type": "code",
      "source": [
        "#-------------------------------------------\n",
        "# Normalizar características solo en los conjuntos de entrenamiento y prueba de X (caracteristicas)\n",
        "scaler = StandardScaler()\n",
        "X_train_scaled = scaler.fit_transform(X_train)\n",
        "X_test_scaled = scaler.transform(X_test)\n",
        "print(X_train_scaled)\n",
        "print('-'*30)\n",
        "print(X_test_scaled)\n",
        "m, n = X_train_scaled.shape\n",
        "print('valor de m:',m)\n",
        "print('valor de n:',n)"
      ],
      "metadata": {
        "colab": {
          "base_uri": "https://localhost:8080/"
        },
        "id": "GTbKHJAGUnGm",
        "outputId": "b2ddda86-d0f5-4ee7-c39e-ddcc7747f875"
      },
      "execution_count": 157,
      "outputs": [
        {
          "output_type": "stream",
          "name": "stdout",
          "text": [
            "[[-0.32450594 -0.33069049 -0.51156674 ... -0.71408775 -0.31697959\n",
            "  -1.59768659]\n",
            " [ 0.18358013 -0.35790102  1.89724324 ... -0.71408775  1.65206803\n",
            "   0.41201368]\n",
            " [ 0.7815394  -0.33069049 -0.51156674 ...  0.35401869  1.65206803\n",
            "   1.21589379]\n",
            " ...\n",
            " [ 0.08250081 -0.35601721 -0.51156674 ... -0.86667439  1.08948299\n",
            "   0.01007363]\n",
            " [ 1.1076939  -0.35601721 -0.51156674 ... -0.86667439  1.08948299\n",
            "  -1.59768659]\n",
            " [ 0.92531408 -0.35601721 -0.51156674 ... -0.71408775 -1.16085714\n",
            "  -1.48284657]]\n",
            "------------------------------\n",
            "[[ 0.89696257 -0.33069049 -0.51156674 ...  1.57471177  1.65206803\n",
            "  -1.36800656]\n",
            " [-0.27676782 -0.35601721 -0.51156674 ...  0.96436523  1.08948299\n",
            "   1.33073381]\n",
            " [ 0.87348572 -0.35601721 -0.51156674 ...  1.57471177 -1.44214965\n",
            "  -0.9660665 ]\n",
            " ...\n",
            " [ 0.75526101 -0.35601721 -0.51156674 ... -0.86667439 -0.5982721\n",
            "   1.61783385]\n",
            " [-0.05331752 -0.35601721 -0.51156674 ... -0.71408775 -1.44214965\n",
            "   0.98621376]\n",
            " [ 0.73357715 -0.35601721 -0.51156674 ... -1.32443429  0.80819048\n",
            "   0.98621376]]\n",
            "valor de m: 284500\n",
            "valor de n: 72\n"
          ]
        }
      ]
    },
    {
      "cell_type": "markdown",
      "source": [
        "Definimos la sigmoide como la función de activación ya que se busca hacer una clasificación:"
      ],
      "metadata": {
        "id": "0yBvc9Y22HyF"
      }
    },
    {
      "cell_type": "code",
      "execution_count": 158,
      "metadata": {
        "id": "0sB9Kyi8SxgN"
      },
      "outputs": [],
      "source": [
        "def sigmoid(z):\n",
        "\n",
        "    return 1.0 / (1.0 + np.exp(-z))"
      ]
    },
    {
      "cell_type": "markdown",
      "source": [
        "Se define la función de costo aplicando regularización utilizando el parámetro lambda."
      ],
      "metadata": {
        "id": "AjJrgT9m2R5P"
      }
    },
    {
      "cell_type": "code",
      "execution_count": 159,
      "metadata": {
        "id": "w5S0OOswSxgN"
      },
      "outputs": [],
      "source": [
        "def lrCostFunction(theta, X, y, lambda_):\n",
        "\n",
        "    # convierte las etiquetas a valores enteros si son boleanos\n",
        "    if y.dtype == bool:\n",
        "        y = y.astype(int)\n",
        "\n",
        "    J = 0\n",
        "    grad = np.zeros(theta.shape)\n",
        "\n",
        "    h = sigmoid(X.dot(theta.T))\n",
        "\n",
        "\n",
        "    temp = theta\n",
        "    temp[0] = 0\n",
        "    h = np.clip(h, 1e-15, 1 - 1e-15)\n",
        "    J = (1 / m) * np.sum(-y.dot(np.log(h)) - (1 - y).dot(np.log(1 - h))) + (lambda_ / (2 * m)) * np.sum(np.square(temp))\n",
        "\n",
        "    grad = (1 / m) * (h - y).dot(X)\n",
        "\n",
        "    grad = grad + (lambda_ / m) * temp\n",
        "\n",
        "    return J, grad"
      ]
    },
    {
      "cell_type": "markdown",
      "source": [
        "Definimos la función de oneVsAll y en este caso no usaremos nuestra función de descenso por la gradiente, sino usaremos **optimize.minimize** con su propio **metodo 'CG'**que **reemplaza** al descenso por la gradiente que usabamos en anteriores ejercicios.\n",
        "\n",
        "Además, debido a que usaremos **np.arange**, los valores de c irán variando de 0 hasta el rango máximo  (num_labels -1), la **ventaja de arange** a diferencia de **range de python** sin numpy, puede manejar **vectores** y en este caso como calcularemos las thithas de varias categorías nos es muy util.\n",
        "\n",
        "Sin embargo, debido a que se compara **y==c** en los parámetros de **optimize.minimize**, entonces lo que hará es buscar **coincidencias** de **y** a la **c** actual y **tomará solo las coincidencias** para entrenar a ese conjunto, de ahi el nombre de onevsAll, y así sucesivamente hasta salir del ciclo for. Es por eso que **las magnitudes de salida de nuestra Y debemos acomodarlas** al mismo rango de **c** para que pueda coincidir **y==c**"
      ],
      "metadata": {
        "id": "Cq1Slqd92ggN"
      }
    },
    {
      "cell_type": "code",
      "execution_count": 160,
      "metadata": {
        "id": "V0rOw5qhSxgN"
      },
      "outputs": [],
      "source": [
        "def oneVsAll(X, y, num_labels, lambda_):\n",
        "\n",
        "    # algunas variables utiles\n",
        "    m, n = X.shape\n",
        "    print('------------------')\n",
        "    print('valor n:',n)\n",
        "    print('valor m:', m)\n",
        "    all_theta = np.zeros((num_labels, n + 1))\n",
        "\n",
        "    # Agrega unos a la matriz X\n",
        "    X = np.concatenate([np.ones((m, 1)), X], axis=1)\n",
        "\n",
        "    for c in np.arange(num_labels):\n",
        "        print(\"valor de c:\",c)\n",
        "        initial_theta = np.zeros(n + 1)\n",
        "        options = {'maxiter': 50}\n",
        "        res = optimize.minimize(lrCostFunction,\n",
        "                                initial_theta,\n",
        "                                (X, (y == c), lambda_),\n",
        "                                jac=True,\n",
        "                                method='CG',\n",
        "                                options=options)\n",
        "\n",
        "        all_theta[c] = res.x\n",
        "\n",
        "    return all_theta"
      ]
    },
    {
      "cell_type": "markdown",
      "source": [
        "Entonces, primero debemos verificar cuantas categorías tenemos en nuestro **label Y**:"
      ],
      "metadata": {
        "id": "3-X2gNGD38n3"
      }
    },
    {
      "cell_type": "code",
      "source": [
        "print(y_train.unique())\n",
        "num_labels = len(np.unique(y_train))\n",
        "print(num_labels)"
      ],
      "metadata": {
        "colab": {
          "base_uri": "https://localhost:8080/"
        },
        "id": "VleTK1xo4B6j",
        "outputId": "e409b608-3355-498c-9991-006b21adf52c"
      },
      "execution_count": 161,
      "outputs": [
        {
          "output_type": "stream",
          "name": "stdout",
          "text": [
            "[0 1 2 3]\n",
            "4\n"
          ]
        }
      ]
    },
    {
      "cell_type": "markdown",
      "source": [
        "Gracias a lo anterior podemos comprobar el mapeo que realizamos y tenemos las 4 categorias (si hubieramos olvidado un valor en el mapeo, habríamos tenido más categorías acá)"
      ],
      "metadata": {
        "id": "gYR5XaqU4Jtm"
      }
    },
    {
      "cell_type": "markdown",
      "source": [
        "### Calculo de parametros (thitas)"
      ],
      "metadata": {
        "id": "kWDKg5AU4et9"
      }
    },
    {
      "cell_type": "code",
      "execution_count": 162,
      "metadata": {
        "id": "w6JbsLLMSxgO",
        "outputId": "43523db7-e1cd-4b61-e2a9-20fb4488b527",
        "colab": {
          "base_uri": "https://localhost:8080/"
        }
      },
      "outputs": [
        {
          "output_type": "stream",
          "name": "stdout",
          "text": [
            "------------------\n",
            "valor n: 72\n",
            "valor m: 284500\n",
            "valor de c: 0\n",
            "valor de c: 1\n",
            "valor de c: 2\n",
            "valor de c: 3\n",
            "------------------------------------Salida--------------------------------\n",
            "(4, 73)\n",
            "[[-2.20550466e+00 -3.92705944e-03 -3.28467996e-02  9.48393185e-02\n",
            "   1.65264804e-02 -1.31441293e-02  7.81886718e-03 -7.64102124e-03\n",
            "   1.78102782e-02 -7.35288877e-02  4.50477786e-02  8.77688842e-03\n",
            "   1.02547773e-01 -6.83390658e-02 -4.76407817e-02 -1.29598636e-02\n",
            "   4.02188282e-02  2.59510884e-02  2.69959937e-02 -7.69514049e-02\n",
            "  -8.77070128e-02  3.63909762e-02 -2.88004402e-02  2.92479152e-02\n",
            "  -6.60200714e-03 -5.53792471e-02  6.87004029e-02  4.83328835e-02\n",
            "   2.95377766e-03  8.61444784e-03 -1.44179410e-02 -2.48953835e-02\n",
            "  -2.19488754e-02 -2.32472314e-02 -2.39961887e-03  1.32366604e-03\n",
            "   3.31031493e-02 -1.67114669e-02  9.27474605e-03 -8.46762947e-02\n",
            "   3.35700394e-02 -5.52345624e-02 -6.71092551e-02  4.04086676e-03\n",
            "  -2.32472314e-02  5.56727632e-02 -2.32257358e-02  7.41206054e-02\n",
            "  -5.18266771e-02  5.08384654e-02  8.77688842e-03 -1.29598636e-02\n",
            "  -2.39961887e-03 -1.31441293e-02 -7.64102124e-03  7.81886718e-03\n",
            "   1.78102782e-02  1.07358744e-01 -1.88072826e-02 -2.93693845e-02\n",
            "  -4.40185461e-03  3.42121955e-03 -1.69281866e-02  7.62671368e-03\n",
            "   5.41063235e-03 -6.53221088e-04 -2.45645420e-03  8.74103049e-03\n",
            "  -3.48129212e-03 -2.66154066e+00 -4.21368193e+00 -5.16513848e-01\n",
            "   5.17291134e-02]\n",
            " [-1.17423801e+00  3.57512952e-03  2.86998399e-02 -1.48367083e-02\n",
            "  -3.22046434e-02  1.08816244e-03  9.54097278e-03 -2.02833608e-04\n",
            "  -6.19835769e-03  5.24016984e-02  7.68635845e-04  3.40292362e-03\n",
            "  -6.54841326e-02 -1.83506813e-02  7.42011904e-02  8.04483271e-02\n",
            "   1.26598604e-02 -2.84013241e-02  3.98092759e-03 -3.84472230e-02\n",
            "   2.04867629e-02 -3.06406622e-02 -3.26186985e-02  2.72321933e-02\n",
            "   1.66727575e-02  2.53573221e-04 -1.19298483e-03  1.95891825e-02\n",
            "   3.45521570e-02 -2.49276227e-02  1.31972669e-02  3.79420550e-03\n",
            "   4.81387722e-03 -2.67498531e-02  1.49247363e-02 -2.96881104e-02\n",
            "  -2.96233815e-02  1.29497428e-02  4.25374127e-02  4.47514741e-02\n",
            "  -9.18207660e-02  4.02433554e-04  5.84530483e-03  3.87031011e-02\n",
            "  -2.67498531e-02  1.70959113e-02  2.83611145e-02 -2.81716612e-02\n",
            "  -6.36646854e-03 -9.27700907e-02  3.40292362e-03  8.04483271e-02\n",
            "   1.49247363e-02  1.08816244e-03 -2.02833608e-04  9.54097278e-03\n",
            "  -6.19835769e-03 -6.00708537e-02  3.01087791e-02  7.48233199e-03\n",
            "   1.25355323e-02 -1.91904299e-02 -1.27385716e-02  3.79135674e-02\n",
            "  -2.65136733e-03  8.55186071e-03 -6.18927021e-03 -6.30499969e-03\n",
            "   1.44340363e-02 -7.79002622e-02  1.73761517e+00 -4.55934654e-01\n",
            "   5.57233535e-02]\n",
            " [-2.14351228e+00  1.90182307e-02 -4.16028120e-03 -4.54991473e-02\n",
            "   2.35717631e-02 -1.82380143e-03 -6.75255641e-03 -1.59181475e-02\n",
            "  -5.65897299e-03  3.24703943e-02 -2.12617907e-02  9.63202117e-03\n",
            "   8.73327957e-03  7.84842171e-02 -2.29819586e-02 -5.81083821e-02\n",
            "   1.17327180e-02  1.38309502e-02 -1.50769806e-03  7.10094321e-02\n",
            "   2.01824953e-02  4.97908764e-02  3.95005691e-02 -4.79839616e-02\n",
            "  -3.48103185e-02  9.69996640e-03  3.16489887e-02 -4.01141278e-02\n",
            "  -4.46527341e-02  1.93576173e-02 -2.69713110e-02  6.12697773e-03\n",
            "  -5.94036866e-03  3.17091710e-02 -6.13195590e-03  1.48966199e-02\n",
            "   2.89102490e-02 -2.51216306e-04 -5.77941558e-02 -4.58032430e-02\n",
            "   5.34170456e-02  5.39569683e-04 -7.81202148e-03 -5.07996834e-02\n",
            "   3.17091710e-02 -2.56534946e-02  3.21771666e-02 -2.73402263e-02\n",
            "   1.08416883e-02  4.43832096e-02  9.63202117e-03 -5.81083821e-02\n",
            "  -6.13195590e-03 -1.82380143e-03 -1.59181475e-02 -6.75255641e-03\n",
            "  -5.65897299e-03  3.77439211e-02 -1.35330116e-02  3.44883025e-02\n",
            "  -8.28284687e-03  1.04456639e-02  1.86483918e-02 -4.27462509e-02\n",
            "  -1.53505222e-04 -8.49327170e-03 -5.28500960e-03 -2.05000727e-04\n",
            "  -1.06462167e-02  1.96081537e+00  1.42033525e+00  3.71974177e-01\n",
            "  -3.19278464e-02]\n",
            " [-3.16988920e+00 -2.48323865e-02  1.61277015e-03 -7.90023415e-02\n",
            "  -3.41085440e-02  3.11155660e-03 -6.74508603e-03 -4.20639598e-03\n",
            "  -1.30373539e-02  4.87738189e-02 -3.99677772e-02 -1.96346797e-02\n",
            "  -8.52086657e-02  3.76820302e-02  1.63892149e-02  1.67231086e-02\n",
            "  -5.96373834e-02 -3.20869914e-02 -3.61881139e-02  7.21178076e-02\n",
            "   8.79718060e-02 -5.83963139e-02  1.56296094e-02 -3.59410694e-02\n",
            "   1.72040603e-02  2.52214939e-02 -9.30519160e-02 -3.21556233e-02\n",
            "  -6.13948645e-03 -1.26515752e-02  3.27654634e-02  4.02928934e-02\n",
            "   1.25153668e-02  1.57873138e-02  5.93038269e-04  1.28031619e-03\n",
            "  -5.65732199e-02  2.25084292e-02 -1.79240751e-02  7.68281634e-02\n",
            "  -1.87807521e-02  5.29182333e-02  8.64175399e-02 -1.19425044e-02\n",
            "   1.57873138e-02 -6.13106968e-02  1.29106870e-02 -5.52347180e-02\n",
            "   4.79741367e-02 -3.38159412e-02 -1.96346797e-02  1.67231086e-02\n",
            "   5.93038269e-04  3.11155660e-03 -4.20639598e-03 -6.74508603e-03\n",
            "  -1.30373539e-02 -1.12542472e-01  2.85444907e-02  1.10588819e-02\n",
            "   1.10316272e-02 -7.60227056e-06  2.11026166e-02 -2.16712630e-03\n",
            "  -1.08994924e-02  2.76096183e-03  1.12512674e-02 -1.90078728e-03\n",
            "   4.56054719e-03 -9.62787676e-01 -9.03524912e-01  6.43284215e-01\n",
            "  -6.65901808e-03]]\n"
          ]
        }
      ],
      "source": [
        "lambda_ = 1000\n",
        "all_theta = oneVsAll(X_train_scaled, y_train, num_labels, lambda_)\n",
        "print('------------------------------------Salida--------------------------------')\n",
        "print(all_theta.shape)\n",
        "\n",
        "print(all_theta)\n"
      ]
    },
    {
      "cell_type": "code",
      "execution_count": 163,
      "metadata": {
        "id": "PjFoFe1bSxgO"
      },
      "outputs": [],
      "source": [
        "def predictOneVsAll(all_theta, X):\n",
        "\n",
        "    m = X.shape[0];\n",
        "    num_labels = all_theta.shape[0]\n",
        "\n",
        "    p = np.zeros(m)\n",
        "\n",
        "    # Add ones to the X data matrix\n",
        "    X = np.concatenate([np.ones((m, 1)), X], axis=1)\n",
        "    p = np.argmax(sigmoid(X.dot(all_theta.T)), axis = 1)\n",
        "\n",
        "    return p"
      ]
    },
    {
      "cell_type": "markdown",
      "source": [
        "Una vez obtenidas las thitas, es momento de realizar las predicciones, utilizando la funcion predictOneVsAll donde se filtra la concordancia de clases con su **máximo** (para saber qué conjunto de thitas corresponde a qué **clase de Y**(categoria)).\n",
        "\n",
        "Para realizar esto debemos usar la X de prueba normalizada, entonces:"
      ],
      "metadata": {
        "id": "eomIkVEy5XRs"
      }
    },
    {
      "cell_type": "code",
      "execution_count": 164,
      "metadata": {
        "id": "mE7v5cglSxgO",
        "outputId": "7e273114-01a8-4ea5-a414-11748fb2caf6",
        "colab": {
          "base_uri": "https://localhost:8080/"
        }
      },
      "outputs": [
        {
          "output_type": "stream",
          "name": "stdout",
          "text": [
            "       Predicciones\n",
            "0                 1\n",
            "1                 1\n",
            "2                 1\n",
            "3                 0\n",
            "4                 0\n",
            "...             ...\n",
            "71121             1\n",
            "71122             0\n",
            "71123             0\n",
            "71124             0\n",
            "71125             2\n",
            "\n",
            "[71126 rows x 1 columns]\n"
          ]
        }
      ],
      "source": [
        "predicciones = predictOneVsAll(all_theta, X_test_scaled)\n",
        "predicciones_df = pd.DataFrame({'Predicciones': predicciones})\n",
        "\n",
        "print(predicciones_df)"
      ]
    },
    {
      "cell_type": "markdown",
      "source": [
        "Las predicciones (Y predicha) se guarda en **predicciones**, pero este se encuentra en formato **array de numpy**, por tanto para sacar un **accuracy score** correcto, ambos y de prueba y predicciones deben ser del mismo tipo de datos, en este caso es mas facil **volver a predicciones en un dataframe de solo una columna** ya que **y_test es un dataframe** que  no se había transformado a un array de numpy."
      ],
      "metadata": {
        "id": "SYJUz7r-5zn8"
      }
    },
    {
      "cell_type": "code",
      "source": [
        "y_test_renumerado = y_test.reset_index(drop=True)\n",
        "print(y_test_renumerado)\n",
        "\n",
        "precision = accuracy_score(y_test, predicciones_df['Predicciones'])\n",
        "print(\"Precisión del modelo:\", precision)"
      ],
      "metadata": {
        "colab": {
          "base_uri": "https://localhost:8080/"
        },
        "id": "rO7aEpuNu4A_",
        "outputId": "a5b6beeb-f04e-46da-b04e-da4f85d68fa5"
      },
      "execution_count": 165,
      "outputs": [
        {
          "output_type": "stream",
          "name": "stdout",
          "text": [
            "0        2\n",
            "1        1\n",
            "2        2\n",
            "3        0\n",
            "4        0\n",
            "        ..\n",
            "71121    1\n",
            "71122    0\n",
            "71123    0\n",
            "71124    0\n",
            "71125    2\n",
            "Name: Label_numerico, Length: 71126, dtype: int64\n",
            "Precisión del modelo: 0.8064842673565222\n"
          ]
        }
      ]
    },
    {
      "cell_type": "markdown",
      "source": [
        "Como se puede ver, el modelo tiene 0.806 de precisión, esto significa una precisión del 81% por tanto, es un modelo válido y el ejercicio se realizó correctamente."
      ],
      "metadata": {
        "id": "08y_jG_66uA6"
      }
    },
    {
      "cell_type": "markdown",
      "source": [
        "###Volvemos a los valores originales\n",
        "Y vemos de mejor forma las comparaciónes con head, aleatoriamente y por categorias por separado."
      ],
      "metadata": {
        "id": "2v5DtYz_ILgN"
      }
    },
    {
      "cell_type": "code",
      "source": [
        "mapeoInv = {0:'Android_Adware', 1:'Android_Scareware', 2:'Android_SMS_Malware', 3:'Benign'}\n",
        "dfTransf=pd.DataFrame()\n",
        "dfTransf['Predicciones'] = predicciones_df['Predicciones'].map(mapeoInv)\n",
        "dfTransf['Y Prueba'] = y_test_renumerado.map(mapeoInv)\n"
      ],
      "metadata": {
        "id": "30IGLgBhFpD3"
      },
      "execution_count": 166,
      "outputs": []
    },
    {
      "cell_type": "code",
      "source": [
        "print(dfTransf.head(20))"
      ],
      "metadata": {
        "colab": {
          "base_uri": "https://localhost:8080/"
        },
        "id": "ljB_jpj_Gl9R",
        "outputId": "70821e12-b8aa-4acf-c975-86e84496cb4b"
      },
      "execution_count": 167,
      "outputs": [
        {
          "output_type": "stream",
          "name": "stdout",
          "text": [
            "           Predicciones             Y Prueba\n",
            "0     Android_Scareware  Android_SMS_Malware\n",
            "1     Android_Scareware    Android_Scareware\n",
            "2     Android_Scareware  Android_SMS_Malware\n",
            "3        Android_Adware       Android_Adware\n",
            "4        Android_Adware       Android_Adware\n",
            "5        Android_Adware       Android_Adware\n",
            "6        Android_Adware       Android_Adware\n",
            "7        Android_Adware       Android_Adware\n",
            "8   Android_SMS_Malware  Android_SMS_Malware\n",
            "9        Android_Adware       Android_Adware\n",
            "10  Android_SMS_Malware  Android_SMS_Malware\n",
            "11       Android_Adware       Android_Adware\n",
            "12       Android_Adware       Android_Adware\n",
            "13    Android_Scareware    Android_Scareware\n",
            "14       Android_Adware       Android_Adware\n",
            "15    Android_Scareware    Android_Scareware\n",
            "16       Android_Adware       Android_Adware\n",
            "17    Android_Scareware    Android_Scareware\n",
            "18       Android_Adware       Android_Adware\n",
            "19       Android_Adware       Android_Adware\n"
          ]
        }
      ]
    },
    {
      "cell_type": "code",
      "source": [
        "# Obtener el número total de filas en tu DataFrame\n",
        "total_filas = dfTransf.shape[0]\n",
        "\n",
        "# Elegir 20 índices aleatorios\n",
        "indices_aleatorios = random.sample(range(total_filas), 20)\n",
        "\n",
        "# Seleccionar las filas correspondientes a los índices aleatorios\n",
        "filas_aleatorias = dfTransf.iloc[indices_aleatorios]\n",
        "\n",
        "# Imprimir las filas aleatorias\n",
        "print(filas_aleatorias)\n"
      ],
      "metadata": {
        "colab": {
          "base_uri": "https://localhost:8080/"
        },
        "id": "wUxhVdECHPWV",
        "outputId": "a5f3966d-3d2d-4491-a6c0-86dcff06ad88"
      },
      "execution_count": 168,
      "outputs": [
        {
          "output_type": "stream",
          "name": "stdout",
          "text": [
            "              Predicciones             Y Prueba\n",
            "52209  Android_SMS_Malware  Android_SMS_Malware\n",
            "4334        Android_Adware               Benign\n",
            "4543   Android_SMS_Malware  Android_SMS_Malware\n",
            "69414  Android_SMS_Malware  Android_SMS_Malware\n",
            "23665       Android_Adware       Android_Adware\n",
            "23906       Android_Adware       Android_Adware\n",
            "24156    Android_Scareware  Android_SMS_Malware\n",
            "318         Android_Adware       Android_Adware\n",
            "56701    Android_Scareware    Android_Scareware\n",
            "25934    Android_Scareware    Android_Scareware\n",
            "69162  Android_SMS_Malware  Android_SMS_Malware\n",
            "20944       Android_Adware       Android_Adware\n",
            "8720     Android_Scareware    Android_Scareware\n",
            "45390       Android_Adware       Android_Adware\n",
            "8384        Android_Adware       Android_Adware\n",
            "30382  Android_SMS_Malware  Android_SMS_Malware\n",
            "37038       Android_Adware       Android_Adware\n",
            "7578     Android_Scareware    Android_Scareware\n",
            "13166       Android_Adware               Benign\n",
            "15006    Android_Scareware    Android_Scareware\n"
          ]
        }
      ]
    },
    {
      "cell_type": "code",
      "source": [
        "from sklearn.metrics import precision_score\n",
        "# Obtener la precisión para la categoría específica\n",
        "categoria_especifica = 0 # Reemplaza esto con la categoría que desees\n",
        "precision_categoria = precision_score(y_test, predicciones_df['Predicciones'], labels=[categoria_especifica], average='micro')\n",
        "\n",
        "# Imprimir la precisión para la categoría específica\n",
        "print(\"Precisión para la categoría {}: {:.2f}\".format(categoria_especifica, precision_categoria))"
      ],
      "metadata": {
        "colab": {
          "base_uri": "https://localhost:8080/"
        },
        "id": "4jA6udH9H3Ut",
        "outputId": "e0127e1a-bdb5-4fe8-bc9d-bde2209f6886"
      },
      "execution_count": 169,
      "outputs": [
        {
          "output_type": "stream",
          "name": "stdout",
          "text": [
            "Precisión para la categoría 0: 0.86\n"
          ]
        }
      ]
    },
    {
      "cell_type": "markdown",
      "source": [
        "#2do Dataset: 86. Fashion-MNIST\n",
        "Fashion-MNIST es un conjunto de datos de imágenes de artículos de Zalando, que consta de un conjunto de entrenamiento de 60,000 ejemplos y un conjunto de prueba de 10,000 ejemplos. Cada ejemplo es una imagen en escala de grises de 28x28 píxeles, asociada a una etiqueta de entre 10 clases diferentes. Zalando creó Fashion-MNIST como un reemplazo directo para el conjunto de datos MNIST original, con el objetivo de ser utilizado como una referencia para evaluar algoritmos de aprendizaje automático.\n",
        "\n",
        "El conjunto de datos original MNIST contiene principalmente dígitos escritos a mano y es muy popular en la comunidad de IA/ML/Ciencia de Datos como una referencia para validar algoritmos. Fashion-MNIST conserva el mismo tamaño de imagen y la misma estructura de divisiones entre entrenamiento y prueba que el conjunto de datos MNIST original. Este conjunto de datos permite a los investigadores y practicantes probar sus algoritmos en un conjunto de datos diferente pero con características similares, ya que se dice que si un algoritmo no funciona bien en MNIST, es probable que tampoco funcione bien en otros conjuntos de datos.\n",
        "\n",
        "Labels\n",
        "\n",
        "    0 T-shirt/top\n",
        "    1 Trouser\n",
        "    2 Pullover\n",
        "    3 Dress\n",
        "    4 Coat\n",
        "    5 Sandal\n",
        "    6 Shirt\n",
        "    7 Sneaker\n",
        "    8 Bag\n",
        "    9 Ankle boot\n"
      ],
      "metadata": {
        "id": "lPtXkBm1E9aG"
      }
    },
    {
      "cell_type": "markdown",
      "source": [
        "Importamos el dataset, en este caso ya se encuentra dividido en entrenamiento y en prueba, por tanto debemos importar ambos."
      ],
      "metadata": {
        "id": "ARDVhr9_TWhL"
      }
    },
    {
      "cell_type": "code",
      "source": [
        "dfTest = pd.read_csv('/content/drive/MyDrive/Colab Notebooks/Datasets/1erParcial/fashion-mnist_test.csv')\n",
        "dfTrain = pd.read_csv('/content/drive/MyDrive/Colab Notebooks/Datasets/1erParcial/fashion-mnist_train.csv')\n",
        "pd.reset_option('display.max_columns')\n",
        "\n",
        "print(dfTrain.describe())\n",
        "print(\"-\"*40)\n",
        "print(dfTest.describe())"
      ],
      "metadata": {
        "colab": {
          "base_uri": "https://localhost:8080/"
        },
        "id": "1RQFfmAZJaYs",
        "outputId": "2398f0db-94f6-4efb-b04c-63616d15f5fc"
      },
      "execution_count": 170,
      "outputs": [
        {
          "output_type": "stream",
          "name": "stdout",
          "text": [
            "              label        pixel1        pixel2        pixel3        pixel4  \\\n",
            "count  60000.000000  60000.000000  60000.000000  60000.000000  60000.000000   \n",
            "mean       4.500000      0.000900      0.006150      0.035333      0.101933   \n",
            "std        2.872305      0.094689      0.271011      1.222324      2.452871   \n",
            "min        0.000000      0.000000      0.000000      0.000000      0.000000   \n",
            "25%        2.000000      0.000000      0.000000      0.000000      0.000000   \n",
            "50%        4.500000      0.000000      0.000000      0.000000      0.000000   \n",
            "75%        7.000000      0.000000      0.000000      0.000000      0.000000   \n",
            "max        9.000000     16.000000     36.000000    226.000000    164.000000   \n",
            "\n",
            "             pixel5        pixel6        pixel7        pixel8        pixel9  \\\n",
            "count  60000.000000  60000.000000  60000.000000  60000.000000  60000.000000   \n",
            "mean       0.247967      0.411467      0.805767      2.198283      5.682000   \n",
            "std        4.306912      5.836188      8.215169     14.093378     23.819481   \n",
            "min        0.000000      0.000000      0.000000      0.000000      0.000000   \n",
            "25%        0.000000      0.000000      0.000000      0.000000      0.000000   \n",
            "50%        0.000000      0.000000      0.000000      0.000000      0.000000   \n",
            "75%        0.000000      0.000000      0.000000      0.000000      0.000000   \n",
            "max      227.000000    230.000000    224.000000    255.000000    254.000000   \n",
            "\n",
            "       ...      pixel775      pixel776      pixel777      pixel778  \\\n",
            "count  ...  60000.000000  60000.000000  60000.000000  60000.000000   \n",
            "mean   ...     34.625400     23.300683     16.588267     17.869433   \n",
            "std    ...     57.545242     48.854427     41.979611     43.966032   \n",
            "min    ...      0.000000      0.000000      0.000000      0.000000   \n",
            "25%    ...      0.000000      0.000000      0.000000      0.000000   \n",
            "50%    ...      0.000000      0.000000      0.000000      0.000000   \n",
            "75%    ...     58.000000      9.000000      0.000000      0.000000   \n",
            "max    ...    255.000000    255.000000    255.000000    255.000000   \n",
            "\n",
            "           pixel779      pixel780      pixel781      pixel782      pixel783  \\\n",
            "count  60000.000000  60000.000000  60000.000000  60000.000000  60000.000000   \n",
            "mean      22.814817     17.911483      8.520633      2.753300      0.855517   \n",
            "std       51.830477     45.149388     29.614859     17.397652      9.356960   \n",
            "min        0.000000      0.000000      0.000000      0.000000      0.000000   \n",
            "25%        0.000000      0.000000      0.000000      0.000000      0.000000   \n",
            "50%        0.000000      0.000000      0.000000      0.000000      0.000000   \n",
            "75%        0.000000      0.000000      0.000000      0.000000      0.000000   \n",
            "max      255.000000    255.000000    255.000000    255.000000    255.000000   \n",
            "\n",
            "          pixel784  \n",
            "count  60000.00000  \n",
            "mean       0.07025  \n",
            "std        2.12587  \n",
            "min        0.00000  \n",
            "25%        0.00000  \n",
            "50%        0.00000  \n",
            "75%        0.00000  \n",
            "max      170.00000  \n",
            "\n",
            "[8 rows x 785 columns]\n",
            "----------------------------------------\n",
            "              label        pixel1        pixel2        pixel3        pixel4  \\\n",
            "count  10000.000000  10000.000000  10000.000000  10000.000000  10000.000000   \n",
            "mean       4.500000      0.000400      0.010300      0.052100      0.077000   \n",
            "std        2.872425      0.024493      0.525187      2.494315      2.208882   \n",
            "min        0.000000      0.000000      0.000000      0.000000      0.000000   \n",
            "25%        2.000000      0.000000      0.000000      0.000000      0.000000   \n",
            "50%        4.500000      0.000000      0.000000      0.000000      0.000000   \n",
            "75%        7.000000      0.000000      0.000000      0.000000      0.000000   \n",
            "max        9.000000      2.000000     45.000000    218.000000    185.000000   \n",
            "\n",
            "             pixel5        pixel6        pixel7        pixel8        pixel9  \\\n",
            "count  10000.000000  10000.000000  10000.000000  10000.000000  10000.000000   \n",
            "mean       0.208600      0.349200      0.826700      2.321200      5.457800   \n",
            "std        4.669183      5.657849      8.591731     15.031508     23.359019   \n",
            "min        0.000000      0.000000      0.000000      0.000000      0.000000   \n",
            "25%        0.000000      0.000000      0.000000      0.000000      0.000000   \n",
            "50%        0.000000      0.000000      0.000000      0.000000      0.000000   \n",
            "75%        0.000000      0.000000      0.000000      0.000000      0.000000   \n",
            "max      227.000000    223.000000    247.000000    218.000000    244.000000   \n",
            "\n",
            "       ...      pixel775      pixel776      pixel777      pixel778  \\\n",
            "count  ...  10000.000000  10000.000000  10000.000000  10000.000000   \n",
            "mean   ...     34.320800     23.071900     16.432000     17.870600   \n",
            "std    ...     57.888679     49.049749     42.159665     44.140552   \n",
            "min    ...      0.000000      0.000000      0.000000      0.000000   \n",
            "25%    ...      0.000000      0.000000      0.000000      0.000000   \n",
            "50%    ...      0.000000      0.000000      0.000000      0.000000   \n",
            "75%    ...     55.000000      6.000000      0.000000      0.000000   \n",
            "max    ...    254.000000    252.000000    255.000000    255.000000   \n",
            "\n",
            "           pixel779      pixel780      pixel781      pixel782      pixel783  \\\n",
            "count  10000.000000  10000.000000  10000.000000  10000.000000  10000.000000   \n",
            "mean      22.860000     17.790200      8.353500      2.541600      0.629500   \n",
            "std       51.706601     45.128107     28.765769     16.417363      7.462533   \n",
            "min        0.000000      0.000000      0.000000      0.000000      0.000000   \n",
            "25%        0.000000      0.000000      0.000000      0.000000      0.000000   \n",
            "50%        0.000000      0.000000      0.000000      0.000000      0.000000   \n",
            "75%        1.000000      0.000000      0.000000      0.000000      0.000000   \n",
            "max      255.000000    255.000000    240.000000    225.000000    205.000000   \n",
            "\n",
            "          pixel784  \n",
            "count  10000.00000  \n",
            "mean       0.06560  \n",
            "std        1.93403  \n",
            "min        0.00000  \n",
            "25%        0.00000  \n",
            "50%        0.00000  \n",
            "75%        0.00000  \n",
            "max      107.00000  \n",
            "\n",
            "[8 rows x 785 columns]\n"
          ]
        }
      ]
    },
    {
      "cell_type": "markdown",
      "source": [
        "## Preprocesado de datos de dataset\n",
        "*En este caso, al tener todas las columnas con un valor numérico correspondiente a la cantidad de \"negro\" de cada pixel (de 1 a 255), no es necesario realizar un preprocesamiento, ya que no hay valores nulos, todos los valores son necesarios y las salidas (label) ya estan en un valor numérico.*"
      ],
      "metadata": {
        "id": "9UtGe-a7Xk3h"
      }
    },
    {
      "cell_type": "markdown",
      "source": [
        "Contamos cuantos valores distintos tenemos en la salida ('label'). Como se puede ver, los valores van desde 0 a 9 por lo que no es necesario realizar un mapeo para acomodar los datos antes de utilizar la clasificacion oneVsAll"
      ],
      "metadata": {
        "id": "oJtQrDMdTecI"
      }
    },
    {
      "cell_type": "code",
      "source": [
        "print(\"----------------------\")\n",
        "frec = dfTrain['label'].value_counts()\n",
        "print(\"Frecuencia de valores en la columna 'Label':\")\n",
        "print(frec)\n",
        "print(\"----------------------\")"
      ],
      "metadata": {
        "colab": {
          "base_uri": "https://localhost:8080/"
        },
        "id": "kZvKmvugLDjd",
        "outputId": "40f949c0-a3dc-4d6a-e214-149b2da2fe98"
      },
      "execution_count": 171,
      "outputs": [
        {
          "output_type": "stream",
          "name": "stdout",
          "text": [
            "----------------------\n",
            "Frecuencia de valores en la columna 'Label':\n",
            "label\n",
            "2    6000\n",
            "9    6000\n",
            "6    6000\n",
            "0    6000\n",
            "3    6000\n",
            "4    6000\n",
            "5    6000\n",
            "8    6000\n",
            "7    6000\n",
            "1    6000\n",
            "Name: count, dtype: int64\n",
            "----------------------\n"
          ]
        }
      ]
    },
    {
      "cell_type": "markdown",
      "source": [
        "### Separación de Salidas (labels) de características\n",
        "Ya teniendo el entrenamiento y la prueba separados, en este caso solamente necesitamos separar la salida de las características."
      ],
      "metadata": {
        "id": "gzrnMyybT575"
      }
    },
    {
      "cell_type": "code",
      "source": [
        "y_train2 = dfTrain['label']\n",
        "X_train2 = dfTrain.drop(columns=['label'])\n",
        "\n",
        "y_test2 = dfTest['label']\n",
        "X_test2 = dfTest.drop(columns=['label'])"
      ],
      "metadata": {
        "id": "X_EOLBRPLXYe"
      },
      "execution_count": 172,
      "outputs": []
    },
    {
      "cell_type": "markdown",
      "source": [
        "Verificamos las proporciones de los valores de la salida ('label') y vemos que en este dataset son exactamente iguales. (todos tienen la misma proporción)"
      ],
      "metadata": {
        "id": "W71QqgLIUE2G"
      }
    },
    {
      "cell_type": "code",
      "source": [
        "# Verificar la proporción de clases en los conjuntos de entrenamiento y prueba\n",
        "print(\"Proporción de clases en y_train:\")\n",
        "print(y_train2.value_counts(normalize=True))\n",
        "\n",
        "print(\"\\nProporción de clases en y_test:\")\n",
        "print(y_test2.value_counts(normalize=True))"
      ],
      "metadata": {
        "colab": {
          "base_uri": "https://localhost:8080/"
        },
        "id": "2CaKFw74LgHF",
        "outputId": "fe3f9925-bf13-467f-bc6f-63857cba4635"
      },
      "execution_count": 173,
      "outputs": [
        {
          "output_type": "stream",
          "name": "stdout",
          "text": [
            "Proporción de clases en y_train:\n",
            "label\n",
            "2    0.1\n",
            "9    0.1\n",
            "6    0.1\n",
            "0    0.1\n",
            "3    0.1\n",
            "4    0.1\n",
            "5    0.1\n",
            "8    0.1\n",
            "7    0.1\n",
            "1    0.1\n",
            "Name: proportion, dtype: float64\n",
            "\n",
            "Proporción de clases en y_test:\n",
            "label\n",
            "0    0.1\n",
            "1    0.1\n",
            "2    0.1\n",
            "3    0.1\n",
            "8    0.1\n",
            "6    0.1\n",
            "5    0.1\n",
            "4    0.1\n",
            "7    0.1\n",
            "9    0.1\n",
            "Name: proportion, dtype: float64\n"
          ]
        }
      ]
    },
    {
      "cell_type": "markdown",
      "source": [
        "Normalizamos los datos utilizando el mismo objeto instanciado en el anterior ejercicio."
      ],
      "metadata": {
        "id": "3g87_lBHUQ5Q"
      }
    },
    {
      "cell_type": "code",
      "source": [
        "# Normalizar características solo en los conjuntos de entrenamiento y prueba\n",
        "X_train_scaled2 = scaler.fit_transform(X_train2)\n",
        "X_test_scaled2 = scaler.transform(X_test2)\n",
        "print(X_train_scaled2)\n",
        "print('-'*30)\n",
        "print(X_test_scaled2)"
      ],
      "metadata": {
        "colab": {
          "base_uri": "https://localhost:8080/"
        },
        "id": "oaDv_ecALkrF",
        "outputId": "bcc3d666-6b5d-43ce-dc92-298860b2d084"
      },
      "execution_count": 174,
      "outputs": [
        {
          "output_type": "stream",
          "name": "stdout",
          "text": [
            "[[-0.00950488 -0.02269303 -0.02890692 ... -0.15825831 -0.09143181\n",
            "  -0.03304557]\n",
            " [-0.00950488 -0.02269303 -0.02890692 ... -0.15825831 -0.09143181\n",
            "  -0.03304557]\n",
            " [-0.00950488 -0.02269303 -0.02890692 ... -0.15825831 -0.09143181\n",
            "  -0.03304557]\n",
            " ...\n",
            " [-0.00950488 -0.02269303 -0.02890692 ... -0.15825831 -0.09143181\n",
            "  -0.03304557]\n",
            " [-0.00950488 -0.02269303 -0.02890692 ... -0.15825831 -0.09143181\n",
            "  -0.03304557]\n",
            " [-0.00950488 -0.02269303 -0.02890692 ... -0.15825831 -0.09143181\n",
            "  -0.03304557]]\n",
            "------------------------------\n",
            "[[-0.00950488 -0.02269303 -0.02890692 ... -0.15825831 -0.09143181\n",
            "  -0.03304557]\n",
            " [-0.00950488 -0.02269303 -0.02890692 ... -0.15825831 -0.09143181\n",
            "  -0.03304557]\n",
            " [-0.00950488 -0.02269303 -0.02890692 ... -0.15825831 -0.09143181\n",
            "  -0.03304557]\n",
            " ...\n",
            " [-0.00950488 -0.02269303 -0.02890692 ... -0.15825831  0.0154414\n",
            "  -0.03304557]\n",
            " [-0.00950488  3.66723055  2.4254542  ... -0.15825831 -0.09143181\n",
            "  -0.03304557]\n",
            " [-0.00950488 -0.02269303 -0.02890692 ... -0.15825831 -0.09143181\n",
            "  -0.03304557]]\n"
          ]
        }
      ]
    },
    {
      "cell_type": "markdown",
      "source": [
        "Ahora entonces, obtenemos los valores de thita con un lambda = 500 y lo almacenamos en all_theta2."
      ],
      "metadata": {
        "id": "5XeGGWzdUZk-"
      }
    },
    {
      "cell_type": "code",
      "source": [
        "num_labels2 = len(np.unique(y_train2))\n",
        "print(num_labels)\n",
        "\n",
        "print('valor de m:',m)\n",
        "print('valor de n:',n)\n",
        "lambda_ = 500\n",
        "all_theta2 = oneVsAll(X_train_scaled2, y_train2, num_labels2, lambda_)\n",
        "print('--------------------Salida-----------------')\n",
        "print(all_theta2.shape)\n",
        "\n",
        "print(all_theta2)"
      ],
      "metadata": {
        "colab": {
          "base_uri": "https://localhost:8080/"
        },
        "id": "bKI_KPofL89f",
        "outputId": "0df1096a-f28f-4d07-bf7e-7ebdf1ef1155"
      },
      "execution_count": 175,
      "outputs": [
        {
          "output_type": "stream",
          "name": "stdout",
          "text": [
            "4\n",
            "valor de m: 284500\n",
            "valor de n: 72\n",
            "------------------\n",
            "valor n: 784\n",
            "valor m: 60000\n",
            "valor de c: 0\n",
            "valor de c: 1\n",
            "valor de c: 2\n",
            "valor de c: 3\n",
            "valor de c: 4\n",
            "valor de c: 5\n",
            "valor de c: 6\n",
            "valor de c: 7\n",
            "valor de c: 8\n",
            "valor de c: 9\n",
            "--------------------Salida-----------------\n",
            "(10, 785)\n",
            "[[-4.19203822e+00 -1.27721520e-02  5.40792758e-03 ... -3.61708201e-02\n",
            "  -2.13524258e-02  1.86061837e-02]\n",
            " [-5.10079717e+00 -1.62661942e-03 -1.14278854e-03 ... -1.28564859e-02\n",
            "  -9.54261129e-04 -1.10786702e-02]\n",
            " [-4.40783269e+00 -1.88951375e-02 -8.48020889e-04 ...  6.11977686e-02\n",
            "  -4.64802024e-03  1.04722652e-02]\n",
            " ...\n",
            " [-5.06038665e+00  1.02775068e-03  4.12622940e-03 ... -1.78747438e-03\n",
            "  -8.16392419e-03 -1.63802752e-02]\n",
            " [-4.98832429e+00 -2.34581613e-02  2.28329576e-02 ... -4.04344059e-02\n",
            "  -2.49447166e-02 -1.72011899e-02]\n",
            " [-5.04109097e+00 -5.53518583e-04  1.30541258e-02 ... -8.92382834e-03\n",
            "   1.91788404e-02  1.27491479e-02]]\n"
          ]
        }
      ]
    },
    {
      "cell_type": "markdown",
      "source": [
        "Obtenemos las predicciones (y predichas) con la funcion predictOneVsAll usando argmax."
      ],
      "metadata": {
        "id": "F6qi84eBU-r4"
      }
    },
    {
      "cell_type": "code",
      "source": [
        "predicciones2 = predictOneVsAll(all_theta2, X_test_scaled2)\n",
        "predicciones_df2 = pd.DataFrame({'Predicciones': predicciones2})\n",
        "print(predicciones_df2)"
      ],
      "metadata": {
        "colab": {
          "base_uri": "https://localhost:8080/"
        },
        "id": "K5tJONzkNECp",
        "outputId": "936cf2ae-14e6-4c23-fd56-44c9937a8ae6"
      },
      "execution_count": 176,
      "outputs": [
        {
          "output_type": "stream",
          "name": "stdout",
          "text": [
            "      Predicciones\n",
            "0                0\n",
            "1                1\n",
            "2                2\n",
            "3                2\n",
            "4                4\n",
            "...            ...\n",
            "9995             0\n",
            "9996             6\n",
            "9997             8\n",
            "9998             6\n",
            "9999             2\n",
            "\n",
            "[10000 rows x 1 columns]\n"
          ]
        }
      ]
    },
    {
      "cell_type": "markdown",
      "source": [
        "Realizamos un mapeo al valor de texto equivalente a las categorías de la clasificación, esto con el objetivo de realizar una posterior comparación con las imágenes y sea más facil de reconocer las predicciones. (se tradujo a español los textos)"
      ],
      "metadata": {
        "id": "VZPk_0W-VVyn"
      }
    },
    {
      "cell_type": "code",
      "source": [
        "mapeo = {\n",
        "    0: 'Camiseta/Top',\n",
        "    1: 'Pantalón',\n",
        "    2: 'Sudadera',\n",
        "    3: 'Vestido',\n",
        "    4: 'Abrigo',\n",
        "    5: 'Sandalia',\n",
        "    6: 'Camisa',\n",
        "    7: 'Zapatilla deportiva',\n",
        "    8: 'Bolso',\n",
        "    9: 'Botín'\n",
        "}\n",
        "predicciones_df2['Predicciones_Texto'] = predicciones_df2['Predicciones'].map(mapeo)\n",
        "print(predicciones_df2)"
      ],
      "metadata": {
        "colab": {
          "base_uri": "https://localhost:8080/"
        },
        "id": "WEX0qjyvQVVj",
        "outputId": "82e21529-0398-46a1-d4b8-540574b82d86"
      },
      "execution_count": 177,
      "outputs": [
        {
          "output_type": "stream",
          "name": "stdout",
          "text": [
            "      Predicciones Predicciones_Texto\n",
            "0                0       Camiseta/Top\n",
            "1                1           Pantalón\n",
            "2                2           Sudadera\n",
            "3                2           Sudadera\n",
            "4                4             Abrigo\n",
            "...            ...                ...\n",
            "9995             0       Camiseta/Top\n",
            "9996             6             Camisa\n",
            "9997             8              Bolso\n",
            "9998             6             Camisa\n",
            "9999             2           Sudadera\n",
            "\n",
            "[10000 rows x 2 columns]\n"
          ]
        }
      ]
    },
    {
      "cell_type": "markdown",
      "source": [
        "Antes de comparar con las imagenes, se realiza el cálculo de la precisión del modelo mediante accuracy_score y obtenemos:"
      ],
      "metadata": {
        "id": "MckgfHlQVpBG"
      }
    },
    {
      "cell_type": "code",
      "source": [
        "print(y_test2)\n",
        "\n",
        "precision2 = accuracy_score(y_test2, predicciones_df2['Predicciones'])\n",
        "print(\"Precisión del modelo:\", precision2)"
      ],
      "metadata": {
        "colab": {
          "base_uri": "https://localhost:8080/"
        },
        "id": "oaWwITE0N_Ha",
        "outputId": "a86539f2-2f42-46d6-a96f-4b5e8996da83"
      },
      "execution_count": 178,
      "outputs": [
        {
          "output_type": "stream",
          "name": "stdout",
          "text": [
            "0       0\n",
            "1       1\n",
            "2       2\n",
            "3       2\n",
            "4       3\n",
            "       ..\n",
            "9995    0\n",
            "9996    6\n",
            "9997    8\n",
            "9998    8\n",
            "9999    1\n",
            "Name: label, Length: 10000, dtype: int64\n",
            "Precisión del modelo: 0.8511\n"
          ]
        }
      ]
    },
    {
      "cell_type": "markdown",
      "source": [
        "Como se puede observar, se obtuvo un valor de 0.85, que significa una precisión del 85%, este resultado es satisfactorio completando el ejercicio. Sin embargo, para motivos de visibilidad de los resultados, se visualizará las imágenes conjunto a su predicción."
      ],
      "metadata": {
        "id": "bY-md8rGVzID"
      }
    },
    {
      "cell_type": "code",
      "source": [
        "print(X_test2)"
      ],
      "metadata": {
        "colab": {
          "base_uri": "https://localhost:8080/"
        },
        "id": "ld7erbAUPcqZ",
        "outputId": "3fdcafbc-6568-43c8-a569-b4b0db36d3da"
      },
      "execution_count": 179,
      "outputs": [
        {
          "output_type": "stream",
          "name": "stdout",
          "text": [
            "      pixel1  pixel2  pixel3  pixel4  pixel5  pixel6  pixel7  pixel8  pixel9  \\\n",
            "0          0       0       0       0       0       0       0       9       8   \n",
            "1          0       0       0       0       0       0       0       0       0   \n",
            "2          0       0       0       0       0       0      14      53      99   \n",
            "3          0       0       0       0       0       0       0       0       0   \n",
            "4          0       0       0       0       0       0       0       0       0   \n",
            "...      ...     ...     ...     ...     ...     ...     ...     ...     ...   \n",
            "9995       0       0       0       0       0       0       0       0       0   \n",
            "9996       0       0       0       0       0       0       0       0       0   \n",
            "9997       0       0       0       0       0       0       0       0       0   \n",
            "9998       0       1       3       0       0       0       0       0       0   \n",
            "9999       0       0       0       0       0       0       0     140     119   \n",
            "\n",
            "      pixel10  ...  pixel775  pixel776  pixel777  pixel778  pixel779  \\\n",
            "0           0  ...       103        87        56         0         0   \n",
            "1           0  ...        34         0         0         0         0   \n",
            "2          17  ...         0         0         0         0        63   \n",
            "3         161  ...       137       126       140         0       133   \n",
            "4           0  ...         0         0         0         0         0   \n",
            "...       ...  ...       ...       ...       ...       ...       ...   \n",
            "9995       37  ...        32        23        14        20         0   \n",
            "9996        0  ...         0         0         0         2        52   \n",
            "9997        0  ...       175       172       172       182       199   \n",
            "9998        0  ...         0         0         0         0         0   \n",
            "9999      103  ...       111        95        75        44         1   \n",
            "\n",
            "      pixel780  pixel781  pixel782  pixel783  pixel784  \n",
            "0            0         0         0         0         0  \n",
            "1            0         0         0         0         0  \n",
            "2           53        31         0         0         0  \n",
            "3          224       222        56         0         0  \n",
            "4            0         0         0         0         0  \n",
            "...        ...       ...       ...       ...       ...  \n",
            "9995         0         1         0         0         0  \n",
            "9996        23        28         0         0         0  \n",
            "9997       222        42         0         1         0  \n",
            "9998         1         0         0         0         0  \n",
            "9999         0         0         0         0         0  \n",
            "\n",
            "[10000 rows x 784 columns]\n"
          ]
        }
      ]
    },
    {
      "cell_type": "markdown",
      "source": [
        "### Visualización de una imagen y su predicción según un único índice"
      ],
      "metadata": {
        "id": "0S-l9wSPWJ2z"
      }
    },
    {
      "cell_type": "markdown",
      "source": [
        "El codigo inferior nos sirve para visualizar la imagen mediante matplotlib.pyplot, además para poder comparar con la predicción se imprime según el mismo índice, la prediccion realizada que se transformo de número a texto."
      ],
      "metadata": {
        "id": "mfASVHNLWQ8m"
      }
    },
    {
      "cell_type": "code",
      "source": [
        "import matplotlib.pyplot as plt\n",
        "# Obtener la fila específica que deseas imprimir (por ejemplo, fila 534)\n",
        "fila_a_imprimir = X_test2.iloc[520]\n",
        "\n",
        "# Obtener las características de la fila como un array numpy\n",
        "data = fila_a_imprimir.values\n",
        "\n",
        "# Reorganizar los datos en una matriz 28x28 para representar la imagen\n",
        "image_data = data.reshape(28, 28)\n",
        "\n",
        "# Configurar el tamaño de la figura\n",
        "plt.figure(figsize=(1, 1))\n",
        "\n",
        "# Mostrar la imagen\n",
        "plt.imshow(image_data, cmap='gray')\n",
        "valor_prediccion = predicciones_df2.iloc[520]['Predicciones_Texto']\n",
        "print(valor_prediccion)\n",
        "\n",
        "plt.show()"
      ],
      "metadata": {
        "colab": {
          "base_uri": "https://localhost:8080/",
          "height": 158
        },
        "id": "DFrVpKxiSVSV",
        "outputId": "49d0ae47-a154-4a8e-8948-670cc95e95e5"
      },
      "execution_count": 180,
      "outputs": [
        {
          "output_type": "stream",
          "name": "stdout",
          "text": [
            "Sandalia\n"
          ]
        },
        {
          "output_type": "display_data",
          "data": {
            "text/plain": [
              "<Figure size 100x100 with 1 Axes>"
            ],
            "image/png": "[encoded data removed]"
          },
          "metadata": {}
        }
      ]
    },
    {
      "cell_type": "markdown",
      "source": [
        "Finalmente una vez comprobado el funcionamiento anterior, se realiza una iteración para mostrar 20 imagenes junto a su respectiva predicción utilizando 20 valores aleatorios dentro del rango de las predicciones.\n",
        "\n"
      ],
      "metadata": {
        "id": "eofaPMFbWqxy"
      }
    },
    {
      "cell_type": "code",
      "source": [
        "\n",
        "# Obtener 20 índices aleatorios dentro del rango de predicciones_df2\n",
        "indices_aleatorios = random.sample(range(len(predicciones_df2)), 20)\n",
        "\n",
        "# Configurar el tamaño de la figura para mostrar varias imágenes\n",
        "plt.figure(figsize=(10, 5))\n",
        "\n",
        "# Iterar sobre los índices aleatorios\n",
        "for i, idx in enumerate(indices_aleatorios):\n",
        "    # Obtener la fila específica que deseas imprimir\n",
        "    fila_a_imprimir = X_test2.iloc[idx]\n",
        "    # Obtener las características de la fila como un array numpy\n",
        "    data = fila_a_imprimir.values\n",
        "    # Reorganizar los datos en una matriz 28x28 para representar la imagen\n",
        "    image_data = data.reshape(28, 28)\n",
        "\n",
        "    # Mostrar la imagen en una subfigura\n",
        "    plt.subplot(4, 5, i + 1)\n",
        "    plt.imshow(image_data, cmap='gray')\n",
        "    plt.axis('off')  # Deshabilitar los ejes\n",
        "    valor_prediccion = predicciones_df2.iloc[idx]['Predicciones_Texto']\n",
        "    plt.title(valor_prediccion)  # Añadir el nombre como título\n",
        "\n",
        "plt.tight_layout()  # Ajustar el diseño de las subfiguras\n",
        "plt.show()"
      ],
      "metadata": {
        "colab": {
          "base_uri": "https://localhost:8080/",
          "height": 507
        },
        "id": "wqNIAToCOcQg",
        "outputId": "6847ab69-5617-4b26-d555-c4dfeb642aee"
      },
      "execution_count": 181,
      "outputs": [
        {
          "output_type": "display_data",
          "data": {
            "text/plain": [
              "<Figure size 1000x500 with 20 Axes>"
            ],
            "image/png": "[encoded data removed]"
          },
          "metadata": {}
        }
      ]
    }
  ],
  "metadata": {
    "kernelspec": {
      "display_name": "Python 3",
      "language": "python",
      "name": "python3"
    },
    "language_info": {
      "codemirror_mode": {
        "name": "ipython",
        "version": 3
      },
      "file_extension": ".py",
      "mimetype": "text/x-python",
      "name": "python",
      "nbconvert_exporter": "python",
      "pygments_lexer": "ipython3",
      "version": "3.8.5"
    },
    "colab": {
      "provenance": [],
      "include_colab_link": true
    }
  },
  "nbformat": 4,
  "nbformat_minor": 0
}